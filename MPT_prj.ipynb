{
  "nbformat": 4,
  "nbformat_minor": 0,
  "metadata": {
    "colab": {
      "provenance": [],
      "include_colab_link": true
    },
    "kernelspec": {
      "name": "python3",
      "display_name": "Python 3"
    },
    "language_info": {
      "name": "python"
    }
  },
  "cells": [
    {
      "cell_type": "markdown",
      "metadata": {
        "id": "view-in-github",
        "colab_type": "text"
      },
      "source": [
        "<a href=\"https://colab.research.google.com/github/Akshitwadhwa/Stock-modelling/blob/main/MPT_prj.ipynb\" target=\"_parent\"><img src=\"https://colab.research.google.com/assets/colab-badge.svg\" alt=\"Open In Colab\"/></a>"
      ]
    },
    {
      "cell_type": "markdown",
      "source": [
        "## This is the colab notebook made for selecting the stocks using MPT and making optimal portfolios based upon them\n"
      ],
      "metadata": {
        "id": "iB3lUMMvycWD"
      }
    },
    {
      "cell_type": "markdown",
      "source": [
        "### 1.1 What is an optimal portfolio\n",
        " An optimal portfolio is a combination of financial assets that provides the best possible return for a given level of risk or the lowest risk for a given level of return."
      ],
      "metadata": {
        "id": "ZXqV0fI16fHc"
      }
    },
    {
      "cell_type": "code",
      "source": [
        "# Importing all the neccesray import numpy as np\n",
        "import pandas as pd\n",
        "import numpy as np\n",
        "import yfinance as yf\n",
        "import matplotlib.pyplot as plt\n"
      ],
      "metadata": {
        "id": "38OO26SNL9XF"
      },
      "execution_count": null,
      "outputs": []
    },
    {
      "cell_type": "markdown",
      "source": [
        "## What is our aim\n",
        "\n",
        "**Our aim is to select 4 combinations of 6 stocks using Mpt and make a portfolio based upon them.Then for the range of 2010 to 2024 we have to see which of the 4 combination of the portfolio performed the best.**\n",
        "\n"
      ],
      "metadata": {
        "id": "NzFbW37TN2nZ"
      }
    },
    {
      "cell_type": "code",
      "source": [
        "# We have to take the stocks from the nifty fifty for the india sector so we need to take the yfinance library.\n",
        "\n",
        "\n",
        "nifty50_Stocks = [\n",
        "    \"RELIANCE.NS\", \"TCS.NS\", \"INFY.NS\", \"HDFCBANK.NS\", \"ICICIBANK.NS\", \"KOTAKBANK.NS\",\n",
        "    \"HINDUNILVR.NS\", \"SBIN.NS\", \"LT.NS\", \"ITC.NS\", \"AXISBANK.NS\", \"BAJFINANCE.NS\",\n",
        "    \"ASIANPAINT.NS\", \"MARUTI.NS\", \"SUNPHARMA.NS\", \"ULTRACEMCO.NS\", \"NESTLEIND.NS\", \"WIPRO.NS\",\n",
        "    \"NTPC.NS\", \"POWERGRID.NS\", \"COALINDIA.NS\", \"TITAN.NS\", \"TECHM.NS\", \"GRASIM.NS\",\n",
        "    \"BHARTIARTL.NS\", \"HCLTECH.NS\", \"DRREDDY.NS\", \"ADANIENT.NS\", \"BAJAJFINSV.NS\", \"TATASTEEL.NS\",\n",
        "    \"HDFCLIFE.NS\", \"SBILIFE.NS\", \"HEROMOTOCO.NS\", \"DIVISLAB.NS\", \"INDUSINDBK.NS\", \"JSWSTEEL.NS\",\n",
        "    \"CIPLA.NS\", \"EICHERMOT.NS\", \"UPL.NS\", \"BPCL.NS\", \"BRITANNIA.NS\", \"SHREECEM.NS\",\n",
        "    \"ONGC.NS\", \"APOLLOHOSP.NS\", \"BAJAJ-AUTO.NS\", \"M&M.NS\", \"HINDALCO.NS\", \"TATACONSUM.NS\",\n",
        "    \"TATAMOTORS.NS\", \"SBICARD.NS\"\n",
        "]\n",
        "#importing the nifty fifty stocks"
      ],
      "metadata": {
        "id": "CVZql2IWoHUJ"
      },
      "execution_count": null,
      "outputs": []
    },
    {
      "cell_type": "markdown",
      "source": [
        "## Filtering out the subsets of 6 stocks where from the following 50 stocks\n"
      ],
      "metadata": {
        "id": "V4uP-GropCcS"
      }
    },
    {
      "cell_type": "markdown",
      "source": [
        "### 2.1 Now we have to find the subset of the stocks and select the stocks using Mpt .\n",
        "# ***What is MPT***\n",
        "Modern Portfolio Theory (MPT), introduced by Harry Markowitz in 1952, has transformed how investors approach risk, return, and diversification.\n",
        "It revolves around constructing portfolios that maximize the expected returns for a given level of market risk..\n",
        "In Modern Portfolio Theory, risk is measured by the standard deviation of portfolio returns, while return is the expected value of these returns. ***The main goal is to achieve the highest possible return for your desired risk level.***"
      ],
      "metadata": {
        "id": "Hg-IWdsKqdg-"
      }
    },
    {
      "cell_type": "code",
      "source": [
        "# firstly we are going to begin with downloading the Histoical data from the time length we need which is 2010 to 2024.\n",
        "# we are going to take from april 2010 so april 2024\n",
        "\n",
        "data = yf.download(nifty50_Stocks, start=\"2010-04-01\", end=\"2024-04-01\")\n",
        "returns = data.pct_change().dropna()\n",
        "# this will remove all the null values.\n"
      ],
      "metadata": {
        "id": "1V1TTR0vrb52",
        "colab": {
          "base_uri": "https://localhost:8080/"
        },
        "outputId": "d96c14bb-08de-4eca-dc38-f186751df748"
      },
      "execution_count": null,
      "outputs": [
        {
          "output_type": "stream",
          "name": "stderr",
          "text": [
            "[*********************100%***********************]  50 of 50 completed\n"
          ]
        }
      ]
    },
    {
      "cell_type": "code",
      "source": [
        "# we see that the data of all those stocks has been downloded\n"
      ],
      "metadata": {
        "id": "gIQ-6F85qVuu"
      },
      "execution_count": null,
      "outputs": []
    },
    {
      "cell_type": "markdown",
      "source": [
        "### 2.2 Now our aim is to create a efficient frontier which is that offers the highest expected return for a given risk or lowest risk for a given return.\n",
        "\n",
        "## Methodology-\n",
        "From the Nifty 50 take **4 combinations of 6-stock portfolios** where 2 same stocks have to be present in each combination with 4 stocks being differnt in each of the following.\n",
        "\n",
        "### 2.3 The forumula to calculate the sharpe ration is--\n",
        "(mean return - risk rate)/volatility"
      ],
      "metadata": {
        "id": "JkXCliC-0Sv4"
      }
    },
    {
      "cell_type": "code",
      "source": [
        "# Calculating the Sharpe Ratio of all the stocks and picking the two with the highest for the given timeline\n",
        "mean_returns = returns.mean() * 252#\n",
        "# mean returns of all the stocks\n",
        "volatility = returns.std() * np.sqrt(252)\n",
        "# the volatility return of the stock\n",
        "risk_rate = 0.06\n",
        "# the risk rate of the stocks\n",
        "sharpe_ratios = (mean_returns - risk_rate) / volatility\n",
        "top18_sorted_stocks = sharpe_ratios.sort_values(ascending=False).head(18).sort_values(ascending=False)"
      ],
      "metadata": {
        "id": "uEy48eaO0OAt"
      },
      "execution_count": null,
      "outputs": []
    },
    {
      "cell_type": "code",
      "source": [
        "top18_sorted_stocks\n",
        "# this will tell those stocks which had the higehest sharpe ratio in the time limit which is from 2010 to 2014"
      ],
      "metadata": {
        "colab": {
          "base_uri": "https://localhost:8080/",
          "height": 672
        },
        "id": "P9YpifyAA1jn",
        "outputId": "f8ed8150-48a6-4f04-8b68-7f41ed34eff2"
      },
      "execution_count": null,
      "outputs": [
        {
          "output_type": "execute_result",
          "data": {
            "text/plain": [
              "Price   Ticker       \n",
              "Volume  UPL.NS           3.443352\n",
              "        HDFCLIFE.NS      3.398176\n",
              "        EICHERMOT.NS     3.289822\n",
              "        APOLLOHOSP.NS    3.281140\n",
              "        ONGC.NS          3.280355\n",
              "        BHARTIARTL.NS    3.245630\n",
              "        COALINDIA.NS     3.240663\n",
              "        HEROMOTOCO.NS    3.202499\n",
              "        POWERGRID.NS     3.199888\n",
              "        WIPRO.NS         3.197758\n",
              "        ADANIENT.NS      3.196498\n",
              "        SUNPHARMA.NS     3.172674\n",
              "        SBILIFE.NS       3.159413\n",
              "        NESTLEIND.NS     3.138170\n",
              "        NTPC.NS          3.135915\n",
              "        ITC.NS           3.108323\n",
              "        ASIANPAINT.NS    3.106674\n",
              "        CIPLA.NS         3.097174\n",
              "dtype: float64"
            ],
            "text/html": [
              "<div>\n",
              "<style scoped>\n",
              "    .dataframe tbody tr th:only-of-type {\n",
              "        vertical-align: middle;\n",
              "    }\n",
              "\n",
              "    .dataframe tbody tr th {\n",
              "        vertical-align: top;\n",
              "    }\n",
              "\n",
              "    .dataframe thead th {\n",
              "        text-align: right;\n",
              "    }\n",
              "</style>\n",
              "<table border=\"1\" class=\"dataframe\">\n",
              "  <thead>\n",
              "    <tr style=\"text-align: right;\">\n",
              "      <th></th>\n",
              "      <th></th>\n",
              "      <th>0</th>\n",
              "    </tr>\n",
              "    <tr>\n",
              "      <th>Price</th>\n",
              "      <th>Ticker</th>\n",
              "      <th></th>\n",
              "    </tr>\n",
              "  </thead>\n",
              "  <tbody>\n",
              "    <tr>\n",
              "      <th rowspan=\"18\" valign=\"top\">Volume</th>\n",
              "      <th>UPL.NS</th>\n",
              "      <td>3.443352</td>\n",
              "    </tr>\n",
              "    <tr>\n",
              "      <th>HDFCLIFE.NS</th>\n",
              "      <td>3.398176</td>\n",
              "    </tr>\n",
              "    <tr>\n",
              "      <th>EICHERMOT.NS</th>\n",
              "      <td>3.289822</td>\n",
              "    </tr>\n",
              "    <tr>\n",
              "      <th>APOLLOHOSP.NS</th>\n",
              "      <td>3.281140</td>\n",
              "    </tr>\n",
              "    <tr>\n",
              "      <th>ONGC.NS</th>\n",
              "      <td>3.280355</td>\n",
              "    </tr>\n",
              "    <tr>\n",
              "      <th>BHARTIARTL.NS</th>\n",
              "      <td>3.245630</td>\n",
              "    </tr>\n",
              "    <tr>\n",
              "      <th>COALINDIA.NS</th>\n",
              "      <td>3.240663</td>\n",
              "    </tr>\n",
              "    <tr>\n",
              "      <th>HEROMOTOCO.NS</th>\n",
              "      <td>3.202499</td>\n",
              "    </tr>\n",
              "    <tr>\n",
              "      <th>POWERGRID.NS</th>\n",
              "      <td>3.199888</td>\n",
              "    </tr>\n",
              "    <tr>\n",
              "      <th>WIPRO.NS</th>\n",
              "      <td>3.197758</td>\n",
              "    </tr>\n",
              "    <tr>\n",
              "      <th>ADANIENT.NS</th>\n",
              "      <td>3.196498</td>\n",
              "    </tr>\n",
              "    <tr>\n",
              "      <th>SUNPHARMA.NS</th>\n",
              "      <td>3.172674</td>\n",
              "    </tr>\n",
              "    <tr>\n",
              "      <th>SBILIFE.NS</th>\n",
              "      <td>3.159413</td>\n",
              "    </tr>\n",
              "    <tr>\n",
              "      <th>NESTLEIND.NS</th>\n",
              "      <td>3.138170</td>\n",
              "    </tr>\n",
              "    <tr>\n",
              "      <th>NTPC.NS</th>\n",
              "      <td>3.135915</td>\n",
              "    </tr>\n",
              "    <tr>\n",
              "      <th>ITC.NS</th>\n",
              "      <td>3.108323</td>\n",
              "    </tr>\n",
              "    <tr>\n",
              "      <th>ASIANPAINT.NS</th>\n",
              "      <td>3.106674</td>\n",
              "    </tr>\n",
              "    <tr>\n",
              "      <th>CIPLA.NS</th>\n",
              "      <td>3.097174</td>\n",
              "    </tr>\n",
              "  </tbody>\n",
              "</table>\n",
              "</div><br><label><b>dtype:</b> float64</label>"
            ]
          },
          "metadata": {},
          "execution_count": 99
        }
      ]
    },
    {
      "cell_type": "markdown",
      "source": [
        "## 3.Making the neccesary portfolios--\n",
        "Now using these stock we have to make a portfolio which is going to have 2 unique stocks in all the portfolios."
      ],
      "metadata": {
        "id": "Tzg9tX3XA08Z"
      }
    },
    {
      "cell_type": "code",
      "source": [
        "constant_stocks = top18_sorted_stocks[:2]\n",
        "remaining_stocks = top18_sorted_stocks[2:]\n",
        "\n",
        "constant_stocks\n",
        "# these two are going to be the constant stocks we are going to use in the portfolios\n"
      ],
      "metadata": {
        "colab": {
          "base_uri": "https://localhost:8080/",
          "height": 176
        },
        "id": "LA9GI7jWG3uO",
        "outputId": "326823cf-6b01-4b5f-c348-db3a030d7ee9"
      },
      "execution_count": null,
      "outputs": [
        {
          "output_type": "execute_result",
          "data": {
            "text/plain": [
              "Price   Ticker     \n",
              "Volume  UPL.NS         3.443352\n",
              "        HDFCLIFE.NS    3.398176\n",
              "dtype: float64"
            ],
            "text/html": [
              "<div>\n",
              "<style scoped>\n",
              "    .dataframe tbody tr th:only-of-type {\n",
              "        vertical-align: middle;\n",
              "    }\n",
              "\n",
              "    .dataframe tbody tr th {\n",
              "        vertical-align: top;\n",
              "    }\n",
              "\n",
              "    .dataframe thead th {\n",
              "        text-align: right;\n",
              "    }\n",
              "</style>\n",
              "<table border=\"1\" class=\"dataframe\">\n",
              "  <thead>\n",
              "    <tr style=\"text-align: right;\">\n",
              "      <th></th>\n",
              "      <th></th>\n",
              "      <th>0</th>\n",
              "    </tr>\n",
              "    <tr>\n",
              "      <th>Price</th>\n",
              "      <th>Ticker</th>\n",
              "      <th></th>\n",
              "    </tr>\n",
              "  </thead>\n",
              "  <tbody>\n",
              "    <tr>\n",
              "      <th rowspan=\"2\" valign=\"top\">Volume</th>\n",
              "      <th>UPL.NS</th>\n",
              "      <td>3.443352</td>\n",
              "    </tr>\n",
              "    <tr>\n",
              "      <th>HDFCLIFE.NS</th>\n",
              "      <td>3.398176</td>\n",
              "    </tr>\n",
              "  </tbody>\n",
              "</table>\n",
              "</div><br><label><b>dtype:</b> float64</label>"
            ]
          },
          "metadata": {},
          "execution_count": 100
        }
      ]
    },
    {
      "cell_type": "markdown",
      "source": [
        "### 3.1 A higher sharpe ration simblies that there is a very efficient risk-reward ratio which directly means more return per unit of risk."
      ],
      "metadata": {
        "id": "5DSo7ExcIsZT"
      }
    },
    {
      "cell_type": "markdown",
      "source": [
        "### 3.1 so the two stocks come out to be common in all"
      ],
      "metadata": {
        "id": "EF8_S3n-HlqK"
      }
    },
    {
      "cell_type": "code",
      "source": [
        "portfolios = []\n",
        "for i in range(4):\n",
        "  # to define the no of portfolios\n",
        "    others = remaining_stocks[i*4:(i+1)*4]\n",
        "    portfolios.append(constant_stocks + others)\n",
        "# what this algorithm is doing is that it is selected these stocks randomly from the timeline of 2010 to 2024\n",
        "\n",
        "portfolios"
      ],
      "metadata": {
        "colab": {
          "base_uri": "https://localhost:8080/"
        },
        "id": "KeuYZiWOHrhW",
        "outputId": "0e2bbae3-cff7-4f72-8d5c-d9e5ba764828"
      },
      "execution_count": null,
      "outputs": [
        {
          "output_type": "execute_result",
          "data": {
            "text/plain": [
              "[Price   Ticker       \n",
              " Volume  APOLLOHOSP.NS   NaN\n",
              "         BHARTIARTL.NS   NaN\n",
              "         EICHERMOT.NS    NaN\n",
              "         HDFCLIFE.NS     NaN\n",
              "         ONGC.NS         NaN\n",
              "         UPL.NS          NaN\n",
              " dtype: float64,\n",
              " Price   Ticker       \n",
              " Volume  COALINDIA.NS    NaN\n",
              "         HDFCLIFE.NS     NaN\n",
              "         HEROMOTOCO.NS   NaN\n",
              "         POWERGRID.NS    NaN\n",
              "         UPL.NS          NaN\n",
              "         WIPRO.NS        NaN\n",
              " dtype: float64,\n",
              " Price   Ticker      \n",
              " Volume  ADANIENT.NS    NaN\n",
              "         HDFCLIFE.NS    NaN\n",
              "         NESTLEIND.NS   NaN\n",
              "         SBILIFE.NS     NaN\n",
              "         SUNPHARMA.NS   NaN\n",
              "         UPL.NS         NaN\n",
              " dtype: float64,\n",
              " Price   Ticker       \n",
              " Volume  ASIANPAINT.NS   NaN\n",
              "         CIPLA.NS        NaN\n",
              "         HDFCLIFE.NS     NaN\n",
              "         ITC.NS          NaN\n",
              "         NTPC.NS         NaN\n",
              "         UPL.NS          NaN\n",
              " dtype: float64]"
            ]
          },
          "metadata": {},
          "execution_count": 124
        }
      ]
    },
    {
      "cell_type": "code",
      "source": [
        "# #  port_return = np.dot(weights, mean_ret) * 252\n",
        "#     port_volatility = np.sqrt(np.dot(weights.T, np.dot(cov_matrix, weights))) * np.sqrt(252)\n",
        "#     sharpe = (port_return - risk_free_rate) / port_volatility\n",
        "#     return sharpe"
      ],
      "metadata": {
        "id": "BD_H1UvhQ_P_"
      },
      "execution_count": null,
      "outputs": []
    },
    {
      "cell_type": "code",
      "source": [
        "def calc_portfolio_sharpe(stocks, returns, risk_rate=0.06):\n",
        "    data = returns[stocks].dropna()\n",
        "    mean_ret = data.mean()\n",
        "    cov_matrix = data.cov()\n",
        "    weights = np.array([1 / len(stocks)] * len(stocks))\n",
        "\n",
        "prices = yf.download(nifty50_Stocks,  start=\"2010-04-01\", end=\"2024-04-01\")"
      ],
      "metadata": {
        "colab": {
          "base_uri": "https://localhost:8080/"
        },
        "id": "vaaxffofL8uJ",
        "outputId": "120eeb0c-e09c-4e5f-8bc9-12f05b86d6c3"
      },
      "execution_count": null,
      "outputs": [
        {
          "output_type": "stream",
          "name": "stderr",
          "text": [
            "[*********************100%***********************]  50 of 50 completed\n"
          ]
        }
      ]
    },
    {
      "cell_type": "code",
      "source": [
        "for i, portfolio in enumerate(portfolios, 1):\n",
        "    available_stocks = [stock for stock in portfolio if stock in prices.columns]\n",
        "    if not available_stocks:\n",
        "        print(f\"Portfolio {i} has no valid stocks available in price data.\")\n",
        "        continue\n",
        "for i, portfolio in enumerate(portfolios, 1):\n",
        "    portfolio_prices = prices[portfolio]  # Adjusted Close prices for the portfolio\n",
        "    portfolio_prices.plot(figsize=(10, 6))  # Plot each portfolio's stocks\n",
        "\n",
        "\n",
        "    portfolio_prices = prices[available_stocks]\n",
        "\n"
      ],
      "metadata": {
        "colab": {
          "base_uri": "https://localhost:8080/",
          "height": 418
        },
        "id": "TqyTnUSTN86M",
        "outputId": "f89e911a-bf95-4585-c632-93956b2a0100"
      },
      "execution_count": null,
      "outputs": [
        {
          "output_type": "stream",
          "name": "stdout",
          "text": [
            "Portfolio 1 has no valid stocks available in price data.\n",
            "Portfolio 2 has no valid stocks available in price data.\n",
            "Portfolio 3 has no valid stocks available in price data.\n",
            "Portfolio 4 has no valid stocks available in price data.\n"
          ]
        },
        {
          "output_type": "error",
          "ename": "KeyError",
          "evalue": "'[nan nan nan nan nan nan] not in index'",
          "traceback": [
            "\u001b[0;31m---------------------------------------------------------------------------\u001b[0m",
            "\u001b[0;31mKeyError\u001b[0m                                  Traceback (most recent call last)",
            "\u001b[0;32m<ipython-input-123-3489816028fa>\u001b[0m in \u001b[0;36m<cell line: 0>\u001b[0;34m()\u001b[0m\n\u001b[1;32m      5\u001b[0m         \u001b[0;32mcontinue\u001b[0m\u001b[0;34m\u001b[0m\u001b[0;34m\u001b[0m\u001b[0m\n\u001b[1;32m      6\u001b[0m \u001b[0;32mfor\u001b[0m \u001b[0mi\u001b[0m\u001b[0;34m,\u001b[0m \u001b[0mportfolio\u001b[0m \u001b[0;32min\u001b[0m \u001b[0menumerate\u001b[0m\u001b[0;34m(\u001b[0m\u001b[0mportfolios\u001b[0m\u001b[0;34m,\u001b[0m \u001b[0;36m1\u001b[0m\u001b[0;34m)\u001b[0m\u001b[0;34m:\u001b[0m\u001b[0;34m\u001b[0m\u001b[0;34m\u001b[0m\u001b[0m\n\u001b[0;32m----> 7\u001b[0;31m     \u001b[0mportfolio_prices\u001b[0m \u001b[0;34m=\u001b[0m \u001b[0mprices\u001b[0m\u001b[0;34m[\u001b[0m\u001b[0mportfolio\u001b[0m\u001b[0;34m]\u001b[0m  \u001b[0;31m# Adjusted Close prices for the portfolio\u001b[0m\u001b[0;34m\u001b[0m\u001b[0;34m\u001b[0m\u001b[0m\n\u001b[0m\u001b[1;32m      8\u001b[0m     \u001b[0mportfolio_prices\u001b[0m\u001b[0;34m.\u001b[0m\u001b[0mplot\u001b[0m\u001b[0;34m(\u001b[0m\u001b[0mfigsize\u001b[0m\u001b[0;34m=\u001b[0m\u001b[0;34m(\u001b[0m\u001b[0;36m10\u001b[0m\u001b[0;34m,\u001b[0m \u001b[0;36m6\u001b[0m\u001b[0;34m)\u001b[0m\u001b[0;34m)\u001b[0m  \u001b[0;31m# Plot each portfolio's stocks\u001b[0m\u001b[0;34m\u001b[0m\u001b[0;34m\u001b[0m\u001b[0m\n\u001b[1;32m      9\u001b[0m \u001b[0;34m\u001b[0m\u001b[0m\n",
            "\u001b[0;32m/usr/local/lib/python3.11/dist-packages/pandas/core/frame.py\u001b[0m in \u001b[0;36m__getitem__\u001b[0;34m(self, key)\u001b[0m\n\u001b[1;32m   4106\u001b[0m             \u001b[0;32mif\u001b[0m \u001b[0mis_iterator\u001b[0m\u001b[0;34m(\u001b[0m\u001b[0mkey\u001b[0m\u001b[0;34m)\u001b[0m\u001b[0;34m:\u001b[0m\u001b[0;34m\u001b[0m\u001b[0;34m\u001b[0m\u001b[0m\n\u001b[1;32m   4107\u001b[0m                 \u001b[0mkey\u001b[0m \u001b[0;34m=\u001b[0m \u001b[0mlist\u001b[0m\u001b[0;34m(\u001b[0m\u001b[0mkey\u001b[0m\u001b[0;34m)\u001b[0m\u001b[0;34m\u001b[0m\u001b[0;34m\u001b[0m\u001b[0m\n\u001b[0;32m-> 4108\u001b[0;31m             \u001b[0mindexer\u001b[0m \u001b[0;34m=\u001b[0m \u001b[0mself\u001b[0m\u001b[0;34m.\u001b[0m\u001b[0mcolumns\u001b[0m\u001b[0;34m.\u001b[0m\u001b[0m_get_indexer_strict\u001b[0m\u001b[0;34m(\u001b[0m\u001b[0mkey\u001b[0m\u001b[0;34m,\u001b[0m \u001b[0;34m\"columns\"\u001b[0m\u001b[0;34m)\u001b[0m\u001b[0;34m[\u001b[0m\u001b[0;36m1\u001b[0m\u001b[0;34m]\u001b[0m\u001b[0;34m\u001b[0m\u001b[0;34m\u001b[0m\u001b[0m\n\u001b[0m\u001b[1;32m   4109\u001b[0m \u001b[0;34m\u001b[0m\u001b[0m\n\u001b[1;32m   4110\u001b[0m         \u001b[0;31m# take() does not accept boolean indexers\u001b[0m\u001b[0;34m\u001b[0m\u001b[0;34m\u001b[0m\u001b[0m\n",
            "\u001b[0;32m/usr/local/lib/python3.11/dist-packages/pandas/core/indexes/multi.py\u001b[0m in \u001b[0;36m_get_indexer_strict\u001b[0;34m(self, key, axis_name)\u001b[0m\n\u001b[1;32m   2761\u001b[0m             \u001b[0mindexer\u001b[0m \u001b[0;34m=\u001b[0m \u001b[0mself\u001b[0m\u001b[0;34m.\u001b[0m\u001b[0m_get_indexer_level_0\u001b[0m\u001b[0;34m(\u001b[0m\u001b[0mkeyarr\u001b[0m\u001b[0;34m)\u001b[0m\u001b[0;34m\u001b[0m\u001b[0;34m\u001b[0m\u001b[0m\n\u001b[1;32m   2762\u001b[0m \u001b[0;34m\u001b[0m\u001b[0m\n\u001b[0;32m-> 2763\u001b[0;31m             \u001b[0mself\u001b[0m\u001b[0;34m.\u001b[0m\u001b[0m_raise_if_missing\u001b[0m\u001b[0;34m(\u001b[0m\u001b[0mkey\u001b[0m\u001b[0;34m,\u001b[0m \u001b[0mindexer\u001b[0m\u001b[0;34m,\u001b[0m \u001b[0maxis_name\u001b[0m\u001b[0;34m)\u001b[0m\u001b[0;34m\u001b[0m\u001b[0;34m\u001b[0m\u001b[0m\n\u001b[0m\u001b[1;32m   2764\u001b[0m             \u001b[0;32mreturn\u001b[0m \u001b[0mself\u001b[0m\u001b[0;34m[\u001b[0m\u001b[0mindexer\u001b[0m\u001b[0;34m]\u001b[0m\u001b[0;34m,\u001b[0m \u001b[0mindexer\u001b[0m\u001b[0;34m\u001b[0m\u001b[0;34m\u001b[0m\u001b[0m\n\u001b[1;32m   2765\u001b[0m \u001b[0;34m\u001b[0m\u001b[0m\n",
            "\u001b[0;32m/usr/local/lib/python3.11/dist-packages/pandas/core/indexes/multi.py\u001b[0m in \u001b[0;36m_raise_if_missing\u001b[0;34m(self, key, indexer, axis_name)\u001b[0m\n\u001b[1;32m   2779\u001b[0m                 \u001b[0mcmask\u001b[0m \u001b[0;34m=\u001b[0m \u001b[0mcheck\u001b[0m \u001b[0;34m==\u001b[0m \u001b[0;34m-\u001b[0m\u001b[0;36m1\u001b[0m\u001b[0;34m\u001b[0m\u001b[0;34m\u001b[0m\u001b[0m\n\u001b[1;32m   2780\u001b[0m                 \u001b[0;32mif\u001b[0m \u001b[0mcmask\u001b[0m\u001b[0;34m.\u001b[0m\u001b[0many\u001b[0m\u001b[0;34m(\u001b[0m\u001b[0;34m)\u001b[0m\u001b[0;34m:\u001b[0m\u001b[0;34m\u001b[0m\u001b[0;34m\u001b[0m\u001b[0m\n\u001b[0;32m-> 2781\u001b[0;31m                     \u001b[0;32mraise\u001b[0m \u001b[0mKeyError\u001b[0m\u001b[0;34m(\u001b[0m\u001b[0;34mf\"{keyarr[cmask]} not in index\"\u001b[0m\u001b[0;34m)\u001b[0m\u001b[0;34m\u001b[0m\u001b[0;34m\u001b[0m\u001b[0m\n\u001b[0m\u001b[1;32m   2782\u001b[0m                 \u001b[0;31m# We get here when levels still contain values which are not\u001b[0m\u001b[0;34m\u001b[0m\u001b[0;34m\u001b[0m\u001b[0m\n\u001b[1;32m   2783\u001b[0m                 \u001b[0;31m# actually in Index anymore\u001b[0m\u001b[0;34m\u001b[0m\u001b[0;34m\u001b[0m\u001b[0m\n",
            "\u001b[0;31mKeyError\u001b[0m: '[nan nan nan nan nan nan] not in index'"
          ]
        }
      ]
    },
    {
      "cell_type": "code",
      "source": [
        " portfolio_prices.plot(figsize=(10, 6), title=f\"Adjusted Close Prices - Portfolio {i}\")\n",
        "    plt.xlabel(\"Date\")\n",
        "    plt.ylabel(\"Adjusted Close Price\")\n",
        "    plt.grid(True)\n",
        "    plt.legend(loc='upper left')\n",
        "    plt.show()\n",
        "    plt.show("
      ],
      "metadata": {
        "colab": {
          "base_uri": "https://localhost:8080/",
          "height": 105
        },
        "id": "m7Jkh_xLRjBX",
        "outputId": "7d83b4ee-c4b6-4861-ed51-bf0b15bf3978"
      },
      "execution_count": null,
      "outputs": [
        {
          "output_type": "error",
          "ename": "IndentationError",
          "evalue": "unexpected indent (<ipython-input-125-d8c66b0a3c12>, line 2)",
          "traceback": [
            "\u001b[0;36m  File \u001b[0;32m\"<ipython-input-125-d8c66b0a3c12>\"\u001b[0;36m, line \u001b[0;32m2\u001b[0m\n\u001b[0;31m    plt.xlabel(\"Date\")\u001b[0m\n\u001b[0m    ^\u001b[0m\n\u001b[0;31mIndentationError\u001b[0m\u001b[0;31m:\u001b[0m unexpected indent\n"
          ]
        }
      ]
    }
  ]
}