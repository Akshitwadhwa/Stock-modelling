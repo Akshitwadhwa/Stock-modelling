{
  "nbformat": 4,
  "nbformat_minor": 0,
  "metadata": {
    "colab": {
      "provenance": [],
      "include_colab_link": true
    },
    "kernelspec": {
      "name": "python3",
      "display_name": "Python 3"
    },
    "language_info": {
      "name": "python"
    }
  },
  "cells": [
    {
      "cell_type": "markdown",
      "metadata": {
        "id": "view-in-github",
        "colab_type": "text"
      },
      "source": [
        "<a href=\"https://colab.research.google.com/github/Akshitwadhwa/Stock-modelling/blob/main/MPT_prj.ipynb\" target=\"_parent\"><img src=\"https://colab.research.google.com/assets/colab-badge.svg\" alt=\"Open In Colab\"/></a>"
      ]
    },
    {
      "cell_type": "markdown",
      "source": [
        "## This is the colab notebook made for selecting the stocks using MPT and making optimal portfolios based upon them\n"
      ],
      "metadata": {
        "id": "iB3lUMMvycWD"
      }
    },
    {
      "cell_type": "markdown",
      "source": [
        "### 1.1 What is an optimal portfolio\n",
        " An optimal portfolio is a combination of financial assets that provides the best possible return for a given level of risk or the lowest risk for a given level of return."
      ],
      "metadata": {
        "id": "ZXqV0fI16fHc"
      }
    },
    {
      "cell_type": "code",
      "source": [
        "# Importing all the neccesray import numpy as np\n",
        "import pandas as pd\n",
        "import numpy as np\n",
        "import yfinance as yf\n",
        "import matplotlib.pyplot as plt\n",
        "import cvxpy as cp\n"
      ],
      "metadata": {
        "id": "38OO26SNL9XF"
      },
      "execution_count": null,
      "outputs": []
    },
    {
      "cell_type": "markdown",
      "source": [
        "## What is our aim\n",
        "\n",
        "**Our aim is to select 4 combinations of 6 stocks using Mpt and make a portfolio based upon them.Then for the range of 2010 to 2024 we have to see which of the 4 combination of the portfolio performed the best.**\n",
        "\n"
      ],
      "metadata": {
        "id": "NzFbW37TN2nZ"
      }
    },
    {
      "cell_type": "code",
      "source": [
        "# We have to take the stocks from the nifty fifty for the india sector so we need to take the yfinance library.\n",
        "\n",
        "\n",
        "nifty50_Stocks = [\n",
        "    \"RELIANCE.NS\", \"TCS.NS\", \"INFY.NS\", \"HDFCBANK.NS\", \"ICICIBANK.NS\", \"KOTAKBANK.NS\",\n",
        "    \"HINDUNILVR.NS\", \"SBIN.NS\", \"LT.NS\", \"ITC.NS\", \"AXISBANK.NS\", \"BAJFINANCE.NS\",\n",
        "    \"ASIANPAINT.NS\", \"MARUTI.NS\", \"SUNPHARMA.NS\", \"ULTRACEMCO.NS\", \"NESTLEIND.NS\", \"WIPRO.NS\",\n",
        "    \"NTPC.NS\", \"POWERGRID.NS\", \"COALINDIA.NS\", \"TITAN.NS\", \"TECHM.NS\", \"GRASIM.NS\",\n",
        "    \"BHARTIARTL.NS\", \"HCLTECH.NS\", \"DRREDDY.NS\", \"ADANIENT.NS\", \"BAJAJFINSV.NS\", \"TATASTEEL.NS\",\n",
        "    \"HDFCLIFE.NS\", \"SBILIFE.NS\", \"HEROMOTOCO.NS\", \"DIVISLAB.NS\", \"INDUSINDBK.NS\", \"JSWSTEEL.NS\",\n",
        "    \"CIPLA.NS\", \"EICHERMOT.NS\", \"UPL.NS\", \"BPCL.NS\", \"BRITANNIA.NS\", \"SHREECEM.NS\",\n",
        "    \"ONGC.NS\", \"APOLLOHOSP.NS\", \"BAJAJ-AUTO.NS\", \"M&M.NS\", \"HINDALCO.NS\", \"TATACONSUM.NS\",\n",
        "    \"TATAMOTORS.NS\", \"SBICARD.NS\"\n",
        "]\n",
        "#importing the nifty fifty stocks"
      ],
      "metadata": {
        "id": "CVZql2IWoHUJ"
      },
      "execution_count": null,
      "outputs": []
    },
    {
      "cell_type": "markdown",
      "source": [
        "## Filtering out the subsets of 6 stocks where from the following 50 stocks\n"
      ],
      "metadata": {
        "id": "V4uP-GropCcS"
      }
    },
    {
      "cell_type": "markdown",
      "source": [
        "### 2.1 Now we have to find the subset of the stocks and select the stocks using Mpt .\n",
        "# ***What is MPT***\n",
        "Modern Portfolio Theory (MPT), introduced by Harry Markowitz in 1952, has transformed how investors approach risk, return, and diversification.\n",
        "It revolves around constructing portfolios that maximize the expected returns for a given level of market risk..\n",
        "In Modern Portfolio Theory, risk is measured by the standard deviation of portfolio returns, while return is the expected value of these returns. ***The main goal is to achieve the highest possible return for your desired risk level.***"
      ],
      "metadata": {
        "id": "Hg-IWdsKqdg-"
      }
    },
    {
      "cell_type": "code",
      "source": [
        "# firstly we are going to begin with downloading the Histoical data from the time length we need which is 2010 to 2024.\n",
        "# we are going to take from april 2010 so april 2024\n",
        "\n",
        "data = yf.download(nifty50_Stocks, start=\"2010-04-01\", end=\"2024-04-01\")\n",
        "returns = data.pct_change().dropna()\n",
        "# this will remove all the null values.\n"
      ],
      "metadata": {
        "id": "1V1TTR0vrb52",
        "colab": {
          "base_uri": "https://localhost:8080/"
        },
        "outputId": "971547af-a908-4eaa-fbe9-9a343c36e156"
      },
      "execution_count": null,
      "outputs": [
        {
          "output_type": "stream",
          "name": "stdout",
          "text": [
            "YF.download() has changed argument auto_adjust default to True\n"
          ]
        },
        {
          "output_type": "stream",
          "name": "stderr",
          "text": [
            "[*********************100%***********************]  50 of 50 completed\n"
          ]
        }
      ]
    },
    {
      "cell_type": "code",
      "source": [
        "# we see that the data of all those stocks has been downloded\n"
      ],
      "metadata": {
        "id": "gIQ-6F85qVuu"
      },
      "execution_count": null,
      "outputs": []
    },
    {
      "cell_type": "markdown",
      "source": [
        "### 2.2 Now our aim is to create a efficient frontier which is that offers the highest expected return for a given risk or lowest risk for a given return.\n",
        "\n",
        "## Methodology-\n",
        "From the Nifty 50 take **4 combinations of 6-stock portfolios** where 2 same stocks have to be present in each combination with 4 stocks being differnt in each of the following.\n",
        "\n",
        "### 2.3 The forumula to calculate the sharpe ration is--\n",
        "(mean return - risk rate)/volatility"
      ],
      "metadata": {
        "id": "JkXCliC-0Sv4"
      }
    },
    {
      "cell_type": "code",
      "source": [
        "# Calculating the Sharpe Ratio of all the stocks and picking the two with the highest for the given timeline\n",
        "mean_returns = returns.mean() * 252#\n",
        "# mean returns of all the stocks\n",
        "volatility = returns.std() * np.sqrt(252)\n",
        "# the volatility return of the stock\n",
        "risk_rate = 0.06\n",
        "# the risk rate of the stocks\n",
        "sharpe_ratios = (mean_returns - risk_rate) / volatility\n",
        "top18_sorted_stocks = sharpe_ratios.sort_values(ascending=False).head(18).sort_values(ascending=False)"
      ],
      "metadata": {
        "id": "uEy48eaO0OAt"
      },
      "execution_count": null,
      "outputs": []
    },
    {
      "cell_type": "code",
      "source": [
        "top18_sorted_stocks\n",
        "# this will tell those stocks which had the higehest sharpe ratio in the time limit which is from 2010 to 2014"
      ],
      "metadata": {
        "colab": {
          "base_uri": "https://localhost:8080/",
          "height": 672
        },
        "id": "P9YpifyAA1jn",
        "outputId": "34960a9c-3f4a-42cb-fd30-8d85725c0f45"
      },
      "execution_count": null,
      "outputs": [
        {
          "output_type": "execute_result",
          "data": {
            "text/plain": [
              "Price   Ticker       \n",
              "Volume  UPL.NS           3.443352\n",
              "        HDFCLIFE.NS      3.398176\n",
              "        EICHERMOT.NS     3.289822\n",
              "        APOLLOHOSP.NS    3.281140\n",
              "        ONGC.NS          3.280355\n",
              "        BHARTIARTL.NS    3.245630\n",
              "        COALINDIA.NS     3.240663\n",
              "        HEROMOTOCO.NS    3.202499\n",
              "        POWERGRID.NS     3.199888\n",
              "        WIPRO.NS         3.197758\n",
              "        ADANIENT.NS      3.196498\n",
              "        SUNPHARMA.NS     3.172674\n",
              "        SBILIFE.NS       3.159413\n",
              "        NESTLEIND.NS     3.138170\n",
              "        NTPC.NS          3.135915\n",
              "        ITC.NS           3.108323\n",
              "        ASIANPAINT.NS    3.106674\n",
              "        CIPLA.NS         3.097174\n",
              "dtype: float64"
            ],
            "text/html": [
              "<div>\n",
              "<style scoped>\n",
              "    .dataframe tbody tr th:only-of-type {\n",
              "        vertical-align: middle;\n",
              "    }\n",
              "\n",
              "    .dataframe tbody tr th {\n",
              "        vertical-align: top;\n",
              "    }\n",
              "\n",
              "    .dataframe thead th {\n",
              "        text-align: right;\n",
              "    }\n",
              "</style>\n",
              "<table border=\"1\" class=\"dataframe\">\n",
              "  <thead>\n",
              "    <tr style=\"text-align: right;\">\n",
              "      <th></th>\n",
              "      <th></th>\n",
              "      <th>0</th>\n",
              "    </tr>\n",
              "    <tr>\n",
              "      <th>Price</th>\n",
              "      <th>Ticker</th>\n",
              "      <th></th>\n",
              "    </tr>\n",
              "  </thead>\n",
              "  <tbody>\n",
              "    <tr>\n",
              "      <th rowspan=\"18\" valign=\"top\">Volume</th>\n",
              "      <th>UPL.NS</th>\n",
              "      <td>3.443352</td>\n",
              "    </tr>\n",
              "    <tr>\n",
              "      <th>HDFCLIFE.NS</th>\n",
              "      <td>3.398176</td>\n",
              "    </tr>\n",
              "    <tr>\n",
              "      <th>EICHERMOT.NS</th>\n",
              "      <td>3.289822</td>\n",
              "    </tr>\n",
              "    <tr>\n",
              "      <th>APOLLOHOSP.NS</th>\n",
              "      <td>3.281140</td>\n",
              "    </tr>\n",
              "    <tr>\n",
              "      <th>ONGC.NS</th>\n",
              "      <td>3.280355</td>\n",
              "    </tr>\n",
              "    <tr>\n",
              "      <th>BHARTIARTL.NS</th>\n",
              "      <td>3.245630</td>\n",
              "    </tr>\n",
              "    <tr>\n",
              "      <th>COALINDIA.NS</th>\n",
              "      <td>3.240663</td>\n",
              "    </tr>\n",
              "    <tr>\n",
              "      <th>HEROMOTOCO.NS</th>\n",
              "      <td>3.202499</td>\n",
              "    </tr>\n",
              "    <tr>\n",
              "      <th>POWERGRID.NS</th>\n",
              "      <td>3.199888</td>\n",
              "    </tr>\n",
              "    <tr>\n",
              "      <th>WIPRO.NS</th>\n",
              "      <td>3.197758</td>\n",
              "    </tr>\n",
              "    <tr>\n",
              "      <th>ADANIENT.NS</th>\n",
              "      <td>3.196498</td>\n",
              "    </tr>\n",
              "    <tr>\n",
              "      <th>SUNPHARMA.NS</th>\n",
              "      <td>3.172674</td>\n",
              "    </tr>\n",
              "    <tr>\n",
              "      <th>SBILIFE.NS</th>\n",
              "      <td>3.159413</td>\n",
              "    </tr>\n",
              "    <tr>\n",
              "      <th>NESTLEIND.NS</th>\n",
              "      <td>3.138170</td>\n",
              "    </tr>\n",
              "    <tr>\n",
              "      <th>NTPC.NS</th>\n",
              "      <td>3.135915</td>\n",
              "    </tr>\n",
              "    <tr>\n",
              "      <th>ITC.NS</th>\n",
              "      <td>3.108323</td>\n",
              "    </tr>\n",
              "    <tr>\n",
              "      <th>ASIANPAINT.NS</th>\n",
              "      <td>3.106674</td>\n",
              "    </tr>\n",
              "    <tr>\n",
              "      <th>CIPLA.NS</th>\n",
              "      <td>3.097174</td>\n",
              "    </tr>\n",
              "  </tbody>\n",
              "</table>\n",
              "</div><br><label><b>dtype:</b> float64</label>"
            ]
          },
          "metadata": {},
          "execution_count": 6
        }
      ]
    },
    {
      "cell_type": "markdown",
      "source": [
        "## 3.Making the neccesary portfolios--\n",
        "Now using these stock we have to make a portfolio which is going to have 2 unique stocks in all the portfolios."
      ],
      "metadata": {
        "id": "Tzg9tX3XA08Z"
      }
    },
    {
      "cell_type": "code",
      "source": [
        "constant_stocks = top18_sorted_stocks[:2]\n",
        "remaining_stocks = top18_sorted_stocks[2:]\n",
        "\n",
        "constant_stocks\n",
        "# these two are going to be the constant stocks we are going to use in the portfolios\n"
      ],
      "metadata": {
        "colab": {
          "base_uri": "https://localhost:8080/",
          "height": 176
        },
        "id": "LA9GI7jWG3uO",
        "outputId": "988f97a9-6ced-4e14-e954-e9ba195a76a1"
      },
      "execution_count": null,
      "outputs": [
        {
          "output_type": "execute_result",
          "data": {
            "text/plain": [
              "Price   Ticker     \n",
              "Volume  UPL.NS         3.443352\n",
              "        HDFCLIFE.NS    3.398176\n",
              "dtype: float64"
            ],
            "text/html": [
              "<div>\n",
              "<style scoped>\n",
              "    .dataframe tbody tr th:only-of-type {\n",
              "        vertical-align: middle;\n",
              "    }\n",
              "\n",
              "    .dataframe tbody tr th {\n",
              "        vertical-align: top;\n",
              "    }\n",
              "\n",
              "    .dataframe thead th {\n",
              "        text-align: right;\n",
              "    }\n",
              "</style>\n",
              "<table border=\"1\" class=\"dataframe\">\n",
              "  <thead>\n",
              "    <tr style=\"text-align: right;\">\n",
              "      <th></th>\n",
              "      <th></th>\n",
              "      <th>0</th>\n",
              "    </tr>\n",
              "    <tr>\n",
              "      <th>Price</th>\n",
              "      <th>Ticker</th>\n",
              "      <th></th>\n",
              "    </tr>\n",
              "  </thead>\n",
              "  <tbody>\n",
              "    <tr>\n",
              "      <th rowspan=\"2\" valign=\"top\">Volume</th>\n",
              "      <th>UPL.NS</th>\n",
              "      <td>3.443352</td>\n",
              "    </tr>\n",
              "    <tr>\n",
              "      <th>HDFCLIFE.NS</th>\n",
              "      <td>3.398176</td>\n",
              "    </tr>\n",
              "  </tbody>\n",
              "</table>\n",
              "</div><br><label><b>dtype:</b> float64</label>"
            ]
          },
          "metadata": {},
          "execution_count": 7
        }
      ]
    },
    {
      "cell_type": "markdown",
      "source": [
        "### 3.1 A higher sharpe ration simblies that there is a very efficient risk-reward ratio which directly means more return per unit of risk."
      ],
      "metadata": {
        "id": "5DSo7ExcIsZT"
      }
    },
    {
      "cell_type": "markdown",
      "source": [
        "### 3.1 so the two stocks come out to be common in all"
      ],
      "metadata": {
        "id": "EF8_S3n-HlqK"
      }
    },
    {
      "cell_type": "code",
      "source": [
        "portfolios = []\n",
        "for i in range(4):\n",
        "  # to define the no of portfolios\n",
        "    others = remaining_stocks[i*4:(i+1)*4]\n",
        "    portfolios.append(constant_stocks + others)\n",
        "# what this algorithm is doing is that it is selected these stocks randomly from the timeline of 2010 to 2024\n",
        "\n",
        "portfolios"
      ],
      "metadata": {
        "colab": {
          "base_uri": "https://localhost:8080/"
        },
        "id": "KeuYZiWOHrhW",
        "outputId": "59154af8-8131-4823-f932-bf259cd731cc"
      },
      "execution_count": null,
      "outputs": [
        {
          "output_type": "execute_result",
          "data": {
            "text/plain": [
              "[Price   Ticker       \n",
              " Volume  APOLLOHOSP.NS   NaN\n",
              "         BHARTIARTL.NS   NaN\n",
              "         EICHERMOT.NS    NaN\n",
              "         HDFCLIFE.NS     NaN\n",
              "         ONGC.NS         NaN\n",
              "         UPL.NS          NaN\n",
              " dtype: float64,\n",
              " Price   Ticker       \n",
              " Volume  COALINDIA.NS    NaN\n",
              "         HDFCLIFE.NS     NaN\n",
              "         HEROMOTOCO.NS   NaN\n",
              "         POWERGRID.NS    NaN\n",
              "         UPL.NS          NaN\n",
              "         WIPRO.NS        NaN\n",
              " dtype: float64,\n",
              " Price   Ticker      \n",
              " Volume  ADANIENT.NS    NaN\n",
              "         HDFCLIFE.NS    NaN\n",
              "         NESTLEIND.NS   NaN\n",
              "         SBILIFE.NS     NaN\n",
              "         SUNPHARMA.NS   NaN\n",
              "         UPL.NS         NaN\n",
              " dtype: float64,\n",
              " Price   Ticker       \n",
              " Volume  ASIANPAINT.NS   NaN\n",
              "         CIPLA.NS        NaN\n",
              "         HDFCLIFE.NS     NaN\n",
              "         ITC.NS          NaN\n",
              "         NTPC.NS         NaN\n",
              "         UPL.NS          NaN\n",
              " dtype: float64]"
            ]
          },
          "metadata": {},
          "execution_count": 8
        }
      ]
    },
    {
      "cell_type": "code",
      "source": [
        "# #  port_return = np.dot(weights, mean_ret) * 252\n",
        "#     port_volatility = np.sqrt(np.dot(weights.T, np.dot(cov_matrix, weights))) * np.sqrt(252)\n",
        "#     sharpe = (port_return - risk_free_rate) / port_volatility\n",
        "#     return sharpe\n",
        "prices = yf.download(nifty50_Stocks, start=\"2010-04-01\", end=\"2024-04-01\")"
      ],
      "metadata": {
        "id": "BD_H1UvhQ_P_",
        "colab": {
          "base_uri": "https://localhost:8080/"
        },
        "outputId": "450249d0-213c-4ef5-ee67-4a989f2a8934"
      },
      "execution_count": null,
      "outputs": [
        {
          "output_type": "stream",
          "name": "stderr",
          "text": [
            "[*********************100%***********************]  50 of 50 completed\n"
          ]
        }
      ]
    },
    {
      "cell_type": "code",
      "source": [
        "for i, portfolio in enumerate(portfolios, 1):\n",
        "    # Filter prices for the stocks in the current portfolio\n",
        "    available_stocks = [stock for stock in portfolio if stock in prices.columns]\n",
        "\n",
        "    if not available_stocks:\n",
        "        print(f\"Portfolio {i} has no valid stock data.\")\n",
        "        continue\n"
      ],
      "metadata": {
        "colab": {
          "base_uri": "https://localhost:8080/"
        },
        "id": "vaaxffofL8uJ",
        "outputId": "91fa206c-a512-44f7-912e-626d0c7d47ff"
      },
      "execution_count": null,
      "outputs": [
        {
          "output_type": "stream",
          "name": "stdout",
          "text": [
            "Portfolio 1 has no valid stock data.\n",
            "Portfolio 2 has no valid stock data.\n",
            "Portfolio 3 has no valid stock data.\n",
            "Portfolio 4 has no valid stock data.\n"
          ]
        }
      ]
    },
    {
      "cell_type": "markdown",
      "source": [
        "\n",
        "### 🔧 Step-by-Step Process:\n",
        "\n",
        "#### *1. Collect Data*\n",
        "•⁠  ⁠Historical price data of 50 stocks (daily/weekly/monthly returns)\n",
        "•⁠  ⁠Time horizon: at least 1–3 years is common\n",
        "\n",
        "#### *2. Calculate Returns and Covariance*\n",
        "•⁠  ⁠Compute *mean returns* of each stock\n",
        "•⁠  ⁠Compute *covariance matrix* of returns (shows how the returns of the stocks move together)\n",
        "\n",
        "#### *3. Generate All Combinations (Optional for small k)*\n",
        "•⁠  ⁠If you want exactly *4 stocks*, generate all combinations of 4 stocks from the 50:  \n",
        "  \\[\n",
        "  \\binom{50}{4} = 230300\n",
        "  \\]\n",
        "  This is computationally heavy, but possible with code (Python/R).\n",
        "\n",
        "#### *4. For Each 4-Stock Combination:*\n",
        "•⁠  ⁠Use *quadratic programming* to find the *efficient frontier* and *optimal weights* for the 4 assets\n",
        "•⁠  ⁠Calculate:\n",
        "  - *Expected return* of the portfolio\n",
        "  - *Portfolio variance (risk)*\n",
        "  - *Sharpe Ratio* (if risk-free rate is available)\n",
        "\n",
        "#### *5. Select the Best Combination*\n",
        "•⁠  ⁠Choose the 4-stock portfolio that has:\n",
        "  - Highest Sharpe Ratio, or\n",
        "  - Minimum risk for desired return, or\n",
        "  - Maximum return for a given level of risk\n",
        "\n",
        "---\n",
        "\n",
        "### 📊 Practical Implementation (Using Python)\n",
        "If you're familiar with coding, you can use:\n",
        "•⁠  ⁠⁠ pandas ⁠ for data\n",
        "•⁠  ⁠⁠ numpy ⁠ for calculations\n",
        "•⁠  ⁠⁠ cvxpy ⁠ or ⁠ scipy.optimize ⁠ for optimization\n",
        "•⁠  ⁠⁠ yfinance ⁠ or ⁠ investpy ⁠ for data download\n",
        "\n",
        "I can help write the full code too if needed.\n",
        "\n",
        "---\n",
        "\n",
        "### 💡 Alternative (Heuristic Approach)\n",
        "If evaluating all 230,300 combinations is infeasible:\n",
        "•⁠  ⁠Use *filtering*:\n",
        "  - Pick top 10 stocks by Sharpe Ratio or returns\n",
        "  - Then do exhaustive search on all 4-stock combinations from these 10 → only 210 portfolios\n",
        "•⁠  ⁠Or use *greedy algorithms / genetic algorithms* to approximate optimal subset\n"
      ],
      "metadata": {
        "id": "2lZNaVT3sFJe"
      }
    },
    {
      "cell_type": "markdown",
      "source": [
        "3. Efficient Frontier:\n",
        "\n",
        "A plot of all portfolios that:\n",
        "\t•\tOffer the highest expected return for a given risk.\n",
        "\t•\tOr, lowest risk for a given return.\n",
        "\n",
        "  Calculate returns and covariance matrix.\n",
        "  Simulate many random portfolios.\n"
      ],
      "metadata": {
        "id": "XmTRkhXlDiBx"
      }
    },
    {
      "cell_type": "markdown",
      "source": [
        "5. Value Metrics\n",
        "\n",
        "  •\tFrom fundamental analysis (useful for long-term investing):\n",
        "\n",
        "  •\tP/E Ratio: Price to Earnings.\n",
        "\n",
        "  •\tP/B Ratio: Price to Book.\n",
        "\n",
        "  •\tPEG Ratio: Growth-adjusted P/E.\n",
        "\n",
        "  •\tDividend Yield\n"
      ],
      "metadata": {
        "id": "c6DrKk1iFTew"
      }
    },
    {
      "cell_type": "markdown",
      "source": [
        "The efficient frontier graphically represents portfolios that maximize returns for the risk assumed. Returns are dependent on the investment combinations that make up the portfolio. A security's standard deviation is synonymous with risk. Ideally, an investor seeks to fill a portfolio with securities offering exceptional returns but with a combined standard deviation that is lower than the standard deviations of the individual securities."
      ],
      "metadata": {
        "id": "A8cOnq8mGtat"
      }
    },
    {
      "cell_type": "code",
      "source": [
        "# we are going to now apply this in python\n",
        "start_date = '2010-04-01'\n",
        "end_date = '2010-04-01'"
      ],
      "metadata": {
        "id": "7esAledHGsMt"
      },
      "execution_count": null,
      "outputs": []
    },
    {
      "cell_type": "code",
      "source": [
        "data = yf.download(nifty50_Stocks, start=start_date, end=end_date)['Adj Close']\n",
        "returns = data.pct_change().dropna()\n",
        "# we see that there are some errors over here as some of them could not be found and there was not there in the given time period"
      ],
      "metadata": {
        "colab": {
          "base_uri": "https://localhost:8080/"
        },
        "id": "NmbDYduiov44",
        "outputId": "bfe8efb4-7a61-48b0-b7d1-05f2bb4d7983"
      },
      "execution_count": null,
      "outputs": [
        {
          "output_type": "stream",
          "name": "stderr",
          "text": [
            "[*********************100%***********************]  50 of 50 completed\n",
            "ERROR:yfinance:\n",
            "50 Failed downloads:\n",
            "ERROR:yfinance:['APOLLOHOSP.NS', 'AXISBANK.NS', 'EICHERMOT.NS', 'HINDALCO.NS', 'CIPLA.NS', 'BAJFINANCE.NS', 'HDFCBANK.NS', 'KOTAKBANK.NS', 'INDUSINDBK.NS', 'BPCL.NS', 'NTPC.NS', 'HEROMOTOCO.NS', 'BRITANNIA.NS', 'ICICIBANK.NS', 'DIVISLAB.NS', 'INFY.NS', 'DRREDDY.NS', 'SHREECEM.NS', 'SUNPHARMA.NS', 'NESTLEIND.NS', 'ULTRACEMCO.NS', 'JSWSTEEL.NS', 'TATASTEEL.NS', 'ONGC.NS', 'WIPRO.NS', 'BHARTIARTL.NS', 'TATACONSUM.NS', 'ITC.NS', 'MARUTI.NS', 'ASIANPAINT.NS', 'LT.NS', 'UPL.NS', 'BAJAJ-AUTO.NS', 'M&M.NS', 'HCLTECH.NS', 'TCS.NS', 'TITAN.NS', 'BAJAJFINSV.NS', 'RELIANCE.NS', 'TECHM.NS', 'ADANIENT.NS', 'GRASIM.NS', 'POWERGRID.NS', 'SBIN.NS', 'HINDUNILVR.NS', 'TATAMOTORS.NS']: YFPricesMissingError('possibly delisted; no price data found  (1d 2010-04-01 -> 2010-04-01)')\n",
            "ERROR:yfinance:['COALINDIA.NS', 'HDFCLIFE.NS', 'SBILIFE.NS']: YFPricesMissingError('possibly delisted; no price data found  (1d 2010-04-01 -> 2010-04-01) (Yahoo error = \"Data doesn\\'t exist for startDate = 1270060200, endDate = 1270060200\")')\n",
            "ERROR:yfinance:['SBICARD.NS']: YFRateLimitError('Too Many Requests. Rate limited. Try after a while.')\n"
          ]
        }
      ]
    },
    {
      "cell_type": "markdown",
      "source": [
        "## 4-- Calculating the mean_returns and the covareinec matrix"
      ],
      "metadata": {
        "id": "a6cg1ixro_Xw"
      }
    },
    {
      "cell_type": "code",
      "source": [
        "assets = ['RELIANCE.NS', 'TCS.NS', 'INFY.NS', 'HDFCBANK.NS']\n",
        "start_date = '2023-01-01'\n",
        "end_date = '2024-12-31'"
      ],
      "metadata": {
        "id": "iE_HhW0Uo9_D"
      },
      "execution_count": null,
      "outputs": []
    },
    {
      "cell_type": "code",
      "source": [
        "print(\"Selected stocks:\", selected_stocks)"
      ],
      "metadata": {
        "colab": {
          "base_uri": "https://localhost:8080/"
        },
        "id": "NCxuNoCAqBwq",
        "outputId": "5a2b95c8-93dd-4f01-97f4-843a30538e2b"
      },
      "execution_count": null,
      "outputs": [
        {
          "output_type": "stream",
          "name": "stdout",
          "text": [
            "Selected stocks: ['RELIANCE.NS', 'TCS.NS', np.str_('WIPRO.NS'), np.str_('BAJAJFINSV.NS'), np.str_('ONGC.NS'), np.str_('GRASIM.NS'), np.str_('JSWSTEEL.NS'), np.str_('BAJAJ-AUTO.NS'), np.str_('NTPC.NS'), np.str_('SHREECEM.NS')]\n"
          ]
        }
      ]
    },
    {
      "cell_type": "code",
      "source": [
        "data = yf.download(selected_stocks, start=start_date, end=end_date)['Adj Close']\n",
        "returns = data.pct_change().dropna()\n",
        "mean_returns = returns.mean() * 252\n",
        "cov_matrix = returns.cov() * 252"
      ],
      "metadata": {
        "colab": {
          "base_uri": "https://localhost:8080/"
        },
        "id": "H95Ancv8pOyb",
        "outputId": "87714c95-718f-4f25-e677-6a9ecd22d52c"
      },
      "execution_count": null,
      "outputs": [
        {
          "output_type": "stream",
          "name": "stderr",
          "text": [
            "[*********************100%***********************]  10 of 10 completed\n",
            "ERROR:yfinance:\n",
            "10 Failed downloads:\n",
            "ERROR:yfinance:['TCS.NS', 'WIPRO.NS', 'RELIANCE.NS', 'NTPC.NS', 'BAJAJFINSV.NS', 'SHREECEM.NS', 'GRASIM.NS', 'BAJAJ-AUTO.NS', 'JSWSTEEL.NS', 'ONGC.NS']: YFPricesMissingError('possibly delisted; no price data found  (1d 2010-04-01 -> 2010-04-01)')\n"
          ]
        }
      ]
    },
    {
      "cell_type": "code",
      "source": [
        "num_portfolios = 10000\n",
        "results = np.zeros((3, num_portfolios))\n",
        "weights_record = []\n",
        "\n",
        "risk_free_rate = 0.065\n",
        "\n",
        "for i in range(num_portfolios):\n",
        "    weights = np.random.random(len(selected_stocks))\n",
        "    weights /= np.sum(weights)\n",
        "    weights_record.append(weights)\n",
        "\n",
        "    port_return = np.dot(weights, mean_returns)\n",
        "    port_std = np.sqrt(np.dot(weights.T, np.dot(cov_matrix, weights)))\n",
        "    sharpe_ratio = (port_return - risk_free_rate) / port_std\n",
        "\n",
        "    results[0, i] = port_return\n",
        "    results[1, i] = port_std\n",
        "    results[2, i] = sharpe_ratio"
      ],
      "metadata": {
        "id": "aPNl5bQtpUew"
      },
      "execution_count": null,
      "outputs": []
    }
  ]
}