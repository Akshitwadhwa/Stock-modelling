{
  "cells": [
    {
      "cell_type": "markdown",
      "metadata": {
        "colab_type": "text",
        "id": "view-in-github"
      },
      "source": [
        "<a href=\"https://colab.research.google.com/github/Akshitwadhwa/Stock-modelling/blob/main/MPT_prj.ipynb\" target=\"_parent\"><img src=\"https://colab.research.google.com/assets/colab-badge.svg\" alt=\"Open In Colab\"/></a>"
      ]
    },
    {
      "cell_type": "markdown",
      "metadata": {
        "id": "iB3lUMMvycWD"
      },
      "source": [
        "## This is the colab notebook made for selecting the stocks using MPT and making optimal portfolios based upon them\n"
      ]
    },
    {
      "cell_type": "markdown",
      "metadata": {
        "id": "ZXqV0fI16fHc"
      },
      "source": [
        "### 1.1 What is an optimal portfolio\n",
        " An optimal portfolio is a combination of financial assets that provides the best possible return for a given level of risk or the lowest risk for a given level of return."
      ]
    },
    {
      "cell_type": "code",
      "execution_count": 28,
      "metadata": {
        "id": "38OO26SNL9XF"
      },
      "outputs": [],
      "source": [
        "# Importing all the neccesray import numpy as np\n",
        "import pandas as pd\n",
        "import numpy as np\n",
        "import yfinance as yf\n",
        "import matplotlib.pyplot as plt\n",
        "import cvxpy as cp\n"
      ]
    },
    {
      "cell_type": "markdown",
      "metadata": {
        "id": "NzFbW37TN2nZ"
      },
      "source": [
        "## What is our aim\n",
        "\n",
        "**Our aim is to select 4 combinations of 6 stocks using Mpt and make a portfolio based upon them.Then for the range of 2010 to 2024 we have to see which of the 4 combination of the portfolio performed the best.**\n",
        "\n"
      ]
    },
    {
      "cell_type": "code",
      "execution_count": 29,
      "metadata": {
        "id": "CVZql2IWoHUJ"
      },
      "outputs": [],
      "source": [
        "# We have to take the stocks from the nifty fifty for the india sector so we need to take the yfinance library.\n",
        "\n",
        "\n",
        "nifty50_Stocks = [\n",
        "    \"RELIANCE.NS\", \"TCS.NS\", \"INFY.NS\", \"HDFCBANK.NS\", \"ICICIBANK.NS\", \"KOTAKBANK.NS\",\n",
        "    \"HINDUNILVR.NS\", \"SBIN.NS\", \"LT.NS\", \"ITC.NS\", \"AXISBANK.NS\", \"BAJFINANCE.NS\",\n",
        "    \"ASIANPAINT.NS\", \"MARUTI.NS\", \"SUNPHARMA.NS\", \"ULTRACEMCO.NS\", \"NESTLEIND.NS\", \"WIPRO.NS\",\n",
        "    \"NTPC.NS\", \"POWERGRID.NS\", \"COALINDIA.NS\", \"TITAN.NS\", \"TECHM.NS\", \"GRASIM.NS\",\n",
        "    \"BHARTIARTL.NS\", \"HCLTECH.NS\", \"DRREDDY.NS\", \"ADANIENT.NS\", \"BAJAJFINSV.NS\", \"TATASTEEL.NS\",\n",
        "    \"HDFCLIFE.NS\", \"SBILIFE.NS\", \"HEROMOTOCO.NS\", \"DIVISLAB.NS\", \"INDUSINDBK.NS\", \"JSWSTEEL.NS\",\n",
        "    \"CIPLA.NS\", \"EICHERMOT.NS\", \"UPL.NS\", \"BPCL.NS\", \"BRITANNIA.NS\", \"SHREECEM.NS\",\n",
        "    \"ONGC.NS\", \"APOLLOHOSP.NS\", \"BAJAJ-AUTO.NS\", \"M&M.NS\", \"HINDALCO.NS\", \"TATACONSUM.NS\",\n",
        "    \"TATAMOTORS.NS\", \"SBICARD.NS\"\n",
        "]\n",
        "#importing the nifty fifty stocks"
      ]
    },
    {
      "cell_type": "markdown",
      "metadata": {
        "id": "V4uP-GropCcS"
      },
      "source": [
        "## Filtering out the subsets of 6 stocks where from the following 50 stocks\n"
      ]
    },
    {
      "cell_type": "markdown",
      "metadata": {
        "id": "Hg-IWdsKqdg-"
      },
      "source": [
        "### 2.1 Now we have to find the subset of the stocks and select the stocks using Mpt .\n",
        "# ***What is MPT***\n",
        "Modern Portfolio Theory (MPT), introduced by Harry Markowitz in 1952, has transformed how investors approach risk, return, and diversification.\n",
        "It revolves around constructing portfolios that maximize the expected returns for a given level of market risk..\n",
        "In Modern Portfolio Theory, risk is measured by the standard deviation of portfolio returns, while return is the expected value of these returns. ***The main goal is to achieve the highest possible return for your desired risk level.***"
      ]
    },
    {
      "cell_type": "code",
      "execution_count": 30,
      "metadata": {
        "colab": {
          "base_uri": "https://localhost:8080/"
        },
        "id": "1V1TTR0vrb52",
        "outputId": "971547af-a908-4eaa-fbe9-9a343c36e156"
      },
      "outputs": [
        {
          "name": "stderr",
          "output_type": "stream",
          "text": [
            "[*********************100%***********************]  50 of 50 completed\n"
          ]
        }
      ],
      "source": [
        "# firstly we are going to begin with downloading the Histoical data from the time length we need which is 2010 to 2024.\n",
        "# we are going to take from april 2010 so april 2024\n",
        "\n",
        "data = yf.download(nifty50_Stocks, start=\"2010-04-01\", end=\"2024-04-01\")\n",
        "returns = data.pct_change().dropna()\n",
        "# this will remove all the null values.\n"
      ]
    },
    {
      "cell_type": "code",
      "execution_count": 31,
      "metadata": {
        "id": "gIQ-6F85qVuu"
      },
      "outputs": [],
      "source": [
        "# we see that the data of all those stocks has been downloded\n"
      ]
    },
    {
      "cell_type": "markdown",
      "metadata": {
        "id": "JkXCliC-0Sv4"
      },
      "source": [
        "### 2.2 Now our aim is to create a efficient frontier which is that offers the highest expected return for a given risk or lowest risk for a given return.\n",
        "\n",
        "## Methodology-\n",
        "From the Nifty 50 take **4 combinations of 6-stock portfolios** where 2 same stocks have to be present in each combination with 4 stocks being differnt in each of the following.\n",
        "\n",
        "### 2.3 The forumula to calculate the sharpe ration is--\n",
        "(mean return - risk rate)/volatility"
      ]
    },
    {
      "cell_type": "code",
      "execution_count": 32,
      "metadata": {
        "id": "uEy48eaO0OAt"
      },
      "outputs": [
        {
          "name": "stderr",
          "output_type": "stream",
          "text": [
            "/Users/Lenovo/.venvs/py13env/lib/python3.13/site-packages/pandas/core/nanops.py:1016: RuntimeWarning: invalid value encountered in subtract\n",
            "  sqr = _ensure_numeric((avg - values) ** 2)\n"
          ]
        }
      ],
      "source": [
        "# Calculating the Sharpe Ratio of all the stocks and picking the two with the highest for the given timeline\n",
        "mean_returns = returns.mean() * 252#\n",
        "# mean returns of all the stocks\n",
        "volatility = returns.std() * np.sqrt(252)\n",
        "# the volatility return of the stock\n",
        "risk_rate = 0.06\n",
        "# the risk rate of the stocks\n",
        "sharpe_ratios = (mean_returns - risk_rate) / volatility\n",
        "top18_sorted_stocks = sharpe_ratios.sort_values(ascending=False).head(18).sort_values(ascending=False)"
      ]
    },
    {
      "cell_type": "code",
      "execution_count": 33,
      "metadata": {
        "colab": {
          "base_uri": "https://localhost:8080/",
          "height": 672
        },
        "id": "P9YpifyAA1jn",
        "outputId": "34960a9c-3f4a-42cb-fd30-8d85725c0f45"
      },
      "outputs": [
        {
          "data": {
            "text/plain": [
              "Price   Ticker       \n",
              "Volume  UPL.NS           3.443352\n",
              "        HDFCLIFE.NS      3.398176\n",
              "        EICHERMOT.NS     3.289822\n",
              "        APOLLOHOSP.NS    3.281140\n",
              "        ONGC.NS          3.280355\n",
              "        BHARTIARTL.NS    3.245630\n",
              "        COALINDIA.NS     3.240663\n",
              "        HEROMOTOCO.NS    3.202499\n",
              "        POWERGRID.NS     3.199888\n",
              "        WIPRO.NS         3.197758\n",
              "        ADANIENT.NS      3.196498\n",
              "        SUNPHARMA.NS     3.172674\n",
              "        SBILIFE.NS       3.159413\n",
              "        NESTLEIND.NS     3.138170\n",
              "        NTPC.NS          3.135915\n",
              "        ITC.NS           3.108323\n",
              "        ASIANPAINT.NS    3.106674\n",
              "        CIPLA.NS         3.097174\n",
              "dtype: float64"
            ]
          },
          "execution_count": 33,
          "metadata": {},
          "output_type": "execute_result"
        }
      ],
      "source": [
        "top18_sorted_stocks\n",
        "# this will tell those stocks which had the higehest sharpe ratio in the time limit which is from 2010 to 2014"
      ]
    },
    {
      "cell_type": "markdown",
      "metadata": {
        "id": "Tzg9tX3XA08Z"
      },
      "source": [
        "## 3.Making the neccesary portfolios--\n",
        "Now using these stock we have to make a portfolio which is going to have 2 unique stocks in all the portfolios."
      ]
    },
    {
      "cell_type": "code",
      "execution_count": 34,
      "metadata": {
        "colab": {
          "base_uri": "https://localhost:8080/",
          "height": 176
        },
        "id": "LA9GI7jWG3uO",
        "outputId": "988f97a9-6ced-4e14-e954-e9ba195a76a1"
      },
      "outputs": [
        {
          "data": {
            "text/plain": [
              "Price   Ticker     \n",
              "Volume  UPL.NS         3.443352\n",
              "        HDFCLIFE.NS    3.398176\n",
              "dtype: float64"
            ]
          },
          "execution_count": 34,
          "metadata": {},
          "output_type": "execute_result"
        }
      ],
      "source": [
        "constant_stocks = top18_sorted_stocks[:2]\n",
        "remaining_stocks = top18_sorted_stocks[2:]\n",
        "\n",
        "constant_stocks\n",
        "# these two are going to be the constant stocks we are going to use in the portfolios\n"
      ]
    },
    {
      "cell_type": "markdown",
      "metadata": {
        "id": "5DSo7ExcIsZT"
      },
      "source": [
        "### 3.1 A higher sharpe ration simblies that there is a very efficient risk-reward ratio which directly means more return per unit of risk."
      ]
    },
    {
      "cell_type": "markdown",
      "metadata": {
        "id": "EF8_S3n-HlqK"
      },
      "source": [
        "### 3.1 so the two stocks come out to be common in all"
      ]
    },
    {
      "cell_type": "code",
      "execution_count": 35,
      "metadata": {
        "colab": {
          "base_uri": "https://localhost:8080/"
        },
        "id": "KeuYZiWOHrhW",
        "outputId": "59154af8-8131-4823-f932-bf259cd731cc"
      },
      "outputs": [
        {
          "data": {
            "text/plain": [
              "[Price   Ticker       \n",
              " Volume  APOLLOHOSP.NS   NaN\n",
              "         BHARTIARTL.NS   NaN\n",
              "         EICHERMOT.NS    NaN\n",
              "         HDFCLIFE.NS     NaN\n",
              "         ONGC.NS         NaN\n",
              "         UPL.NS          NaN\n",
              " dtype: float64,\n",
              " Price   Ticker       \n",
              " Volume  COALINDIA.NS    NaN\n",
              "         HDFCLIFE.NS     NaN\n",
              "         HEROMOTOCO.NS   NaN\n",
              "         POWERGRID.NS    NaN\n",
              "         UPL.NS          NaN\n",
              "         WIPRO.NS        NaN\n",
              " dtype: float64,\n",
              " Price   Ticker      \n",
              " Volume  ADANIENT.NS    NaN\n",
              "         HDFCLIFE.NS    NaN\n",
              "         NESTLEIND.NS   NaN\n",
              "         SBILIFE.NS     NaN\n",
              "         SUNPHARMA.NS   NaN\n",
              "         UPL.NS         NaN\n",
              " dtype: float64,\n",
              " Price   Ticker       \n",
              " Volume  ASIANPAINT.NS   NaN\n",
              "         CIPLA.NS        NaN\n",
              "         HDFCLIFE.NS     NaN\n",
              "         ITC.NS          NaN\n",
              "         NTPC.NS         NaN\n",
              "         UPL.NS          NaN\n",
              " dtype: float64]"
            ]
          },
          "execution_count": 35,
          "metadata": {},
          "output_type": "execute_result"
        }
      ],
      "source": [
        "portfolios = []\n",
        "for i in range(4):\n",
        "  # to define the no of portfolios\n",
        "    others = remaining_stocks[i*4:(i+1)*4]\n",
        "    portfolios.append(constant_stocks + others)\n",
        "# what this algorithm is doing is that it is selected these stocks randomly from the timeline of 2010 to 2024\n",
        "\n",
        "portfolios"
      ]
    },
    {
      "cell_type": "code",
      "execution_count": 36,
      "metadata": {
        "colab": {
          "base_uri": "https://localhost:8080/"
        },
        "id": "BD_H1UvhQ_P_",
        "outputId": "450249d0-213c-4ef5-ee67-4a989f2a8934"
      },
      "outputs": [
        {
          "name": "stderr",
          "output_type": "stream",
          "text": [
            "[*********************100%***********************]  50 of 50 completed\n"
          ]
        }
      ],
      "source": [
        "# #  port_return = np.dot(weights, mean_ret) * 252\n",
        "#     port_volatility = np.sqrt(np.dot(weights.T, np.dot(cov_matrix, weights))) * np.sqrt(252)\n",
        "#     sharpe = (port_return - risk_free_rate) / port_volatility\n",
        "#     return sharpe\n",
        "prices = yf.download(nifty50_Stocks, start=\"2010-04-01\", end=\"2024-04-01\")"
      ]
    },
    {
      "cell_type": "code",
      "execution_count": 37,
      "metadata": {
        "colab": {
          "base_uri": "https://localhost:8080/"
        },
        "id": "vaaxffofL8uJ",
        "outputId": "91fa206c-a512-44f7-912e-626d0c7d47ff"
      },
      "outputs": [
        {
          "name": "stdout",
          "output_type": "stream",
          "text": [
            "Portfolio 1 has no valid stock data.\n",
            "Portfolio 2 has no valid stock data.\n",
            "Portfolio 3 has no valid stock data.\n",
            "Portfolio 4 has no valid stock data.\n"
          ]
        }
      ],
      "source": [
        "for i, portfolio in enumerate(portfolios, 1):\n",
        "    # Filter prices for the stocks in the current portfolio\n",
        "    available_stocks = [stock for stock in portfolio if stock in prices.columns]\n",
        "\n",
        "    if not available_stocks:\n",
        "        print(f\"Portfolio {i} has no valid stock data.\")\n",
        "        continue\n"
      ]
    },
    {
      "cell_type": "markdown",
      "metadata": {
        "id": "2lZNaVT3sFJe"
      },
      "source": [
        "\n",
        "### 🔧 Step-by-Step Process:\n",
        "\n",
        "#### *1. Collect Data*\n",
        "•⁠  ⁠Historical price data of 50 stocks (daily/weekly/monthly returns)\n",
        "•⁠  ⁠Time horizon: at least 1–3 years is common\n",
        "\n",
        "#### *2. Calculate Returns and Covariance*\n",
        "•⁠  ⁠Compute *mean returns* of each stock\n",
        "•⁠  ⁠Compute *covariance matrix* of returns (shows how the returns of the stocks move together)\n",
        "\n",
        "#### *3. Generate All Combinations (Optional for small k)*\n",
        "•⁠  ⁠If you want exactly *4 stocks*, generate all combinations of 4 stocks from the 50:  \n",
        "  \\[\n",
        "  \\binom{50}{4} = 230300\n",
        "  \\]\n",
        "  This is computationally heavy, but possible with code (Python/R).\n",
        "\n",
        "#### *4. For Each 4-Stock Combination:*\n",
        "•⁠  ⁠Use *quadratic programming* to find the *efficient frontier* and *optimal weights* for the 4 assets\n",
        "•⁠  ⁠Calculate:\n",
        "  - *Expected return* of the portfolio\n",
        "  - *Portfolio variance (risk)*\n",
        "  - *Sharpe Ratio* (if risk-free rate is available)\n",
        "\n",
        "#### *5. Select the Best Combination*\n",
        "•⁠  ⁠Choose the 4-stock portfolio that has:\n",
        "  - Highest Sharpe Ratio, or\n",
        "  - Minimum risk for desired return, or\n",
        "  - Maximum return for a given level of risk\n",
        "\n",
        "---\n",
        "\n",
        "### 📊 Practical Implementation (Using Python)\n",
        "If you're familiar with coding, you can use:\n",
        "•⁠  ⁠⁠ pandas ⁠ for data\n",
        "•⁠  ⁠⁠ numpy ⁠ for calculations\n",
        "•⁠  ⁠⁠ cvxpy ⁠ or ⁠ scipy.optimize ⁠ for optimization\n",
        "•⁠  ⁠⁠ yfinance ⁠ or ⁠ investpy ⁠ for data download\n",
        "\n",
        "I can help write the full code too if needed.\n",
        "\n",
        "---\n",
        "\n",
        "### 💡 Alternative (Heuristic Approach)\n",
        "If evaluating all 230,300 combinations is infeasible:\n",
        "•⁠  ⁠Use *filtering*:\n",
        "  - Pick top 10 stocks by Sharpe Ratio or returns\n",
        "  - Then do exhaustive search on all 4-stock combinations from these 10 → only 210 portfolios\n",
        "•⁠  ⁠Or use *greedy algorithms / genetic algorithms* to approximate optimal subset\n"
      ]
    },
    {
      "cell_type": "markdown",
      "metadata": {
        "id": "XmTRkhXlDiBx"
      },
      "source": [
        "3. Efficient Frontier:\n",
        "\n",
        "A plot of all portfolios that:\n",
        "\t•\tOffer the highest expected return for a given risk.\n",
        "\t•\tOr, lowest risk for a given return.\n",
        "\n",
        "  Calculate returns and covariance matrix.\n",
        "  Simulate many random portfolios.\n"
      ]
    },
    {
      "cell_type": "markdown",
      "metadata": {
        "id": "c6DrKk1iFTew"
      },
      "source": [
        "5. Value Metrics\n",
        "\n",
        "  •\tFrom fundamental analysis (useful for long-term investing):\n",
        "\n",
        "  •\tP/E Ratio: Price to Earnings.\n",
        "\n",
        "  •\tP/B Ratio: Price to Book.\n",
        "\n",
        "  •\tPEG Ratio: Growth-adjusted P/E.\n",
        "\n",
        "  •\tDividend Yield\n"
      ]
    },
    {
      "cell_type": "markdown",
      "metadata": {
        "id": "A8cOnq8mGtat"
      },
      "source": [
        "The efficient frontier graphically represents portfolios that maximize returns for the risk assumed. Returns are dependent on the investment combinations that make up the portfolio. A security's standard deviation is synonymous with risk. Ideally, an investor seeks to fill a portfolio with securities offering exceptional returns but with a combined standard deviation that is lower than the standard deviations of the individual securities."
      ]
    },
    {
      "cell_type": "code",
      "execution_count": 38,
      "metadata": {
        "id": "7esAledHGsMt"
      },
      "outputs": [],
      "source": [
        "# we are going to now apply this in python\n",
        "start_date = '2010-04-01'\n",
        "end_date = '2010-04-01'"
      ]
    },
    {
      "cell_type": "code",
      "execution_count": 39,
      "metadata": {
        "colab": {
          "base_uri": "https://localhost:8080/"
        },
        "id": "NmbDYduiov44",
        "outputId": "bfe8efb4-7a61-48b0-b7d1-05f2bb4d7983"
      },
      "outputs": [
        {
          "name": "stderr",
          "output_type": "stream",
          "text": [
            "[*********************100%***********************]  50 of 50 completed\n",
            "\n",
            "50 Failed downloads:\n",
            "['TITAN.NS', 'DIVISLAB.NS', 'BPCL.NS', 'SUNPHARMA.NS', 'HINDALCO.NS', 'TATACONSUM.NS', 'ICICIBANK.NS', 'M&M.NS', 'RELIANCE.NS', 'SBIN.NS', 'BHARTIARTL.NS', 'UPL.NS', 'ITC.NS', 'TATAMOTORS.NS', 'POWERGRID.NS', 'HINDUNILVR.NS', 'AXISBANK.NS', 'ASIANPAINT.NS', 'MARUTI.NS', 'BAJAJFINSV.NS', 'INDUSINDBK.NS', 'HCLTECH.NS', 'KOTAKBANK.NS', 'BAJFINANCE.NS', 'BAJAJ-AUTO.NS', 'CIPLA.NS', 'INFY.NS', 'EICHERMOT.NS', 'ONGC.NS', 'LT.NS', 'ADANIENT.NS', 'DRREDDY.NS', 'TATASTEEL.NS', 'JSWSTEEL.NS', 'ULTRACEMCO.NS', 'TCS.NS', 'NESTLEIND.NS', 'TECHM.NS', 'WIPRO.NS', 'GRASIM.NS', 'HEROMOTOCO.NS', 'BRITANNIA.NS', 'SHREECEM.NS', 'APOLLOHOSP.NS', 'NTPC.NS', 'HDFCBANK.NS']: YFPricesMissingError('possibly delisted; no price data found  (1d 2010-04-01 -> 2010-04-01)')\n",
            "['COALINDIA.NS', 'HDFCLIFE.NS', 'SBILIFE.NS', 'SBICARD.NS']: YFPricesMissingError('possibly delisted; no price data found  (1d 2010-04-01 -> 2010-04-01) (Yahoo error = \"Data doesn\\'t exist for startDate = 1270060200, endDate = 1270060200\")')\n"
          ]
        }
      ],
      "source": [
        "data = yf.download(nifty50_Stocks, start=start_date, end=end_date)['Adj Close']\n",
        "returns = data.pct_change().dropna()\n",
        "# we see that there are some errors over here as some of them could not be found and there was not there in the given time period"
      ]
    },
    {
      "cell_type": "markdown",
      "metadata": {
        "id": "a6cg1ixro_Xw"
      },
      "source": [
        "## 4-- Calculating the mean_returns and the covareinec matrix"
      ]
    },
    {
      "cell_type": "code",
      "execution_count": 40,
      "metadata": {
        "id": "iE_HhW0Uo9_D"
      },
      "outputs": [],
      "source": [
        "assets = ['RELIANCE.NS', 'TCS.NS', 'INFY.NS', 'HDFCBANK.NS']\n",
        "start_date = '2023-01-01'\n",
        "end_date = '2024-12-31'"
      ]
    },
    {
      "cell_type": "code",
      "execution_count": 41,
      "metadata": {
        "colab": {
          "base_uri": "https://localhost:8080/"
        },
        "id": "NCxuNoCAqBwq",
        "outputId": "5a2b95c8-93dd-4f01-97f4-843a30538e2b"
      },
      "outputs": [
        {
          "ename": "NameError",
          "evalue": "name 'selected_stocks' is not defined",
          "output_type": "error",
          "traceback": [
            "\u001b[31m---------------------------------------------------------------------------\u001b[39m",
            "\u001b[31mNameError\u001b[39m                                 Traceback (most recent call last)",
            "\u001b[36mCell\u001b[39m\u001b[36m \u001b[39m\u001b[32mIn[41]\u001b[39m\u001b[32m, line 1\u001b[39m\n\u001b[32m----> \u001b[39m\u001b[32m1\u001b[39m \u001b[38;5;28mprint\u001b[39m(\u001b[33m\"\u001b[39m\u001b[33mSelected stocks:\u001b[39m\u001b[33m\"\u001b[39m, \u001b[43mselected_stocks\u001b[49m)\n",
            "\u001b[31mNameError\u001b[39m: name 'selected_stocks' is not defined"
          ]
        }
      ],
      "source": [
        "print(\"Selected stocks:\", selected_stocks)"
      ]
    },
    {
      "cell_type": "code",
      "execution_count": null,
      "metadata": {
        "colab": {
          "base_uri": "https://localhost:8080/"
        },
        "id": "H95Ancv8pOyb",
        "outputId": "87714c95-718f-4f25-e677-6a9ecd22d52c"
      },
      "outputs": [],
      "source": [
        "data = yf.download(selected_stocks, start=start_date, end=end_date)['Adj Close']\n",
        "returns = data.pct_change().dropna()\n",
        "mean_returns = returns.mean() * 252\n",
        "cov_matrix = returns.cov() * 252"
      ]
    },
    {
      "cell_type": "code",
      "execution_count": null,
      "metadata": {
        "id": "aPNl5bQtpUew"
      },
      "outputs": [],
      "source": [
        "num_portfolios = 10000\n",
        "results = np.zeros((3, num_portfolios))\n",
        "weights_record = []\n",
        "\n",
        "risk_free_rate = 0.065\n",
        "\n",
        "for i in range(num_portfolios):\n",
        "    weights = np.random.random(len(selected_stocks))\n",
        "    weights /= np.sum(weights)\n",
        "    weights_record.append(weights)\n",
        "\n",
        "    port_return = np.dot(weights, mean_returns)\n",
        "    port_std = np.sqrt(np.dot(weights.T, np.dot(cov_matrix, weights)))\n",
        "    sharpe_ratio = (port_return - risk_free_rate) / port_std\n",
        "\n",
        "    results[0, i] = port_return\n",
        "    results[1, i] = port_std\n",
        "    results[2, i] = sharpe_ratio"
      ]
    }
  ],
  "metadata": {
    "colab": {
      "include_colab_link": true,
      "provenance": []
    },
    "kernelspec": {
      "display_name": "Python 3.13 (venv)",
      "language": "python",
      "name": "py13env"
    },
    "language_info": {
      "codemirror_mode": {
        "name": "ipython",
        "version": 3
      },
      "file_extension": ".py",
      "mimetype": "text/x-python",
      "name": "python",
      "nbconvert_exporter": "python",
      "pygments_lexer": "ipython3",
      "version": "3.13.1"
    }
  },
  "nbformat": 4,
  "nbformat_minor": 0
}
