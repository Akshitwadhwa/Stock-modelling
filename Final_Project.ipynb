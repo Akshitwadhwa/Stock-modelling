{
 "cells": [
  {
   "cell_type": "markdown",
   "id": "77211885",
   "metadata": {},
   "source": [
    "## This is the colab notebook which has some ways in which optimal portfolio can be made. The desgin overview of this portfolio is such that we have selected a combinations of 4 distinct portfolios from the set of 50 stocks\n",
    "\n",
    "-- In the set of 50 stocks we are going to choose a set of 10 stocks in each portfolio"
   ]
  },
  {
   "cell_type": "code",
   "execution_count": 1,
   "id": "95873d2e",
   "metadata": {},
   "outputs": [],
   "source": [
    "# Firstly we are going to load all the libraries which we need\n",
    "import pandas as pd\n",
    "import numpy as np\n",
    "import yfinance as yf\n",
    "import matplotlib.pyplot as plt\n",
    "import cvxpy as cp\n",
    "# importing the libraries\n",
    "\n"
   ]
  },
  {
   "cell_type": "markdown",
   "id": "d9a550e9",
   "metadata": {},
   "source": [
    "-- Now we are going to load the set of the nifty fifty stocks "
   ]
  },
  {
   "cell_type": "code",
   "execution_count": 2,
   "id": "0e980388",
   "metadata": {},
   "outputs": [
    {
     "name": "stdout",
     "output_type": "stream",
     "text": [
      "YF.download() has changed argument auto_adjust default to True\n"
     ]
    },
    {
     "name": "stderr",
     "output_type": "stream",
     "text": [
      "[*********************100%***********************]  50 of 50 completed"
     ]
    },
    {
     "name": "stdout",
     "output_type": "stream",
     "text": [
      "Price            Close                                                        \\\n",
      "Ticker     ADANIENT.NS APOLLOHOSP.NS ASIANPAINT.NS AXISBANK.NS BAJAJ-AUTO.NS   \n",
      "Date                                                                           \n",
      "2014-01-01   37.933189    927.892883    457.836548  247.552444   1448.022583   \n",
      "2014-01-02   36.041824    890.798096    444.827576  243.740128   1434.920166   \n",
      "2014-01-03   35.053799    911.284058    448.446228  241.556152   1431.521606   \n",
      "2014-01-06   35.576038    905.301147    449.499786  240.674911   1426.046509   \n",
      "2014-01-07   34.150459    892.282043    448.858490  236.450699   1427.292358   \n",
      "\n",
      "Price                                                                         \\\n",
      "Ticker     BAJAJFINSV.NS BAJFINANCE.NS BHARTIARTL.NS    BPCL.NS BRITANNIA.NS   \n",
      "Date                                                                           \n",
      "2014-01-01     75.461990    151.039154    286.472473  32.176537   399.551544   \n",
      "2014-01-02     72.309875    150.933380    278.796448  31.278135   395.527527   \n",
      "2014-01-03     72.404205    149.615646    279.347778  30.342882   398.855438   \n",
      "2014-01-06     72.642464    149.226074    279.347778  30.388948   395.397003   \n",
      "2014-01-07     72.577950    149.476166    281.341003  29.813059   393.200104   \n",
      "\n",
      "Price       ...       Volume                                           \\\n",
      "Ticker      ... SUNPHARMA.NS TATACONSUM.NS TATAMOTORS.NS TATASTEEL.NS   \n",
      "Date        ...                                                         \n",
      "2014-01-01  ...       425464       1958707       1364747     12526105   \n",
      "2014-01-02  ...      1311399       2116255       3015089     41987111   \n",
      "2014-01-03  ...      1443488       1816178       5004049     33417104   \n",
      "2014-01-06  ...      1832494       1538685       5490077     28387844   \n",
      "2014-01-07  ...      2986634       1244854       4020899     40939015   \n",
      "\n",
      "Price                                                                  \n",
      "Ticker       TCS.NS TECHM.NS TITAN.NS ULTRACEMCO.NS   UPL.NS WIPRO.NS  \n",
      "Date                                                                   \n",
      "2014-01-01   529952   698232   538938         51796   652306  2362703  \n",
      "2014-01-02  1726948  1395500  1570396         81220  1664496  4882590  \n",
      "2014-01-03  2618174  1327296   818984         78848  1706644  5907534  \n",
      "2014-01-06  2311810  1485056   497192         65748  2659779  9896413  \n",
      "2014-01-07  2897486  1914320   713955         98004  1868245  6572222  \n",
      "\n",
      "[5 rows x 250 columns]\n"
     ]
    },
    {
     "name": "stderr",
     "output_type": "stream",
     "text": [
      "\n"
     ]
    }
   ],
   "source": [
    "nifty50_Stocks = [\n",
    "    \"RELIANCE.NS\", \"TCS.NS\", \"INFY.NS\", \"HDFCBANK.NS\", \"ICICIBANK.NS\", \"KOTAKBANK.NS\",\n",
    "    \"HINDUNILVR.NS\", \"SBIN.NS\", \"LT.NS\", \"ITC.NS\", \"AXISBANK.NS\", \"BAJFINANCE.NS\",\n",
    "    \"ASIANPAINT.NS\", \"MARUTI.NS\", \"SUNPHARMA.NS\", \"ULTRACEMCO.NS\", \"NESTLEIND.NS\", \"WIPRO.NS\",\n",
    "    \"NTPC.NS\", \"POWERGRID.NS\", \"COALINDIA.NS\", \"TITAN.NS\", \"TECHM.NS\", \"GRASIM.NS\",\n",
    "    \"BHARTIARTL.NS\", \"HCLTECH.NS\", \"DRREDDY.NS\", \"ADANIENT.NS\", \"BAJAJFINSV.NS\", \"TATASTEEL.NS\",\n",
    "    \"HDFCLIFE.NS\", \"SBILIFE.NS\", \"HEROMOTOCO.NS\", \"DIVISLAB.NS\", \"INDUSINDBK.NS\", \"JSWSTEEL.NS\",\n",
    "    \"CIPLA.NS\", \"EICHERMOT.NS\", \"UPL.NS\", \"BPCL.NS\", \"BRITANNIA.NS\", \"SHREECEM.NS\",\n",
    "    \"ONGC.NS\", \"APOLLOHOSP.NS\", \"BAJAJ-AUTO.NS\", \"M&M.NS\", \"HINDALCO.NS\", \"TATACONSUM.NS\",\n",
    "    \"TATAMOTORS.NS\", \"SBICARD.NS\"\n",
    "]\n",
    "#importing the nifty fifty stocks\n",
    "\n",
    "# Defining the time for which we need the data for\n",
    "\n",
    "data_stocks = yf.download(nifty50_Stocks, start=\"2014-01-01\", end=\"2024-01-01\")\n",
    "\n",
    "print(data_stocks.head())"
   ]
  },
  {
   "cell_type": "code",
   "execution_count": 3,
   "id": "3cc590cf",
   "metadata": {},
   "outputs": [],
   "source": [
    "# Now we need to remove the missing data in the stocks \n",
    "data_stocks = data_stocks.dropna(axis=1, thresh=len(data_stocks)*0.95)\n",
    "import random"
   ]
  },
  {
   "cell_type": "markdown",
   "id": "024766ec",
   "metadata": {},
   "source": [
    "# These stocks are diversified acorss different sectors to ensure no single sector dominates your profile\n",
    "-- After this we are going to find the sectors of each of the following stocks which is available in the yfinance library"
   ]
  },
  {
   "cell_type": "markdown",
   "id": "abdb5827",
   "metadata": {},
   "source": [
    "# What is stocks diversification\n",
    "-- Stock diversification is the porcess of spreading your investments across different assests to reduce the overeall risks\n",
    "\n",
    "-- What does Diversity do in the stock selection,it reduces the risk of getting a major loss when the market crashes as you dont have all your eggs in one basket"
   ]
  },
  {
   "cell_type": "code",
   "execution_count": 4,
   "id": "7b9bdd6c",
   "metadata": {},
   "outputs": [],
   "source": [
    "available_stocks = list(data_stocks .columns)\n",
    "random.shuffle(available_stocks)\n"
   ]
  },
  {
   "cell_type": "code",
   "execution_count": 5,
   "id": "5b8813de",
   "metadata": {},
   "outputs": [
    {
     "data": {
      "text/plain": [
       "{'Portfolio_1': [('Open', 'BPCL.NS'),\n",
       "  ('Close', 'NESTLEIND.NS'),\n",
       "  ('Close', 'JSWSTEEL.NS'),\n",
       "  ('Volume', 'DIVISLAB.NS'),\n",
       "  ('Volume', 'BAJAJFINSV.NS'),\n",
       "  ('High', 'ADANIENT.NS'),\n",
       "  ('High', 'BRITANNIA.NS'),\n",
       "  ('High', 'M&M.NS'),\n",
       "  ('Open', 'ASIANPAINT.NS'),\n",
       "  ('Low', 'ICICIBANK.NS')],\n",
       " 'Portfolio_2': [('Low', 'DIVISLAB.NS'),\n",
       "  ('Close', 'KOTAKBANK.NS'),\n",
       "  ('Open', 'INDUSINDBK.NS'),\n",
       "  ('High', 'BPCL.NS'),\n",
       "  ('Low', 'MARUTI.NS'),\n",
       "  ('Open', 'INFY.NS'),\n",
       "  ('Open', 'TATAMOTORS.NS'),\n",
       "  ('High', 'TITAN.NS'),\n",
       "  ('Volume', 'TATAMOTORS.NS'),\n",
       "  ('Volume', 'M&M.NS')],\n",
       " 'Portfolio_3': [('Open', 'BRITANNIA.NS'),\n",
       "  ('Open', 'ULTRACEMCO.NS'),\n",
       "  ('Close', 'BRITANNIA.NS'),\n",
       "  ('Open', 'NESTLEIND.NS'),\n",
       "  ('Volume', 'HCLTECH.NS'),\n",
       "  ('Open', 'HINDALCO.NS'),\n",
       "  ('Open', 'UPL.NS'),\n",
       "  ('Low', 'SHREECEM.NS'),\n",
       "  ('Close', 'POWERGRID.NS'),\n",
       "  ('High', 'APOLLOHOSP.NS')],\n",
       " 'Portfolio_4': [('High', 'INDUSINDBK.NS'),\n",
       "  ('Open', 'DRREDDY.NS'),\n",
       "  ('High', 'INFY.NS'),\n",
       "  ('High', 'DRREDDY.NS'),\n",
       "  ('Open', 'ONGC.NS'),\n",
       "  ('Open', 'AXISBANK.NS'),\n",
       "  ('Volume', 'BPCL.NS'),\n",
       "  ('Open', 'MARUTI.NS'),\n",
       "  ('Volume', 'APOLLOHOSP.NS'),\n",
       "  ('Volume', 'BHARTIARTL.NS')]}"
      ]
     },
     "execution_count": 5,
     "metadata": {},
     "output_type": "execute_result"
    }
   ],
   "source": [
    "portfolios = {\n",
    "    f\"Portfolio_{i+1}\": available_stocks[i*10:(i+1)*10]\n",
    "    for i in range(4)\n",
    "}\n",
    "\n",
    "portfolios\n",
    "# these are the portfolios we have used"
   ]
  },
  {
   "cell_type": "code",
   "execution_count": 6,
   "id": "61845a69",
   "metadata": {},
   "outputs": [],
   "source": [
    "returns = data_stocks.pct_change().dropna()"
   ]
  },
  {
   "cell_type": "code",
   "execution_count": 7,
   "id": "9914d5ac",
   "metadata": {},
   "outputs": [
    {
     "name": "stdout",
     "output_type": "stream",
     "text": [
      "🎯 Selected Stocks in Each Portfolio:\n",
      "\n",
      "               Portfolio_1              Portfolio_2            Portfolio_3  \\\n",
      "0          (Open, BPCL.NS)       (Low, DIVISLAB.NS)   (Open, BRITANNIA.NS)   \n",
      "1    (Close, NESTLEIND.NS)    (Close, KOTAKBANK.NS)  (Open, ULTRACEMCO.NS)   \n",
      "2     (Close, JSWSTEEL.NS)    (Open, INDUSINDBK.NS)  (Close, BRITANNIA.NS)   \n",
      "3    (Volume, DIVISLAB.NS)          (High, BPCL.NS)   (Open, NESTLEIND.NS)   \n",
      "4  (Volume, BAJAJFINSV.NS)         (Low, MARUTI.NS)   (Volume, HCLTECH.NS)   \n",
      "5      (High, ADANIENT.NS)          (Open, INFY.NS)    (Open, HINDALCO.NS)   \n",
      "6     (High, BRITANNIA.NS)    (Open, TATAMOTORS.NS)         (Open, UPL.NS)   \n",
      "7           (High, M&M.NS)         (High, TITAN.NS)     (Low, SHREECEM.NS)   \n",
      "8    (Open, ASIANPAINT.NS)  (Volume, TATAMOTORS.NS)  (Close, POWERGRID.NS)   \n",
      "9      (Low, ICICIBANK.NS)         (Volume, M&M.NS)  (High, APOLLOHOSP.NS)   \n",
      "\n",
      "               Portfolio_4  \n",
      "0    (High, INDUSINDBK.NS)  \n",
      "1       (Open, DRREDDY.NS)  \n",
      "2          (High, INFY.NS)  \n",
      "3       (High, DRREDDY.NS)  \n",
      "4          (Open, ONGC.NS)  \n",
      "5      (Open, AXISBANK.NS)  \n",
      "6        (Volume, BPCL.NS)  \n",
      "7        (Open, MARUTI.NS)  \n",
      "8  (Volume, APOLLOHOSP.NS)  \n",
      "9  (Volume, BHARTIARTL.NS)  \n"
     ]
    }
   ],
   "source": [
    "# Create a DataFrame to display the selected portfolios\n",
    "portfolio_df = pd.DataFrame(dict([(k, pd.Series(v)) for k, v in portfolios.items()]))\n",
    "\n",
    "print(\"🎯 Selected Stocks in Each Portfolio:\\n\")\n",
    "print(portfolio_df)"
   ]
  },
  {
   "cell_type": "code",
   "execution_count": 8,
   "id": "0695d252",
   "metadata": {},
   "outputs": [],
   "source": [
    "portfolio_returns = pd.DataFrame(index=returns.index)\n",
    "# now we are going to make the dataframe of the returns in the form of a dataframe"
   ]
  },
  {
   "cell_type": "code",
   "execution_count": 9,
   "id": "a8c7cd69",
   "metadata": {},
   "outputs": [],
   "source": [
    "for name, stocks in portfolios.items():\n",
    "    portfolio_returns[name] = returns[stocks].mean(axis=1)\n",
    "\n"
   ]
  },
  {
   "cell_type": "code",
   "execution_count": 10,
   "id": "f766633a",
   "metadata": {},
   "outputs": [
    {
     "data": {
      "text/html": [
       "<div>\n",
       "<style scoped>\n",
       "    .dataframe tbody tr th:only-of-type {\n",
       "        vertical-align: middle;\n",
       "    }\n",
       "\n",
       "    .dataframe tbody tr th {\n",
       "        vertical-align: top;\n",
       "    }\n",
       "\n",
       "    .dataframe thead th {\n",
       "        text-align: right;\n",
       "    }\n",
       "</style>\n",
       "<table border=\"1\" class=\"dataframe\">\n",
       "  <thead>\n",
       "    <tr style=\"text-align: right;\">\n",
       "      <th></th>\n",
       "      <th>Portfolio_1</th>\n",
       "      <th>Portfolio_2</th>\n",
       "      <th>Portfolio_3</th>\n",
       "      <th>Portfolio_4</th>\n",
       "    </tr>\n",
       "    <tr>\n",
       "      <th>Date</th>\n",
       "      <th></th>\n",
       "      <th></th>\n",
       "      <th></th>\n",
       "      <th></th>\n",
       "    </tr>\n",
       "  </thead>\n",
       "  <tbody>\n",
       "    <tr>\n",
       "      <th>2014-01-02</th>\n",
       "      <td>0.209946</td>\n",
       "      <td>0.181255</td>\n",
       "      <td>0.040111</td>\n",
       "      <td>0.180675</td>\n",
       "    </tr>\n",
       "    <tr>\n",
       "      <th>2014-01-03</th>\n",
       "      <td>-0.128757</td>\n",
       "      <td>0.163522</td>\n",
       "      <td>0.157605</td>\n",
       "      <td>-0.020068</td>\n",
       "    </tr>\n",
       "    <tr>\n",
       "      <th>2014-01-06</th>\n",
       "      <td>-0.007229</td>\n",
       "      <td>-0.023373</td>\n",
       "      <td>-0.047996</td>\n",
       "      <td>-0.092703</td>\n",
       "    </tr>\n",
       "    <tr>\n",
       "      <th>2014-01-07</th>\n",
       "      <td>-0.051522</td>\n",
       "      <td>0.012049</td>\n",
       "      <td>0.176290</td>\n",
       "      <td>0.103038</td>\n",
       "    </tr>\n",
       "    <tr>\n",
       "      <th>2014-01-08</th>\n",
       "      <td>0.109484</td>\n",
       "      <td>-0.001866</td>\n",
       "      <td>-0.036941</td>\n",
       "      <td>0.107710</td>\n",
       "    </tr>\n",
       "    <tr>\n",
       "      <th>...</th>\n",
       "      <td>...</td>\n",
       "      <td>...</td>\n",
       "      <td>...</td>\n",
       "      <td>...</td>\n",
       "    </tr>\n",
       "    <tr>\n",
       "      <th>2023-12-22</th>\n",
       "      <td>0.193359</td>\n",
       "      <td>0.052907</td>\n",
       "      <td>-0.008460</td>\n",
       "      <td>-0.081339</td>\n",
       "    </tr>\n",
       "    <tr>\n",
       "      <th>2023-12-26</th>\n",
       "      <td>0.045157</td>\n",
       "      <td>-0.090501</td>\n",
       "      <td>-0.029288</td>\n",
       "      <td>0.064470</td>\n",
       "    </tr>\n",
       "    <tr>\n",
       "      <th>2023-12-27</th>\n",
       "      <td>-0.053678</td>\n",
       "      <td>0.165428</td>\n",
       "      <td>0.009649</td>\n",
       "      <td>0.081105</td>\n",
       "    </tr>\n",
       "    <tr>\n",
       "      <th>2023-12-28</th>\n",
       "      <td>0.034965</td>\n",
       "      <td>0.074902</td>\n",
       "      <td>0.050505</td>\n",
       "      <td>0.365144</td>\n",
       "    </tr>\n",
       "    <tr>\n",
       "      <th>2023-12-29</th>\n",
       "      <td>-0.104150</td>\n",
       "      <td>0.151460</td>\n",
       "      <td>-0.019752</td>\n",
       "      <td>-0.116799</td>\n",
       "    </tr>\n",
       "  </tbody>\n",
       "</table>\n",
       "<p>2464 rows × 4 columns</p>\n",
       "</div>"
      ],
      "text/plain": [
       "            Portfolio_1  Portfolio_2  Portfolio_3  Portfolio_4\n",
       "Date                                                          \n",
       "2014-01-02     0.209946     0.181255     0.040111     0.180675\n",
       "2014-01-03    -0.128757     0.163522     0.157605    -0.020068\n",
       "2014-01-06    -0.007229    -0.023373    -0.047996    -0.092703\n",
       "2014-01-07    -0.051522     0.012049     0.176290     0.103038\n",
       "2014-01-08     0.109484    -0.001866    -0.036941     0.107710\n",
       "...                 ...          ...          ...          ...\n",
       "2023-12-22     0.193359     0.052907    -0.008460    -0.081339\n",
       "2023-12-26     0.045157    -0.090501    -0.029288     0.064470\n",
       "2023-12-27    -0.053678     0.165428     0.009649     0.081105\n",
       "2023-12-28     0.034965     0.074902     0.050505     0.365144\n",
       "2023-12-29    -0.104150     0.151460    -0.019752    -0.116799\n",
       "\n",
       "[2464 rows x 4 columns]"
      ]
     },
     "execution_count": 10,
     "metadata": {},
     "output_type": "execute_result"
    }
   ],
   "source": [
    "portfolio_returns\n",
    "# these are the returns of all the portfolios.\n",
    "\n"
   ]
  },
  {
   "cell_type": "markdown",
   "id": "ad5ceb5a",
   "metadata": {},
   "source": [
    "## After we have taken out the returns of the porfolios , we need to take the last 10 years of data \n",
    "From that we are going to Break the period into non-overlapping 20-day windows"
   ]
  },
  {
   "cell_type": "code",
   "execution_count": null,
   "id": "85d3dc79",
   "metadata": {},
   "outputs": [
    {
     "name": "stdout",
     "output_type": "stream",
     "text": [
      "  Start_Date  Portfolio_1  Portfolio_2  Portfolio_3  Portfolio_4  Volatility  \\\n",
      "0 2014-01-02       0.4936       0.8051       0.4874       1.0891      0.0619   \n",
      "1 2014-01-30       1.6092       0.7200       0.3279       2.2494      0.0680   \n",
      "2 2014-02-28       1.5537       0.4230       0.2006       2.1468      0.0643   \n",
      "3 2014-03-31          inf          inf          inf          inf         NaN   \n",
      "4 2014-05-02       7.1689       1.8016       0.3321       2.1585      0.1237   \n",
      "5 2014-05-30       1.4545       0.4669       0.2068       1.3464      0.0588   \n",
      "6 2014-06-27       1.9141       0.3318       0.4435       0.9351      0.0933   \n",
      "7 2014-07-25       1.9105       0.5267       0.2025       1.6341      0.0495   \n",
      "8 2014-08-26       2.4668       0.8282       0.6888       0.7696      0.1150   \n",
      "9 2014-09-24          inf          inf          inf          inf         NaN   \n",
      "\n",
      "  Market_Regime  \n",
      "0        Normal  \n",
      "1        Normal  \n",
      "2        Normal  \n",
      "3        Normal  \n",
      "4        Normal  \n",
      "5        Normal  \n",
      "6        Normal  \n",
      "7        Normal  \n",
      "8        Normal  \n",
      "9        Normal  \n"
     ]
    },
    {
     "name": "stderr",
     "output_type": "stream",
     "text": [
      "/Users/Lenovo/.venvs/py13env/lib/python3.13/site-packages/pandas/core/nanops.py:1016: RuntimeWarning: invalid value encountered in subtract\n",
      "  sqr = _ensure_numeric((avg - values) ** 2)\n",
      "/Users/Lenovo/.venvs/py13env/lib/python3.13/site-packages/pandas/core/nanops.py:1016: RuntimeWarning: invalid value encountered in subtract\n",
      "  sqr = _ensure_numeric((avg - values) ** 2)\n"
     ]
    }
   ],
   "source": [
    "window_results = []\n",
    "\n",
    "for i in range(0, len(portfolio_returns) - 20 + 1, 20):\n",
    "    window = portfolio_returns.iloc[i:i+20]\n",
    "\n",
    "    # after creating a loop we have made\n",
    "\n",
    "    # Cumulative return of each portfolio over the 20-day window\n",
    "    cumulative = (1 + window).prod() - 1\n",
    "\n",
    "    # Market average return per day\n",
    "    daily_mean = window.mean(axis=1)\n",
    "\n",
    "    # Volatility of the window\n",
    "    volatility = daily_mean.std()\n",
    "\n",
    "    # Total return of the market (mean return of all portfolios)\n",
    "    total_return = (1 + daily_mean).prod() - 1\n",
    "\n",
    "    # Label as Crash if volatility is high and returns are sharply negative\n",
    "    label = 'Crash' if (volatility > 0.015 and total_return < -0.03) else 'Normal'\n",
    "\n",
    "    result = {\n",
    "        'Start_Date': window.index[0],\n",
    "        'Portfolio_1': round(cumulative['Portfolio_1'], 4),\n",
    "        'Portfolio_2': round(cumulative['Portfolio_2'], 4),\n",
    "        'Portfolio_3': round(cumulative['Portfolio_3'], 4),\n",
    "        'Portfolio_4': round(cumulative['Portfolio_4'], 4),\n",
    "        'Volatility': round(volatility, 4),\n",
    "        'Market_Regime': label\n",
    "    }\n",
    "\n",
    "    window_results.append(result)\n",
    "\n",
    "# Create DataFrame\n",
    "windows_df = pd.DataFrame(window_results)\n",
    "print(windows_df.head(10))"
   ]
  },
  {
   "cell_type": "markdown",
   "id": "1ae48303",
   "metadata": {},
   "source": [
    "## Why have we chosen the given values of the vol_thresh and return_threshold is that duirng the 20 day overlap period which we have taken , a drop of 3% or more is considered in the negative direction.\n",
    "-- Since we want to capture the crahses as well as the times where the stocks where in the right direction to say , profit\n"
   ]
  }
 ],
 "metadata": {
  "kernelspec": {
   "display_name": "Python 3.13 (venv)",
   "language": "python",
   "name": "py13env"
  },
  "language_info": {
   "codemirror_mode": {
    "name": "ipython",
    "version": 3
   },
   "file_extension": ".py",
   "mimetype": "text/x-python",
   "name": "python",
   "nbconvert_exporter": "python",
   "pygments_lexer": "ipython3",
   "version": "3.13.1"
  }
 },
 "nbformat": 4,
 "nbformat_minor": 5
}
