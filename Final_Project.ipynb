{
 "cells": [
  {
   "cell_type": "markdown",
   "id": "77211885",
   "metadata": {},
   "source": [
    "## This is the colab notebook which has some ways in which optimal portfolio can be made. The desgin overview of this portfolio is such that we have selected a combinations of 4 distinct portfolios from the set of 50 stocks\n",
    "\n",
    "-- In the set of 50 stocks"
   ]
  },
  {
   "cell_type": "code",
   "execution_count": null,
   "id": "95873d2e",
   "metadata": {},
   "outputs": [],
   "source": []
  }
 ],
 "metadata": {
  "kernelspec": {
   "display_name": "Python 3.13 (venv)",
   "language": "python",
   "name": "py13env"
  },
  "language_info": {
   "name": "python",
   "version": "3.13.1"
  }
 },
 "nbformat": 4,
 "nbformat_minor": 5
}
