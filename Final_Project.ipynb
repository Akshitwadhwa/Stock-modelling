{
  "cells": [
    {
      "cell_type": "markdown",
      "metadata": {
        "id": "view-in-github",
        "colab_type": "text"
      },
      "source": [
        "<a href=\"https://colab.research.google.com/github/Akshitwadhwa/Stock-modelling/blob/main/Final_Project.ipynb\" target=\"_parent\"><img src=\"https://colab.research.google.com/assets/colab-badge.svg\" alt=\"Open In Colab\"/></a>"
      ]
    },
    {
      "cell_type": "markdown",
      "id": "77211885",
      "metadata": {
        "id": "77211885"
      },
      "source": [
        "## This is the colab notebook which has some ways in which optimal portfolio can be made. The desgin overview of this portfolio is such that we have selected a combinations of 4 distinct portfolios from the set of 50 stocks\n",
        "\n",
        "-- In the set of 50 stocks we are going to choose a set of 10 stocks in each portfolio"
      ]
    },
    {
      "cell_type": "code",
      "execution_count": 2,
      "id": "95873d2e",
      "metadata": {
        "id": "95873d2e"
      },
      "outputs": [],
      "source": [
        "# Firstly we are going to load all the libraries which we need\n",
        "import pandas as pd\n",
        "import numpy as np\n",
        "import yfinance as yf\n",
        "import matplotlib.pyplot as plt\n",
        "import cvxpy as cp"
      ]
    },
    {
      "cell_type": "markdown",
      "id": "d9a550e9",
      "metadata": {
        "id": "d9a550e9"
      },
      "source": [
        "-- Now we are going to load the set of the nifty fifty stocks"
      ]
    },
    {
      "cell_type": "code",
      "execution_count": 3,
      "id": "0e980388",
      "metadata": {
        "colab": {
          "base_uri": "https://localhost:8080/"
        },
        "id": "0e980388",
        "outputId": "02e71254-7070-44f5-8a1b-54d227447a83"
      },
      "outputs": [
        {
          "output_type": "stream",
          "name": "stdout",
          "text": [
            "YF.download() has changed argument auto_adjust default to True\n"
          ]
        },
        {
          "output_type": "stream",
          "name": "stderr",
          "text": [
            "[*********************100%***********************]  50 of 50 completed"
          ]
        },
        {
          "output_type": "stream",
          "name": "stdout",
          "text": [
            "Price            Close                                                        \\\n",
            "Ticker     ADANIENT.NS APOLLOHOSP.NS ASIANPAINT.NS AXISBANK.NS BAJAJ-AUTO.NS   \n",
            "Date                                                                           \n",
            "2014-01-01   37.933193    927.892883    459.297424  247.552444   1448.022583   \n",
            "2014-01-02   36.041828    890.798096    446.246857  243.740112   1434.920166   \n",
            "2014-01-03   35.053795    911.283997    449.877106  241.556152   1431.521729   \n",
            "2014-01-06   35.576046    905.300964    450.933990  240.674911   1426.046265   \n",
            "2014-01-07   34.150455    892.281982    450.290649  236.450714   1427.292236   \n",
            "\n",
            "Price                                                                         \\\n",
            "Ticker     BAJAJFINSV.NS BAJFINANCE.NS BHARTIARTL.NS    BPCL.NS BRITANNIA.NS   \n",
            "Date                                                                           \n",
            "2014-01-01     75.462006    151.039154    286.472534  31.349644   399.551544   \n",
            "2014-01-02     72.309883    150.933350    278.796478  30.474339   395.527557   \n",
            "2014-01-03     72.404205    149.615631    279.347809  29.563110   398.855499   \n",
            "2014-01-06     72.642448    149.226059    279.347809  29.607992   395.397034   \n",
            "2014-01-07     72.577942    149.476166    281.340973  29.046898   393.200104   \n",
            "\n",
            "Price       ...       Volume                                           \\\n",
            "Ticker      ... SUNPHARMA.NS TATACONSUM.NS TATAMOTORS.NS TATASTEEL.NS   \n",
            "Date        ...                                                         \n",
            "2014-01-01  ...       425464       1958707       1364747     12526105   \n",
            "2014-01-02  ...      1311399       2116255       3015089     41987111   \n",
            "2014-01-03  ...      1443488       1816178       5004049     33417104   \n",
            "2014-01-06  ...      1832494       1538685       5490077     28387844   \n",
            "2014-01-07  ...      2986634       1244854       4020899     40939015   \n",
            "\n",
            "Price                                                                  \n",
            "Ticker       TCS.NS TECHM.NS TITAN.NS ULTRACEMCO.NS   UPL.NS WIPRO.NS  \n",
            "Date                                                                   \n",
            "2014-01-01   529952   698232   538938         51796   652306  2362703  \n",
            "2014-01-02  1726948  1395500  1570396         81220  1664496  4882590  \n",
            "2014-01-03  2618174  1327296   818984         78848  1706644  5907534  \n",
            "2014-01-06  2311810  1485056   497192         65748  2659779  9896413  \n",
            "2014-01-07  2897486  1914320   713955         98004  1868245  6572222  \n",
            "\n",
            "[5 rows x 250 columns]\n"
          ]
        },
        {
          "output_type": "stream",
          "name": "stderr",
          "text": [
            "\n"
          ]
        }
      ],
      "source": [
        "#importing the nifty fifty stocks\n",
        "nifty50_Stocks = [\n",
        "    \"RELIANCE.NS\", \"TCS.NS\", \"INFY.NS\", \"HDFCBANK.NS\", \"ICICIBANK.NS\", \"KOTAKBANK.NS\",\n",
        "    \"HINDUNILVR.NS\", \"SBIN.NS\", \"LT.NS\", \"ITC.NS\", \"AXISBANK.NS\", \"BAJFINANCE.NS\",\n",
        "    \"ASIANPAINT.NS\", \"MARUTI.NS\", \"SUNPHARMA.NS\", \"ULTRACEMCO.NS\", \"NESTLEIND.NS\", \"WIPRO.NS\",\n",
        "    \"NTPC.NS\", \"POWERGRID.NS\", \"COALINDIA.NS\", \"TITAN.NS\", \"TECHM.NS\", \"GRASIM.NS\",\n",
        "    \"BHARTIARTL.NS\", \"HCLTECH.NS\", \"DRREDDY.NS\", \"ADANIENT.NS\", \"BAJAJFINSV.NS\", \"TATASTEEL.NS\",\n",
        "    \"HDFCLIFE.NS\", \"SBILIFE.NS\", \"HEROMOTOCO.NS\", \"DIVISLAB.NS\", \"INDUSINDBK.NS\", \"JSWSTEEL.NS\",\n",
        "    \"CIPLA.NS\", \"EICHERMOT.NS\", \"UPL.NS\", \"BPCL.NS\", \"BRITANNIA.NS\", \"SHREECEM.NS\",\n",
        "    \"ONGC.NS\", \"APOLLOHOSP.NS\", \"BAJAJ-AUTO.NS\", \"M&M.NS\", \"HINDALCO.NS\", \"TATACONSUM.NS\",\n",
        "    \"TATAMOTORS.NS\", \"SBICARD.NS\"\n",
        "]\n",
        "\n",
        "# Defining the time for which we need the data for\n",
        "\n",
        "data_stocks = yf.download(nifty50_Stocks, start=\"2014-01-01\", end=\"2024-01-01\")\n",
        "\n",
        "print(data_stocks.head())"
      ]
    },
    {
      "cell_type": "code",
      "execution_count": 4,
      "id": "3cc590cf",
      "metadata": {
        "id": "3cc590cf"
      },
      "outputs": [],
      "source": [
        "# Now we need to remove the missing data in the stocks\n",
        "data_stocks = data_stocks.dropna(axis=1, thresh=len(data_stocks)*0.95)\n",
        "import random"
      ]
    },
    {
      "cell_type": "markdown",
      "id": "024766ec",
      "metadata": {
        "id": "024766ec"
      },
      "source": [
        "# 2. These stocks are diversified acorss different sectors to ensure no single sector dominates your profile\n",
        "-- After this we are going to find the sectors of each of the following stocks which is available in the yfinance library"
      ]
    },
    {
      "cell_type": "markdown",
      "id": "abdb5827",
      "metadata": {
        "id": "abdb5827"
      },
      "source": [
        "# What is stocks diversification\n",
        "-- Stock diversification is the porcess of spreading your investments across different assests to reduce the overeall risks\n",
        "\n",
        "-- What does Diversity do in the stock selection,it reduces the risk of getting a major loss when the market crashes as you dont have all your eggs in one basket"
      ]
    },
    {
      "cell_type": "code",
      "execution_count": 5,
      "id": "7b9bdd6c",
      "metadata": {
        "id": "7b9bdd6c"
      },
      "outputs": [],
      "source": [
        "available_stocks = list(data_stocks .columns)\n",
        "random.shuffle(available_stocks)"
      ]
    },
    {
      "cell_type": "code",
      "execution_count": 6,
      "id": "5b8813de",
      "metadata": {
        "colab": {
          "base_uri": "https://localhost:8080/"
        },
        "id": "5b8813de",
        "outputId": "147423ac-3f47-43db-b1ac-39a6942acd34"
      },
      "outputs": [
        {
          "output_type": "execute_result",
          "data": {
            "text/plain": [
              "{'Portfolio_1': [('Volume', 'TITAN.NS'),\n",
              "  ('High', 'ICICIBANK.NS'),\n",
              "  ('Open', 'ADANIENT.NS'),\n",
              "  ('High', 'BPCL.NS'),\n",
              "  ('Close', 'SBIN.NS'),\n",
              "  ('Low', 'BAJAJFINSV.NS'),\n",
              "  ('Volume', 'EICHERMOT.NS'),\n",
              "  ('High', 'DIVISLAB.NS'),\n",
              "  ('High', 'INFY.NS'),\n",
              "  ('Open', 'KOTAKBANK.NS')],\n",
              " 'Portfolio_2': [('High', 'BHARTIARTL.NS'),\n",
              "  ('High', 'M&M.NS'),\n",
              "  ('Volume', 'JSWSTEEL.NS'),\n",
              "  ('Volume', 'ITC.NS'),\n",
              "  ('High', 'MARUTI.NS'),\n",
              "  ('Open', 'EICHERMOT.NS'),\n",
              "  ('Low', 'ITC.NS'),\n",
              "  ('Close', 'TATACONSUM.NS'),\n",
              "  ('Volume', 'HINDALCO.NS'),\n",
              "  ('Low', 'TATASTEEL.NS')],\n",
              " 'Portfolio_3': [('Volume', 'SHREECEM.NS'),\n",
              "  ('Volume', 'BRITANNIA.NS'),\n",
              "  ('Close', 'SUNPHARMA.NS'),\n",
              "  ('High', 'NTPC.NS'),\n",
              "  ('Close', 'BPCL.NS'),\n",
              "  ('Low', 'M&M.NS'),\n",
              "  ('Close', 'DIVISLAB.NS'),\n",
              "  ('Close', 'ITC.NS'),\n",
              "  ('Volume', 'SBIN.NS'),\n",
              "  ('Low', 'POWERGRID.NS')],\n",
              " 'Portfolio_4': [('High', 'TCS.NS'),\n",
              "  ('Volume', 'WIPRO.NS'),\n",
              "  ('Close', 'KOTAKBANK.NS'),\n",
              "  ('Open', 'BAJFINANCE.NS'),\n",
              "  ('Volume', 'BAJFINANCE.NS'),\n",
              "  ('Open', 'TATAMOTORS.NS'),\n",
              "  ('Low', 'SUNPHARMA.NS'),\n",
              "  ('Low', 'HEROMOTOCO.NS'),\n",
              "  ('High', 'RELIANCE.NS'),\n",
              "  ('Close', 'WIPRO.NS')]}"
            ]
          },
          "metadata": {},
          "execution_count": 6
        }
      ],
      "source": [
        "portfolios = {\n",
        "    f\"Portfolio_{i+1}\": available_stocks[i*10:(i+1)*10]\n",
        "    for i in range(4)\n",
        "}\n",
        "\n",
        "portfolios\n",
        "# these are the portfolios we have used"
      ]
    },
    {
      "cell_type": "code",
      "execution_count": 7,
      "id": "61845a69",
      "metadata": {
        "id": "61845a69"
      },
      "outputs": [],
      "source": [
        "returns = data_stocks.pct_change().dropna()"
      ]
    },
    {
      "cell_type": "code",
      "execution_count": 8,
      "id": "9914d5ac",
      "metadata": {
        "colab": {
          "base_uri": "https://localhost:8080/"
        },
        "id": "9914d5ac",
        "outputId": "f4a8782f-a76b-4a0b-a184-f120d5b9896c"
      },
      "outputs": [
        {
          "output_type": "stream",
          "name": "stdout",
          "text": [
            "Selected Stocks in Each Portfolio:\n",
            "\n",
            "              Portfolio_1             Portfolio_2             Portfolio_3  \\\n",
            "0      (Volume, TITAN.NS)   (High, BHARTIARTL.NS)   (Volume, SHREECEM.NS)   \n",
            "1    (High, ICICIBANK.NS)          (High, M&M.NS)  (Volume, BRITANNIA.NS)   \n",
            "2     (Open, ADANIENT.NS)   (Volume, JSWSTEEL.NS)   (Close, SUNPHARMA.NS)   \n",
            "3         (High, BPCL.NS)        (Volume, ITC.NS)         (High, NTPC.NS)   \n",
            "4        (Close, SBIN.NS)       (High, MARUTI.NS)        (Close, BPCL.NS)   \n",
            "5    (Low, BAJAJFINSV.NS)    (Open, EICHERMOT.NS)           (Low, M&M.NS)   \n",
            "6  (Volume, EICHERMOT.NS)           (Low, ITC.NS)    (Close, DIVISLAB.NS)   \n",
            "7     (High, DIVISLAB.NS)  (Close, TATACONSUM.NS)         (Close, ITC.NS)   \n",
            "8         (High, INFY.NS)   (Volume, HINDALCO.NS)       (Volume, SBIN.NS)   \n",
            "9    (Open, KOTAKBANK.NS)     (Low, TATASTEEL.NS)     (Low, POWERGRID.NS)   \n",
            "\n",
            "               Portfolio_4  \n",
            "0           (High, TCS.NS)  \n",
            "1       (Volume, WIPRO.NS)  \n",
            "2    (Close, KOTAKBANK.NS)  \n",
            "3    (Open, BAJFINANCE.NS)  \n",
            "4  (Volume, BAJFINANCE.NS)  \n",
            "5    (Open, TATAMOTORS.NS)  \n",
            "6      (Low, SUNPHARMA.NS)  \n",
            "7     (Low, HEROMOTOCO.NS)  \n",
            "8      (High, RELIANCE.NS)  \n",
            "9        (Close, WIPRO.NS)  \n"
          ]
        }
      ],
      "source": [
        "# Create a DataFrame to display the selected portfolios\n",
        "portfolio_df = pd.DataFrame(dict([(k, pd.Series(v)) for k, v in portfolios.items()]))\n",
        "\n",
        "print(\"Selected Stocks in Each Portfolio:\\n\")\n",
        "print(portfolio_df)"
      ]
    },
    {
      "cell_type": "code",
      "execution_count": 9,
      "id": "0695d252",
      "metadata": {
        "id": "0695d252"
      },
      "outputs": [],
      "source": [
        "portfolio_returns = pd.DataFrame(index=returns.index)\n",
        "# now we are going to make the dataframe of the returns in the form of a dataframe"
      ]
    },
    {
      "cell_type": "code",
      "execution_count": 10,
      "id": "a8c7cd69",
      "metadata": {
        "id": "a8c7cd69"
      },
      "outputs": [],
      "source": [
        "for name, stocks in portfolios.items():\n",
        "    portfolio_returns[name] = returns[stocks].mean(axis=1)"
      ]
    },
    {
      "cell_type": "code",
      "execution_count": 11,
      "id": "f766633a",
      "metadata": {
        "colab": {
          "base_uri": "https://localhost:8080/",
          "height": 450
        },
        "id": "f766633a",
        "outputId": "b07a6983-0b06-499b-e751-9c1c49bc4338"
      },
      "outputs": [
        {
          "output_type": "execute_result",
          "data": {
            "text/plain": [
              "            Portfolio_1  Portfolio_2  Portfolio_3  Portfolio_4\n",
              "Date                                                          \n",
              "2014-01-02     0.546724     0.768621     1.882453     0.063466\n",
              "2014-01-03    -0.126419    -0.018717    -0.182786     0.654563\n",
              "2014-01-06    -0.035370    -0.005751     2.112083     0.062288\n",
              "2014-01-07     0.113401     0.024071    -0.077075    -0.088115\n",
              "2014-01-08     0.084179    -0.049292     2.320162    -0.033899\n",
              "...                 ...          ...          ...          ...\n",
              "2023-12-22    -0.027087     0.069632    -0.077278     0.370947\n",
              "2023-12-26     0.022231    -0.111055    -0.054794     0.032907\n",
              "2023-12-27     0.016974     0.293723     0.063479    -0.020892\n",
              "2023-12-28     0.077703     0.222375     0.133404    -0.011811\n",
              "2023-12-29     0.012515    -0.131950    -0.020218    -0.053936\n",
              "\n",
              "[2464 rows x 4 columns]"
            ],
            "text/html": [
              "\n",
              "  <div id=\"df-c66761ad-ed02-48a6-9504-417b403c28c6\" class=\"colab-df-container\">\n",
              "    <div>\n",
              "<style scoped>\n",
              "    .dataframe tbody tr th:only-of-type {\n",
              "        vertical-align: middle;\n",
              "    }\n",
              "\n",
              "    .dataframe tbody tr th {\n",
              "        vertical-align: top;\n",
              "    }\n",
              "\n",
              "    .dataframe thead th {\n",
              "        text-align: right;\n",
              "    }\n",
              "</style>\n",
              "<table border=\"1\" class=\"dataframe\">\n",
              "  <thead>\n",
              "    <tr style=\"text-align: right;\">\n",
              "      <th></th>\n",
              "      <th>Portfolio_1</th>\n",
              "      <th>Portfolio_2</th>\n",
              "      <th>Portfolio_3</th>\n",
              "      <th>Portfolio_4</th>\n",
              "    </tr>\n",
              "    <tr>\n",
              "      <th>Date</th>\n",
              "      <th></th>\n",
              "      <th></th>\n",
              "      <th></th>\n",
              "      <th></th>\n",
              "    </tr>\n",
              "  </thead>\n",
              "  <tbody>\n",
              "    <tr>\n",
              "      <th>2014-01-02</th>\n",
              "      <td>0.546724</td>\n",
              "      <td>0.768621</td>\n",
              "      <td>1.882453</td>\n",
              "      <td>0.063466</td>\n",
              "    </tr>\n",
              "    <tr>\n",
              "      <th>2014-01-03</th>\n",
              "      <td>-0.126419</td>\n",
              "      <td>-0.018717</td>\n",
              "      <td>-0.182786</td>\n",
              "      <td>0.654563</td>\n",
              "    </tr>\n",
              "    <tr>\n",
              "      <th>2014-01-06</th>\n",
              "      <td>-0.035370</td>\n",
              "      <td>-0.005751</td>\n",
              "      <td>2.112083</td>\n",
              "      <td>0.062288</td>\n",
              "    </tr>\n",
              "    <tr>\n",
              "      <th>2014-01-07</th>\n",
              "      <td>0.113401</td>\n",
              "      <td>0.024071</td>\n",
              "      <td>-0.077075</td>\n",
              "      <td>-0.088115</td>\n",
              "    </tr>\n",
              "    <tr>\n",
              "      <th>2014-01-08</th>\n",
              "      <td>0.084179</td>\n",
              "      <td>-0.049292</td>\n",
              "      <td>2.320162</td>\n",
              "      <td>-0.033899</td>\n",
              "    </tr>\n",
              "    <tr>\n",
              "      <th>...</th>\n",
              "      <td>...</td>\n",
              "      <td>...</td>\n",
              "      <td>...</td>\n",
              "      <td>...</td>\n",
              "    </tr>\n",
              "    <tr>\n",
              "      <th>2023-12-22</th>\n",
              "      <td>-0.027087</td>\n",
              "      <td>0.069632</td>\n",
              "      <td>-0.077278</td>\n",
              "      <td>0.370947</td>\n",
              "    </tr>\n",
              "    <tr>\n",
              "      <th>2023-12-26</th>\n",
              "      <td>0.022231</td>\n",
              "      <td>-0.111055</td>\n",
              "      <td>-0.054794</td>\n",
              "      <td>0.032907</td>\n",
              "    </tr>\n",
              "    <tr>\n",
              "      <th>2023-12-27</th>\n",
              "      <td>0.016974</td>\n",
              "      <td>0.293723</td>\n",
              "      <td>0.063479</td>\n",
              "      <td>-0.020892</td>\n",
              "    </tr>\n",
              "    <tr>\n",
              "      <th>2023-12-28</th>\n",
              "      <td>0.077703</td>\n",
              "      <td>0.222375</td>\n",
              "      <td>0.133404</td>\n",
              "      <td>-0.011811</td>\n",
              "    </tr>\n",
              "    <tr>\n",
              "      <th>2023-12-29</th>\n",
              "      <td>0.012515</td>\n",
              "      <td>-0.131950</td>\n",
              "      <td>-0.020218</td>\n",
              "      <td>-0.053936</td>\n",
              "    </tr>\n",
              "  </tbody>\n",
              "</table>\n",
              "<p>2464 rows × 4 columns</p>\n",
              "</div>\n",
              "    <div class=\"colab-df-buttons\">\n",
              "\n",
              "  <div class=\"colab-df-container\">\n",
              "    <button class=\"colab-df-convert\" onclick=\"convertToInteractive('df-c66761ad-ed02-48a6-9504-417b403c28c6')\"\n",
              "            title=\"Convert this dataframe to an interactive table.\"\n",
              "            style=\"display:none;\">\n",
              "\n",
              "  <svg xmlns=\"http://www.w3.org/2000/svg\" height=\"24px\" viewBox=\"0 -960 960 960\">\n",
              "    <path d=\"M120-120v-720h720v720H120Zm60-500h600v-160H180v160Zm220 220h160v-160H400v160Zm0 220h160v-160H400v160ZM180-400h160v-160H180v160Zm440 0h160v-160H620v160ZM180-180h160v-160H180v160Zm440 0h160v-160H620v160Z\"/>\n",
              "  </svg>\n",
              "    </button>\n",
              "\n",
              "  <style>\n",
              "    .colab-df-container {\n",
              "      display:flex;\n",
              "      gap: 12px;\n",
              "    }\n",
              "\n",
              "    .colab-df-convert {\n",
              "      background-color: #E8F0FE;\n",
              "      border: none;\n",
              "      border-radius: 50%;\n",
              "      cursor: pointer;\n",
              "      display: none;\n",
              "      fill: #1967D2;\n",
              "      height: 32px;\n",
              "      padding: 0 0 0 0;\n",
              "      width: 32px;\n",
              "    }\n",
              "\n",
              "    .colab-df-convert:hover {\n",
              "      background-color: #E2EBFA;\n",
              "      box-shadow: 0px 1px 2px rgba(60, 64, 67, 0.3), 0px 1px 3px 1px rgba(60, 64, 67, 0.15);\n",
              "      fill: #174EA6;\n",
              "    }\n",
              "\n",
              "    .colab-df-buttons div {\n",
              "      margin-bottom: 4px;\n",
              "    }\n",
              "\n",
              "    [theme=dark] .colab-df-convert {\n",
              "      background-color: #3B4455;\n",
              "      fill: #D2E3FC;\n",
              "    }\n",
              "\n",
              "    [theme=dark] .colab-df-convert:hover {\n",
              "      background-color: #434B5C;\n",
              "      box-shadow: 0px 1px 3px 1px rgba(0, 0, 0, 0.15);\n",
              "      filter: drop-shadow(0px 1px 2px rgba(0, 0, 0, 0.3));\n",
              "      fill: #FFFFFF;\n",
              "    }\n",
              "  </style>\n",
              "\n",
              "    <script>\n",
              "      const buttonEl =\n",
              "        document.querySelector('#df-c66761ad-ed02-48a6-9504-417b403c28c6 button.colab-df-convert');\n",
              "      buttonEl.style.display =\n",
              "        google.colab.kernel.accessAllowed ? 'block' : 'none';\n",
              "\n",
              "      async function convertToInteractive(key) {\n",
              "        const element = document.querySelector('#df-c66761ad-ed02-48a6-9504-417b403c28c6');\n",
              "        const dataTable =\n",
              "          await google.colab.kernel.invokeFunction('convertToInteractive',\n",
              "                                                    [key], {});\n",
              "        if (!dataTable) return;\n",
              "\n",
              "        const docLinkHtml = 'Like what you see? Visit the ' +\n",
              "          '<a target=\"_blank\" href=https://colab.research.google.com/notebooks/data_table.ipynb>data table notebook</a>'\n",
              "          + ' to learn more about interactive tables.';\n",
              "        element.innerHTML = '';\n",
              "        dataTable['output_type'] = 'display_data';\n",
              "        await google.colab.output.renderOutput(dataTable, element);\n",
              "        const docLink = document.createElement('div');\n",
              "        docLink.innerHTML = docLinkHtml;\n",
              "        element.appendChild(docLink);\n",
              "      }\n",
              "    </script>\n",
              "  </div>\n",
              "\n",
              "\n",
              "    <div id=\"df-b18dfad2-d35a-44a2-8caa-5494d8733899\">\n",
              "      <button class=\"colab-df-quickchart\" onclick=\"quickchart('df-b18dfad2-d35a-44a2-8caa-5494d8733899')\"\n",
              "                title=\"Suggest charts\"\n",
              "                style=\"display:none;\">\n",
              "\n",
              "<svg xmlns=\"http://www.w3.org/2000/svg\" height=\"24px\"viewBox=\"0 0 24 24\"\n",
              "     width=\"24px\">\n",
              "    <g>\n",
              "        <path d=\"M19 3H5c-1.1 0-2 .9-2 2v14c0 1.1.9 2 2 2h14c1.1 0 2-.9 2-2V5c0-1.1-.9-2-2-2zM9 17H7v-7h2v7zm4 0h-2V7h2v10zm4 0h-2v-4h2v4z\"/>\n",
              "    </g>\n",
              "</svg>\n",
              "      </button>\n",
              "\n",
              "<style>\n",
              "  .colab-df-quickchart {\n",
              "      --bg-color: #E8F0FE;\n",
              "      --fill-color: #1967D2;\n",
              "      --hover-bg-color: #E2EBFA;\n",
              "      --hover-fill-color: #174EA6;\n",
              "      --disabled-fill-color: #AAA;\n",
              "      --disabled-bg-color: #DDD;\n",
              "  }\n",
              "\n",
              "  [theme=dark] .colab-df-quickchart {\n",
              "      --bg-color: #3B4455;\n",
              "      --fill-color: #D2E3FC;\n",
              "      --hover-bg-color: #434B5C;\n",
              "      --hover-fill-color: #FFFFFF;\n",
              "      --disabled-bg-color: #3B4455;\n",
              "      --disabled-fill-color: #666;\n",
              "  }\n",
              "\n",
              "  .colab-df-quickchart {\n",
              "    background-color: var(--bg-color);\n",
              "    border: none;\n",
              "    border-radius: 50%;\n",
              "    cursor: pointer;\n",
              "    display: none;\n",
              "    fill: var(--fill-color);\n",
              "    height: 32px;\n",
              "    padding: 0;\n",
              "    width: 32px;\n",
              "  }\n",
              "\n",
              "  .colab-df-quickchart:hover {\n",
              "    background-color: var(--hover-bg-color);\n",
              "    box-shadow: 0 1px 2px rgba(60, 64, 67, 0.3), 0 1px 3px 1px rgba(60, 64, 67, 0.15);\n",
              "    fill: var(--button-hover-fill-color);\n",
              "  }\n",
              "\n",
              "  .colab-df-quickchart-complete:disabled,\n",
              "  .colab-df-quickchart-complete:disabled:hover {\n",
              "    background-color: var(--disabled-bg-color);\n",
              "    fill: var(--disabled-fill-color);\n",
              "    box-shadow: none;\n",
              "  }\n",
              "\n",
              "  .colab-df-spinner {\n",
              "    border: 2px solid var(--fill-color);\n",
              "    border-color: transparent;\n",
              "    border-bottom-color: var(--fill-color);\n",
              "    animation:\n",
              "      spin 1s steps(1) infinite;\n",
              "  }\n",
              "\n",
              "  @keyframes spin {\n",
              "    0% {\n",
              "      border-color: transparent;\n",
              "      border-bottom-color: var(--fill-color);\n",
              "      border-left-color: var(--fill-color);\n",
              "    }\n",
              "    20% {\n",
              "      border-color: transparent;\n",
              "      border-left-color: var(--fill-color);\n",
              "      border-top-color: var(--fill-color);\n",
              "    }\n",
              "    30% {\n",
              "      border-color: transparent;\n",
              "      border-left-color: var(--fill-color);\n",
              "      border-top-color: var(--fill-color);\n",
              "      border-right-color: var(--fill-color);\n",
              "    }\n",
              "    40% {\n",
              "      border-color: transparent;\n",
              "      border-right-color: var(--fill-color);\n",
              "      border-top-color: var(--fill-color);\n",
              "    }\n",
              "    60% {\n",
              "      border-color: transparent;\n",
              "      border-right-color: var(--fill-color);\n",
              "    }\n",
              "    80% {\n",
              "      border-color: transparent;\n",
              "      border-right-color: var(--fill-color);\n",
              "      border-bottom-color: var(--fill-color);\n",
              "    }\n",
              "    90% {\n",
              "      border-color: transparent;\n",
              "      border-bottom-color: var(--fill-color);\n",
              "    }\n",
              "  }\n",
              "</style>\n",
              "\n",
              "      <script>\n",
              "        async function quickchart(key) {\n",
              "          const quickchartButtonEl =\n",
              "            document.querySelector('#' + key + ' button');\n",
              "          quickchartButtonEl.disabled = true;  // To prevent multiple clicks.\n",
              "          quickchartButtonEl.classList.add('colab-df-spinner');\n",
              "          try {\n",
              "            const charts = await google.colab.kernel.invokeFunction(\n",
              "                'suggestCharts', [key], {});\n",
              "          } catch (error) {\n",
              "            console.error('Error during call to suggestCharts:', error);\n",
              "          }\n",
              "          quickchartButtonEl.classList.remove('colab-df-spinner');\n",
              "          quickchartButtonEl.classList.add('colab-df-quickchart-complete');\n",
              "        }\n",
              "        (() => {\n",
              "          let quickchartButtonEl =\n",
              "            document.querySelector('#df-b18dfad2-d35a-44a2-8caa-5494d8733899 button');\n",
              "          quickchartButtonEl.style.display =\n",
              "            google.colab.kernel.accessAllowed ? 'block' : 'none';\n",
              "        })();\n",
              "      </script>\n",
              "    </div>\n",
              "\n",
              "  <div id=\"id_5d5f234b-6c72-470d-8299-1daa7159b418\">\n",
              "    <style>\n",
              "      .colab-df-generate {\n",
              "        background-color: #E8F0FE;\n",
              "        border: none;\n",
              "        border-radius: 50%;\n",
              "        cursor: pointer;\n",
              "        display: none;\n",
              "        fill: #1967D2;\n",
              "        height: 32px;\n",
              "        padding: 0 0 0 0;\n",
              "        width: 32px;\n",
              "      }\n",
              "\n",
              "      .colab-df-generate:hover {\n",
              "        background-color: #E2EBFA;\n",
              "        box-shadow: 0px 1px 2px rgba(60, 64, 67, 0.3), 0px 1px 3px 1px rgba(60, 64, 67, 0.15);\n",
              "        fill: #174EA6;\n",
              "      }\n",
              "\n",
              "      [theme=dark] .colab-df-generate {\n",
              "        background-color: #3B4455;\n",
              "        fill: #D2E3FC;\n",
              "      }\n",
              "\n",
              "      [theme=dark] .colab-df-generate:hover {\n",
              "        background-color: #434B5C;\n",
              "        box-shadow: 0px 1px 3px 1px rgba(0, 0, 0, 0.15);\n",
              "        filter: drop-shadow(0px 1px 2px rgba(0, 0, 0, 0.3));\n",
              "        fill: #FFFFFF;\n",
              "      }\n",
              "    </style>\n",
              "    <button class=\"colab-df-generate\" onclick=\"generateWithVariable('portfolio_returns')\"\n",
              "            title=\"Generate code using this dataframe.\"\n",
              "            style=\"display:none;\">\n",
              "\n",
              "  <svg xmlns=\"http://www.w3.org/2000/svg\" height=\"24px\"viewBox=\"0 0 24 24\"\n",
              "       width=\"24px\">\n",
              "    <path d=\"M7,19H8.4L18.45,9,17,7.55,7,17.6ZM5,21V16.75L18.45,3.32a2,2,0,0,1,2.83,0l1.4,1.43a1.91,1.91,0,0,1,.58,1.4,1.91,1.91,0,0,1-.58,1.4L9.25,21ZM18.45,9,17,7.55Zm-12,3A5.31,5.31,0,0,0,4.9,8.1,5.31,5.31,0,0,0,1,6.5,5.31,5.31,0,0,0,4.9,4.9,5.31,5.31,0,0,0,6.5,1,5.31,5.31,0,0,0,8.1,4.9,5.31,5.31,0,0,0,12,6.5,5.46,5.46,0,0,0,6.5,12Z\"/>\n",
              "  </svg>\n",
              "    </button>\n",
              "    <script>\n",
              "      (() => {\n",
              "      const buttonEl =\n",
              "        document.querySelector('#id_5d5f234b-6c72-470d-8299-1daa7159b418 button.colab-df-generate');\n",
              "      buttonEl.style.display =\n",
              "        google.colab.kernel.accessAllowed ? 'block' : 'none';\n",
              "\n",
              "      buttonEl.onclick = () => {\n",
              "        google.colab.notebook.generateWithVariable('portfolio_returns');\n",
              "      }\n",
              "      })();\n",
              "    </script>\n",
              "  </div>\n",
              "\n",
              "    </div>\n",
              "  </div>\n"
            ],
            "application/vnd.google.colaboratory.intrinsic+json": {
              "type": "dataframe",
              "variable_name": "portfolio_returns",
              "repr_error": "Out of range float values are not JSON compliant: inf"
            }
          },
          "metadata": {},
          "execution_count": 11
        }
      ],
      "source": [
        "portfolio_returns\n",
        "# these are the returns of all the portfolios."
      ]
    },
    {
      "cell_type": "markdown",
      "id": "ad5ceb5a",
      "metadata": {
        "id": "ad5ceb5a"
      },
      "source": [
        "## After we have taken out the returns of the porfolios , we need to take the last 10 years of data\n",
        "From that we are going to Break the period into non-overlapping 20-day windows"
      ]
    },
    {
      "cell_type": "code",
      "execution_count": 12,
      "id": "85d3dc79",
      "metadata": {
        "colab": {
          "base_uri": "https://localhost:8080/"
        },
        "id": "85d3dc79",
        "outputId": "b5e930f4-34fa-439a-8f99-1a56af442d5c"
      },
      "outputs": [
        {
          "output_type": "stream",
          "name": "stdout",
          "text": [
            "  Start_Date  Portfolio_1  Portfolio_2  Portfolio_3  Portfolio_4  Volatility  \\\n",
            "0 2014-01-02       2.2352       1.4407     135.7492       3.1931      0.2456   \n",
            "1 2014-01-30       4.3221          inf          inf      10.0738         NaN   \n",
            "2 2014-02-28       3.1448       0.6733      69.2580       4.1317      0.2245   \n",
            "3 2014-03-31          inf          inf          inf          inf         NaN   \n",
            "4 2014-05-02       2.2097       1.1221       5.8917       3.1245      0.1329   \n",
            "5 2014-05-30       4.2155       0.4919       9.8731       2.1365      0.1132   \n",
            "6 2014-06-27       0.2669       0.5998       5.6644       0.7609      0.0668   \n",
            "7 2014-07-25       4.3864       0.6567       4.3853       2.8220      0.0746   \n",
            "8 2014-08-26       1.3149       0.5131       9.0141       1.2498      0.1114   \n",
            "9 2014-09-24          inf          inf          inf          inf         NaN   \n",
            "\n",
            "  Market_Regime  \n",
            "0        Normal  \n",
            "1        Normal  \n",
            "2        Normal  \n",
            "3        Normal  \n",
            "4        Normal  \n",
            "5        Normal  \n",
            "6        Normal  \n",
            "7        Normal  \n",
            "8        Normal  \n",
            "9        Normal  \n"
          ]
        }
      ],
      "source": [
        "window_results = []\n",
        "\n",
        "for i in range(0, len(portfolio_returns) - 20 + 1, 20):\n",
        "    window = portfolio_returns.iloc[i:i+20]\n",
        "\n",
        "    # after creating a loop we have made\n",
        "\n",
        "    cumulative = (1 + window).prod() - 1\n",
        "\n",
        "    daily_mean = window.mean(axis=1)\n",
        "\n",
        "    # Volatility of the window\n",
        "    volatility = daily_mean.std()\n",
        "\n",
        "    # Total return of the market (mean return of all portfolios)\n",
        "    total_return = (1 + daily_mean).prod() - 1\n",
        "\n",
        "    # Label as Crash if volatility is high and returns are sharply negative\n",
        "    label = 'Crash' if (volatility > 0.015 and total_return < -0.03) else 'Normal'\n",
        "\n",
        "    result = {\n",
        "        'Start_Date': window.index[0],\n",
        "        'Portfolio_1': round(cumulative['Portfolio_1'], 4),\n",
        "        'Portfolio_2': round(cumulative['Portfolio_2'], 4),\n",
        "        'Portfolio_3': round(cumulative['Portfolio_3'], 4),\n",
        "        'Portfolio_4': round(cumulative['Portfolio_4'], 4),\n",
        "        'Volatility': round(volatility, 4),\n",
        "        'Market_Regime': label\n",
        "    }\n",
        "\n",
        "    window_results.append(result)\n",
        "\n",
        "# Create DataFrame\n",
        "windows_df = pd.DataFrame(window_results)\n",
        "print(windows_df.head(10))\n",
        "\n",
        "#plot graph"
      ]
    },
    {
      "cell_type": "code",
      "source": [
        "##2.2 what is the importance of daily mean and voltatiltu in the above code"
      ],
      "metadata": {
        "id": "68ZspxL6dp5C"
      },
      "id": "68ZspxL6dp5C",
      "execution_count": 13,
      "outputs": []
    },
    {
      "cell_type": "markdown",
      "id": "1ae48303",
      "metadata": {
        "id": "1ae48303"
      },
      "source": [
        "## Why have we chosen the given values of the vol_thresh and return_threshold is that duirng the 20 day overlap period which we have taken , a drop of 3% or more is considered in the negative direction.\n",
        "-- Since we want to capture the crahses as well as the times where the stocks where in the right direction to say , profit\n"
      ]
    },
    {
      "cell_type": "code",
      "source": [
        "# Now if we want to see some times where the combinaitons of these portfolios had experienced some crashes , we can find the sharp threshold range\n",
        "sharp_drop_threshold = -0.05\n",
        "\n",
        "sharp_drop_windows = windows_df[\n",
        "    (windows_df['Portfolio_1'] < sharp_drop_threshold) |\n",
        "    (windows_df['Portfolio_2'] < sharp_drop_threshold) |\n",
        "    (windows_df['Portfolio_3'] < sharp_drop_threshold) |\n",
        "    (windows_df['Portfolio_4'] < sharp_drop_threshold)\n",
        "]\n",
        "print(sharp_drop_windows[['Start_Date', 'Portfolio_1', 'Portfolio_2', 'Portfolio_3', 'Portfolio_4', 'Market_Regime']])\n",
        "\n",
        "\n"
      ],
      "metadata": {
        "colab": {
          "base_uri": "https://localhost:8080/"
        },
        "id": "lYCPrbuQdNdH",
        "outputId": "6330eefb-15d7-413a-ee34-58f783674fae"
      },
      "id": "lYCPrbuQdNdH",
      "execution_count": 15,
      "outputs": [
        {
          "output_type": "stream",
          "name": "stdout",
          "text": [
            "Empty DataFrame\n",
            "Columns: [Start_Date, Portfolio_1, Portfolio_2, Portfolio_3, Portfolio_4, Market_Regime]\n",
            "Index: []\n"
          ]
        }
      ]
    },
    {
      "cell_type": "code",
      "source": [
        "import matplotlib.pyplot as plt\n",
        "\n",
        "returns_df = data_stocks.pct_change().dropna()\n",
        "# this will help us getting the daily returns of the stocks\n",
        "\n",
        "portfolio_returns = {}\n",
        "\n",
        "for name, stocks in portfolios.items():\n",
        "    # Equal-weighted mean of the 10 stocks\n",
        "    portfolio_returns[name] = returns_df[stocks].mean(axis=1)\n",
        "\n",
        "# Step 3: Convert to DataFrame\n",
        "portfolio_returns_df = pd.DataFrame(portfolio_returns)\n",
        "\n",
        "# here we have calcuated the cumulative returns of the portfolio\n",
        "cumulative_returns = (1 + portfolio_returns_df).cumprod()\n",
        "\n",
        "\n",
        "plt.figure(figsize=(14, 6))\n",
        "for col in cumulative_returns.columns:\n",
        "    plt.plot(cumulative_returns.index, cumulative_returns[col], label=col)\n",
        "\n",
        "plt.title(\"10-Year Cumulative Returns of 4 Portfolios (Equal-Weighted)\")\n",
        "plt.xlabel(\"Date\")\n",
        "plt.ylabel(\"Cumulative Return\")\n",
        "plt.legend()\n",
        "plt.grid(True)\n",
        "plt.tight_layout()\n",
        "plt.show()"
      ],
      "metadata": {
        "colab": {
          "base_uri": "https://localhost:8080/",
          "height": 607
        },
        "id": "wNX3P3Iz4mfA",
        "outputId": "a771fed4-b6a6-4b31-cf8c-0af4e031f03d"
      },
      "id": "wNX3P3Iz4mfA",
      "execution_count": 20,
      "outputs": [
        {
          "output_type": "display_data",
          "data": {
            "text/plain": [
              "<Figure size 1400x600 with 1 Axes>"
            ],
            "image/png": "[encoded data removed]"
          },
          "metadata": {}
        }
      ]
    }
  ],
  "metadata": {
    "kernelspec": {
      "display_name": "Python 3",
      "name": "python3"
    },
    "language_info": {
      "name": "python"
    },
    "colab": {
      "provenance": [],
      "include_colab_link": true
    }
  },
  "nbformat": 4,
  "nbformat_minor": 5
}