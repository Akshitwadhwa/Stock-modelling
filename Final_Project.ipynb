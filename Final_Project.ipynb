{
 "cells": [
  {
   "cell_type": "markdown",
   "id": "77211885",
   "metadata": {},
   "source": [
    "## This is the colab notebook which has some ways in which optimal portfolio can be made. The desgin overview of this portfolio is such that we have selected a combinations of 4 distinct portfolios from the set of 50 stocks\n",
    "\n",
    "-- In the set of 50 stocks we are going to choose a set of 10 stocks in each portfolio"
   ]
  },
  {
   "cell_type": "code",
   "execution_count": 29,
   "id": "95873d2e",
   "metadata": {},
   "outputs": [],
   "source": [
    "# Firstly we are going to load all the libraries which we need\n",
    "import pandas as pd\n",
    "import numpy as np\n",
    "import yfinance as yf\n",
    "import matplotlib.pyplot as plt\n",
    "import cvxpy as cp\n",
    "# importing the libraries\n",
    "\n"
   ]
  },
  {
   "cell_type": "markdown",
   "id": "d9a550e9",
   "metadata": {},
   "source": [
    "-- Now we are going to load the set of the nifty fifty stocks "
   ]
  },
  {
   "cell_type": "code",
   "execution_count": 30,
   "id": "0e980388",
   "metadata": {},
   "outputs": [
    {
     "name": "stderr",
     "output_type": "stream",
     "text": [
      "[*********************100%***********************]  50 of 50 completed\n"
     ]
    },
    {
     "name": "stdout",
     "output_type": "stream",
     "text": [
      "Price            Close                                                        \\\n",
      "Ticker     ADANIENT.NS APOLLOHOSP.NS ASIANPAINT.NS AXISBANK.NS BAJAJ-AUTO.NS   \n",
      "Date                                                                           \n",
      "2014-01-01   37.933193    927.892761    459.297485  247.552414   1448.022827   \n",
      "2014-01-02   36.041821    890.798218    446.246918  243.740112   1434.920288   \n",
      "2014-01-03   35.053799    911.283997    449.877106  241.556152   1431.521729   \n",
      "2014-01-06   35.576042    905.301025    450.933960  240.674896   1426.046509   \n",
      "2014-01-07   34.150455    892.281982    450.290741  236.450699   1427.292358   \n",
      "\n",
      "Price                                                                         \\\n",
      "Ticker     BAJAJFINSV.NS BAJFINANCE.NS BHARTIARTL.NS    BPCL.NS BRITANNIA.NS   \n",
      "Date                                                                           \n",
      "2014-01-01     75.462006    151.039185    286.472443  31.349646   399.551483   \n",
      "2014-01-02     72.309883    150.933380    278.796478  30.474331   395.527557   \n",
      "2014-01-03     72.404213    149.615646    279.347778  29.563099   398.855469   \n",
      "2014-01-06     72.642464    149.226089    279.347778  29.607994   395.397003   \n",
      "2014-01-07     72.577942    149.476166    281.341034  29.046892   393.200104   \n",
      "\n",
      "Price       ...       Volume                                           \\\n",
      "Ticker      ... SUNPHARMA.NS TATACONSUM.NS TATAMOTORS.NS TATASTEEL.NS   \n",
      "Date        ...                                                         \n",
      "2014-01-01  ...       425464       1958707       1364747     12526105   \n",
      "2014-01-02  ...      1311399       2116255       3015089     41987111   \n",
      "2014-01-03  ...      1443488       1816178       5004049     33417104   \n",
      "2014-01-06  ...      1832494       1538685       5490077     28387844   \n",
      "2014-01-07  ...      2986634       1244854       4020899     40939015   \n",
      "\n",
      "Price                                                                  \n",
      "Ticker       TCS.NS TECHM.NS TITAN.NS ULTRACEMCO.NS   UPL.NS WIPRO.NS  \n",
      "Date                                                                   \n",
      "2014-01-01   529952   698232   538938         51796   652306  2362703  \n",
      "2014-01-02  1726948  1395500  1570396         81220  1664496  4882590  \n",
      "2014-01-03  2618174  1327296   818984         78848  1706644  5907534  \n",
      "2014-01-06  2311810  1485056   497192         65748  2659779  9896413  \n",
      "2014-01-07  2897486  1914320   713955         98004  1868245  6572222  \n",
      "\n",
      "[5 rows x 250 columns]\n"
     ]
    }
   ],
   "source": [
    "nifty50_Stocks = [\n",
    "    \"RELIANCE.NS\", \"TCS.NS\", \"INFY.NS\", \"HDFCBANK.NS\", \"ICICIBANK.NS\", \"KOTAKBANK.NS\",\n",
    "    \"HINDUNILVR.NS\", \"SBIN.NS\", \"LT.NS\", \"ITC.NS\", \"AXISBANK.NS\", \"BAJFINANCE.NS\",\n",
    "    \"ASIANPAINT.NS\", \"MARUTI.NS\", \"SUNPHARMA.NS\", \"ULTRACEMCO.NS\", \"NESTLEIND.NS\", \"WIPRO.NS\",\n",
    "    \"NTPC.NS\", \"POWERGRID.NS\", \"COALINDIA.NS\", \"TITAN.NS\", \"TECHM.NS\", \"GRASIM.NS\",\n",
    "    \"BHARTIARTL.NS\", \"HCLTECH.NS\", \"DRREDDY.NS\", \"ADANIENT.NS\", \"BAJAJFINSV.NS\", \"TATASTEEL.NS\",\n",
    "    \"HDFCLIFE.NS\", \"SBILIFE.NS\", \"HEROMOTOCO.NS\", \"DIVISLAB.NS\", \"INDUSINDBK.NS\", \"JSWSTEEL.NS\",\n",
    "    \"CIPLA.NS\", \"EICHERMOT.NS\", \"UPL.NS\", \"BPCL.NS\", \"BRITANNIA.NS\", \"SHREECEM.NS\",\n",
    "    \"ONGC.NS\", \"APOLLOHOSP.NS\", \"BAJAJ-AUTO.NS\", \"M&M.NS\", \"HINDALCO.NS\", \"TATACONSUM.NS\",\n",
    "    \"TATAMOTORS.NS\", \"SBICARD.NS\"\n",
    "]\n",
    "#importing the nifty fifty stocks\n",
    "\n",
    "# Defining the time for which we need the data for\n",
    "\n",
    "data_stocks = yf.download(nifty50_Stocks, start=\"2014-01-01\", end=\"2024-01-01\")\n",
    "\n",
    "print(data_stocks.head())"
   ]
  },
  {
   "cell_type": "code",
   "execution_count": 76,
   "id": "3cc590cf",
   "metadata": {},
   "outputs": [],
   "source": [
    "# Now we need to remove the missing data in the stocks \n",
    "data_stocks = data_stocks.dropna(axis=1, thresh=len(data_stocks)*0.95)\n",
    "import random"
   ]
  },
  {
   "cell_type": "markdown",
   "id": "024766ec",
   "metadata": {},
   "source": [
    "# These stocks are diversified acorss different sectors to ensure no single sector dominates your profile\n",
    "-- After this we are going to find the sectors of each of the following stocks which is available in the yfinance library"
   ]
  },
  {
   "cell_type": "markdown",
   "id": "abdb5827",
   "metadata": {},
   "source": [
    "# What is stocks diversification\n",
    "-- Stock diversification is the porcess of spreading your investments across different assests to reduce the overeall risks\n",
    "\n",
    "-- What does Diversity do in the stock selection,it reduces the risk of getting a major loss when the market crashes as you dont have all your eggs in one basket"
   ]
  },
  {
   "cell_type": "code",
   "execution_count": 77,
   "id": "7b9bdd6c",
   "metadata": {},
   "outputs": [],
   "source": [
    "available_stocks = list(data_stocks .columns)\n",
    "random.shuffle(available_stocks)\n"
   ]
  },
  {
   "cell_type": "code",
   "execution_count": null,
   "id": "5b8813de",
   "metadata": {},
   "outputs": [
    {
     "data": {
      "text/plain": [
       "{'Portfolio_1': [('Volume', 'TECHM.NS'),\n",
       "  ('Volume', 'UPL.NS'),\n",
       "  ('Open', 'NTPC.NS'),\n",
       "  ('High', 'HCLTECH.NS'),\n",
       "  ('Open', 'JSWSTEEL.NS'),\n",
       "  ('Low', 'EICHERMOT.NS'),\n",
       "  ('Volume', 'TATAMOTORS.NS'),\n",
       "  ('Close', 'TATASTEEL.NS'),\n",
       "  ('Open', 'NESTLEIND.NS'),\n",
       "  ('Open', 'TATAMOTORS.NS')],\n",
       " 'Portfolio_2': [('High', 'TCS.NS'),\n",
       "  ('High', 'NTPC.NS'),\n",
       "  ('Low', 'BAJAJ-AUTO.NS'),\n",
       "  ('Low', 'HEROMOTOCO.NS'),\n",
       "  ('Open', 'LT.NS'),\n",
       "  ('Close', 'BAJAJ-AUTO.NS'),\n",
       "  ('High', 'INFY.NS'),\n",
       "  ('Open', 'TATASTEEL.NS'),\n",
       "  ('Volume', 'MARUTI.NS'),\n",
       "  ('Open', 'BPCL.NS')],\n",
       " 'Portfolio_3': [('Open', 'BAJAJ-AUTO.NS'),\n",
       "  ('Low', 'TITAN.NS'),\n",
       "  ('Close', 'COALINDIA.NS'),\n",
       "  ('Volume', 'ASIANPAINT.NS'),\n",
       "  ('Low', 'BAJAJFINSV.NS'),\n",
       "  ('High', 'SUNPHARMA.NS'),\n",
       "  ('High', 'JSWSTEEL.NS'),\n",
       "  ('Volume', 'BAJAJ-AUTO.NS'),\n",
       "  ('Close', 'DIVISLAB.NS'),\n",
       "  ('Low', 'GRASIM.NS')],\n",
       " 'Portfolio_4': [('Low', 'NESTLEIND.NS'),\n",
       "  ('Low', 'BPCL.NS'),\n",
       "  ('Close', 'LT.NS'),\n",
       "  ('High', 'EICHERMOT.NS'),\n",
       "  ('High', 'ADANIENT.NS'),\n",
       "  ('Close', 'BHARTIARTL.NS'),\n",
       "  ('Volume', 'APOLLOHOSP.NS'),\n",
       "  ('Close', 'APOLLOHOSP.NS'),\n",
       "  ('Open', 'EICHERMOT.NS'),\n",
       "  ('Open', 'WIPRO.NS')]}"
      ]
     },
     "execution_count": 83,
     "metadata": {},
     "output_type": "execute_result"
    }
   ],
   "source": [
    "portfolios = {\n",
    "    f\"Portfolio_{i+1}\": available_stocks[i*10:(i+1)*10]\n",
    "    for i in range(4)\n",
    "}\n",
    "\n",
    "portfolios\n",
    "# these are the portfolios we have used"
   ]
  },
  {
   "cell_type": "code",
   "execution_count": 81,
   "id": "61845a69",
   "metadata": {},
   "outputs": [],
   "source": [
    "returns = data_stocks.pct_change().dropna()"
   ]
  },
  {
   "cell_type": "code",
   "execution_count": 87,
   "id": "9914d5ac",
   "metadata": {},
   "outputs": [
    {
     "name": "stdout",
     "output_type": "stream",
     "text": [
      "🎯 Selected Stocks in Each Portfolio:\n",
      "\n",
      "               Portfolio_1             Portfolio_2              Portfolio_3  \\\n",
      "0       (Volume, TECHM.NS)          (High, TCS.NS)    (Open, BAJAJ-AUTO.NS)   \n",
      "1         (Volume, UPL.NS)         (High, NTPC.NS)          (Low, TITAN.NS)   \n",
      "2          (Open, NTPC.NS)    (Low, BAJAJ-AUTO.NS)    (Close, COALINDIA.NS)   \n",
      "3       (High, HCLTECH.NS)    (Low, HEROMOTOCO.NS)  (Volume, ASIANPAINT.NS)   \n",
      "4      (Open, JSWSTEEL.NS)           (Open, LT.NS)     (Low, BAJAJFINSV.NS)   \n",
      "5      (Low, EICHERMOT.NS)  (Close, BAJAJ-AUTO.NS)     (High, SUNPHARMA.NS)   \n",
      "6  (Volume, TATAMOTORS.NS)         (High, INFY.NS)      (High, JSWSTEEL.NS)   \n",
      "7    (Close, TATASTEEL.NS)    (Open, TATASTEEL.NS)  (Volume, BAJAJ-AUTO.NS)   \n",
      "8     (Open, NESTLEIND.NS)     (Volume, MARUTI.NS)     (Close, DIVISLAB.NS)   \n",
      "9    (Open, TATAMOTORS.NS)         (Open, BPCL.NS)         (Low, GRASIM.NS)   \n",
      "\n",
      "               Portfolio_4  \n",
      "0      (Low, NESTLEIND.NS)  \n",
      "1           (Low, BPCL.NS)  \n",
      "2           (Close, LT.NS)  \n",
      "3     (High, EICHERMOT.NS)  \n",
      "4      (High, ADANIENT.NS)  \n",
      "5   (Close, BHARTIARTL.NS)  \n",
      "6  (Volume, APOLLOHOSP.NS)  \n",
      "7   (Close, APOLLOHOSP.NS)  \n",
      "8     (Open, EICHERMOT.NS)  \n",
      "9         (Open, WIPRO.NS)  \n"
     ]
    }
   ],
   "source": [
    "# Create a DataFrame to display the selected portfolios\n",
    "portfolio_df = pd.DataFrame(dict([(k, pd.Series(v)) for k, v in portfolios.items()]))\n",
    "\n",
    "print(\"🎯 Selected Stocks in Each Portfolio:\\n\")\n",
    "print(portfolio_df)"
   ]
  },
  {
   "cell_type": "code",
   "execution_count": null,
   "id": "0695d252",
   "metadata": {},
   "outputs": [],
   "source": [
    "portfolio_returns = pd.DataFrame(index=returns.index)\n",
    "# now we are going to make the dataframe of the returns in the form of a dataframe"
   ]
  },
  {
   "cell_type": "code",
   "execution_count": 85,
   "id": "a8c7cd69",
   "metadata": {},
   "outputs": [],
   "source": [
    "for name, stocks in portfolios.items():\n",
    "    portfolio_returns[name] = returns[stocks].mean(axis=1)\n",
    "\n"
   ]
  },
  {
   "cell_type": "code",
   "execution_count": null,
   "id": "f766633a",
   "metadata": {},
   "outputs": [
    {
     "data": {
      "text/html": [
       "<div>\n",
       "<style scoped>\n",
       "    .dataframe tbody tr th:only-of-type {\n",
       "        vertical-align: middle;\n",
       "    }\n",
       "\n",
       "    .dataframe tbody tr th {\n",
       "        vertical-align: top;\n",
       "    }\n",
       "\n",
       "    .dataframe thead th {\n",
       "        text-align: right;\n",
       "    }\n",
       "</style>\n",
       "<table border=\"1\" class=\"dataframe\">\n",
       "  <thead>\n",
       "    <tr style=\"text-align: right;\">\n",
       "      <th></th>\n",
       "      <th>Portfolio_1</th>\n",
       "      <th>Portfolio_2</th>\n",
       "      <th>Portfolio_3</th>\n",
       "      <th>Portfolio_4</th>\n",
       "    </tr>\n",
       "    <tr>\n",
       "      <th>Date</th>\n",
       "      <th></th>\n",
       "      <th></th>\n",
       "      <th></th>\n",
       "      <th></th>\n",
       "    </tr>\n",
       "  </thead>\n",
       "  <tbody>\n",
       "    <tr>\n",
       "      <th>2014-01-02</th>\n",
       "      <td>0.374622</td>\n",
       "      <td>0.631306</td>\n",
       "      <td>0.141492</td>\n",
       "      <td>-0.063961</td>\n",
       "    </tr>\n",
       "    <tr>\n",
       "      <th>2014-01-03</th>\n",
       "      <td>0.056602</td>\n",
       "      <td>-0.074846</td>\n",
       "      <td>-0.015638</td>\n",
       "      <td>-0.021931</td>\n",
       "    </tr>\n",
       "    <tr>\n",
       "      <th>2014-01-06</th>\n",
       "      <td>0.073221</td>\n",
       "      <td>-0.009770</td>\n",
       "      <td>0.009538</td>\n",
       "      <td>-0.032430</td>\n",
       "    </tr>\n",
       "    <tr>\n",
       "      <th>2014-01-07</th>\n",
       "      <td>-0.025572</td>\n",
       "      <td>0.191379</td>\n",
       "      <td>-0.028032</td>\n",
       "      <td>0.043258</td>\n",
       "    </tr>\n",
       "    <tr>\n",
       "      <th>2014-01-08</th>\n",
       "      <td>0.085087</td>\n",
       "      <td>-0.017897</td>\n",
       "      <td>0.137959</td>\n",
       "      <td>0.012382</td>\n",
       "    </tr>\n",
       "    <tr>\n",
       "      <th>...</th>\n",
       "      <td>...</td>\n",
       "      <td>...</td>\n",
       "      <td>...</td>\n",
       "      <td>...</td>\n",
       "    </tr>\n",
       "    <tr>\n",
       "      <th>2023-12-22</th>\n",
       "      <td>0.018306</td>\n",
       "      <td>0.004825</td>\n",
       "      <td>-0.075625</td>\n",
       "      <td>-0.042363</td>\n",
       "    </tr>\n",
       "    <tr>\n",
       "      <th>2023-12-26</th>\n",
       "      <td>-0.017860</td>\n",
       "      <td>-0.032039</td>\n",
       "      <td>0.000080</td>\n",
       "      <td>0.022568</td>\n",
       "    </tr>\n",
       "    <tr>\n",
       "      <th>2023-12-27</th>\n",
       "      <td>0.068043</td>\n",
       "      <td>0.012713</td>\n",
       "      <td>0.283506</td>\n",
       "      <td>0.038522</td>\n",
       "    </tr>\n",
       "    <tr>\n",
       "      <th>2023-12-28</th>\n",
       "      <td>0.055778</td>\n",
       "      <td>0.055357</td>\n",
       "      <td>-0.051857</td>\n",
       "      <td>0.090303</td>\n",
       "    </tr>\n",
       "    <tr>\n",
       "      <th>2023-12-29</th>\n",
       "      <td>0.132122</td>\n",
       "      <td>0.021758</td>\n",
       "      <td>-0.037864</td>\n",
       "      <td>-0.043572</td>\n",
       "    </tr>\n",
       "  </tbody>\n",
       "</table>\n",
       "<p>2464 rows × 4 columns</p>\n",
       "</div>"
      ],
      "text/plain": [
       "            Portfolio_1  Portfolio_2  Portfolio_3  Portfolio_4\n",
       "Date                                                          \n",
       "2014-01-02     0.374622     0.631306     0.141492    -0.063961\n",
       "2014-01-03     0.056602    -0.074846    -0.015638    -0.021931\n",
       "2014-01-06     0.073221    -0.009770     0.009538    -0.032430\n",
       "2014-01-07    -0.025572     0.191379    -0.028032     0.043258\n",
       "2014-01-08     0.085087    -0.017897     0.137959     0.012382\n",
       "...                 ...          ...          ...          ...\n",
       "2023-12-22     0.018306     0.004825    -0.075625    -0.042363\n",
       "2023-12-26    -0.017860    -0.032039     0.000080     0.022568\n",
       "2023-12-27     0.068043     0.012713     0.283506     0.038522\n",
       "2023-12-28     0.055778     0.055357    -0.051857     0.090303\n",
       "2023-12-29     0.132122     0.021758    -0.037864    -0.043572\n",
       "\n",
       "[2464 rows x 4 columns]"
      ]
     },
     "execution_count": 86,
     "metadata": {},
     "output_type": "execute_result"
    }
   ],
   "source": [
    "portfolio_returns\n",
    "# these are the returns of all the portfolios.\n",
    "\n"
   ]
  },
  {
   "cell_type": "markdown",
   "id": "ad5ceb5a",
   "metadata": {},
   "source": [
    "## After we have taken out the returns of the porfolios , we need to take the "
   ]
  },
  {
   "cell_type": "code",
   "execution_count": null,
   "id": "8457135b",
   "metadata": {},
   "outputs": [],
   "source": []
  },
  {
   "cell_type": "code",
   "execution_count": null,
   "id": "cfc0aa75",
   "metadata": {},
   "outputs": [],
   "source": []
  }
 ],
 "metadata": {
  "kernelspec": {
   "display_name": "Python 3.13 (venv)",
   "language": "python",
   "name": "py13env"
  },
  "language_info": {
   "codemirror_mode": {
    "name": "ipython",
    "version": 3
   },
   "file_extension": ".py",
   "mimetype": "text/x-python",
   "name": "python",
   "nbconvert_exporter": "python",
   "pygments_lexer": "ipython3",
   "version": "3.13.1"
  }
 },
 "nbformat": 4,
 "nbformat_minor": 5
}
