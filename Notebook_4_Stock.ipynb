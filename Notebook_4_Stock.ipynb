{
  "nbformat": 4,
  "nbformat_minor": 0,
  "metadata": {
    "colab": {
      "provenance": [],
      "include_colab_link": true
    },
    "kernelspec": {
      "name": "python3",
      "display_name": "Python 3"
    },
    "language_info": {
      "name": "python"
    }
  },
  "cells": [
    {
      "cell_type": "markdown",
      "metadata": {
        "id": "view-in-github",
        "colab_type": "text"
      },
      "source": [
        "<a href=\"https://colab.research.google.com/github/Akshitwadhwa/Stock-modelling/blob/main/Notebook_4_Stock.ipynb\" target=\"_parent\"><img src=\"https://colab.research.google.com/assets/colab-badge.svg\" alt=\"Open In Colab\"/></a>"
      ]
    },
    {
      "cell_type": "markdown",
      "source": [
        "## This is the second colab notebook made for selecting the stocks using MPT and making optimal portfolios based upon them\n"
      ],
      "metadata": {
        "id": "NpTyXRdpxReX"
      }
    },
    {
      "cell_type": "markdown",
      "source": [
        "### 1.1 In this notebook we have to load the nifty 50 stock list again and collect that data for the same time interval which is from 2010 to 2024\n"
      ],
      "metadata": {
        "id": "hFUqLR-_zHAz"
      }
    },
    {
      "cell_type": "code",
      "execution_count": 33,
      "metadata": {
        "id": "S9kR6fzRwlQ9"
      },
      "outputs": [],
      "source": [
        "# #### *1. Collect Data*\n",
        "# •⁠  ⁠Historical price data of 50 stocks (daily/weekly/monthly returns)\n",
        "# •⁠  ⁠Time horizon: 2010 to 2024\n",
        "\n",
        "\n",
        "# Importing all the neccesray import numpy as np\n",
        "import pandas as pd\n",
        "import numpy as np\n",
        "import yfinance as yf\n",
        "import matplotlib.pyplot as plt\n",
        "import cvxpy as cp\n",
        "import random\n",
        "\n",
        "\n",
        "\n"
      ]
    },
    {
      "cell_type": "code",
      "source": [
        "# We have to take the stocks from the nifty fifty for the india sector so we need to take the yfinance library.\n",
        "\n",
        "\n",
        "nifty50_Stocks = [\n",
        "    \"RELIANCE.NS\", \"TCS.NS\", \"INFY.NS\", \"HDFCBANK.NS\", \"ICICIBANK.NS\", \"KOTAKBANK.NS\",\n",
        "    \"HINDUNILVR.NS\", \"SBIN.NS\", \"LT.NS\", \"ITC.NS\", \"AXISBANK.NS\", \"BAJFINANCE.NS\",\n",
        "    \"ASIANPAINT.NS\", \"MARUTI.NS\", \"SUNPHARMA.NS\", \"ULTRACEMCO.NS\", \"NESTLEIND.NS\", \"WIPRO.NS\",\n",
        "    \"NTPC.NS\", \"POWERGRID.NS\", \"COALINDIA.NS\", \"TITAN.NS\", \"TECHM.NS\", \"GRASIM.NS\",\n",
        "    \"BHARTIARTL.NS\", \"HCLTECH.NS\", \"DRREDDY.NS\", \"ADANIENT.NS\", \"BAJAJFINSV.NS\", \"TATASTEEL.NS\",\n",
        "    \"HDFCLIFE.NS\", \"SBILIFE.NS\", \"HEROMOTOCO.NS\", \"DIVISLAB.NS\", \"INDUSINDBK.NS\", \"JSWSTEEL.NS\",\n",
        "    \"CIPLA.NS\", \"EICHERMOT.NS\", \"UPL.NS\", \"BPCL.NS\", \"BRITANNIA.NS\", \"SHREECEM.NS\",\n",
        "    \"ONGC.NS\", \"APOLLOHOSP.NS\", \"BAJAJ-AUTO.NS\", \"M&M.NS\", \"HINDALCO.NS\", \"TATACONSUM.NS\",\n",
        "    \"TATAMOTORS.NS\", \"SBICARD.NS\"\n",
        "]\n",
        "#importing the nifty fifty stocks\n",
        "\n"
      ],
      "metadata": {
        "id": "csTwqSvr0SQo"
      },
      "execution_count": 34,
      "outputs": []
    },
    {
      "cell_type": "code",
      "source": [
        "# defining the start and the end time for which we need to read the stocks for\n",
        "\n",
        "price_data = yf.download(nifty50_Stocks, start=\"2010-04-01\", end=\"2024-04-01\")\n",
        "price_data = price_data.dropna(axis=1, thresh=len(price_data)*0.9)\n",
        "# which is from 2010 to 2024\n",
        "\n",
        "# here we have downloaded the data and also reomved the values which are not there in the given time\n",
        "\n",
        "supposed_return = price_data.pct_change().dropna()\n",
        "\n",
        "\n"
      ],
      "metadata": {
        "colab": {
          "base_uri": "https://localhost:8080/"
        },
        "id": "m58LcQGt5lHK",
        "outputId": "92f99b38-2e53-45d5-fdef-83eff381add4"
      },
      "execution_count": 35,
      "outputs": [
        {
          "output_type": "stream",
          "name": "stderr",
          "text": [
            "[*********************100%***********************]  50 of 50 completed\n"
          ]
        }
      ]
    },
    {
      "cell_type": "markdown",
      "source": [
        "### 1.2 What is the mean return for a stock vs a mean return of a portfolio.\n",
        "--The mean return of stock is the average return of a single stock over time\n",
        "\n",
        "--It can also be called as how much a stock returns on a monthly basis.\n",
        "### 1.3 A mean return of a portfolio  can be calculated using the mean return on an investment given the historical returns or the probable rates of returns under giving return scenarios.\n",
        " -- The tool given and used by Investors to weigh investment decsions is known as mean varience analysis.\n",
        "\n",
        " -- The Varience shows how spread out the returns of a specific security on a daily or weekly basis.\n",
        "\n",
        " -- The expected return is a probability expressing the estimated return of the investment in the security.\n",
        "\n",
        "\n",
        "## **The optimal portfolio will have high return and low variance**"
      ],
      "metadata": {
        "id": "k9PPbhH6uoUY"
      }
    },
    {
      "cell_type": "markdown",
      "source": [
        "## 2 Variance is a number that represents how varied or spread out the numbers are in a set. For example, variance may tell how spread out the returns of a specific security are on a daily or weekly basis."
      ],
      "metadata": {
        "id": "TBiqbkwe6pK1"
      }
    },
    {
      "cell_type": "code",
      "source": [
        "mean_returns = supposed_return.mean()\n",
        "variances = supposed_return.var()\n"
      ],
      "metadata": {
        "id": "uFeAPiYv6bBn"
      },
      "execution_count": 36,
      "outputs": []
    },
    {
      "cell_type": "code",
      "source": [
        "score = mean_returns / variances\n",
        "\n",
        "score\n"
      ],
      "metadata": {
        "colab": {
          "base_uri": "https://localhost:8080/",
          "height": 484
        },
        "id": "RGrTmwq44cjP",
        "outputId": "23412da4-e0c9-4602-b7d9-03c716f969a3"
      },
      "execution_count": 37,
      "outputs": [
        {
          "output_type": "execute_result",
          "data": {
            "text/plain": [
              "Price   Ticker       \n",
              "Close   ADANIENT.NS      1.447990\n",
              "        APOLLOHOSP.NS    2.291628\n",
              "        ASIANPAINT.NS    3.424736\n",
              "        AXISBANK.NS      1.319229\n",
              "        BAJAJ-AUTO.NS    2.944119\n",
              "                           ...   \n",
              "Volume  TECHM.NS              NaN\n",
              "        TITAN.NS              NaN\n",
              "        ULTRACEMCO.NS         NaN\n",
              "        UPL.NS                NaN\n",
              "        WIPRO.NS              NaN\n",
              "Length: 235, dtype: float64"
            ],
            "text/html": [
              "<div>\n",
              "<style scoped>\n",
              "    .dataframe tbody tr th:only-of-type {\n",
              "        vertical-align: middle;\n",
              "    }\n",
              "\n",
              "    .dataframe tbody tr th {\n",
              "        vertical-align: top;\n",
              "    }\n",
              "\n",
              "    .dataframe thead th {\n",
              "        text-align: right;\n",
              "    }\n",
              "</style>\n",
              "<table border=\"1\" class=\"dataframe\">\n",
              "  <thead>\n",
              "    <tr style=\"text-align: right;\">\n",
              "      <th></th>\n",
              "      <th></th>\n",
              "      <th>0</th>\n",
              "    </tr>\n",
              "    <tr>\n",
              "      <th>Price</th>\n",
              "      <th>Ticker</th>\n",
              "      <th></th>\n",
              "    </tr>\n",
              "  </thead>\n",
              "  <tbody>\n",
              "    <tr>\n",
              "      <th rowspan=\"5\" valign=\"top\">Close</th>\n",
              "      <th>ADANIENT.NS</th>\n",
              "      <td>1.447990</td>\n",
              "    </tr>\n",
              "    <tr>\n",
              "      <th>APOLLOHOSP.NS</th>\n",
              "      <td>2.291628</td>\n",
              "    </tr>\n",
              "    <tr>\n",
              "      <th>ASIANPAINT.NS</th>\n",
              "      <td>3.424736</td>\n",
              "    </tr>\n",
              "    <tr>\n",
              "      <th>AXISBANK.NS</th>\n",
              "      <td>1.319229</td>\n",
              "    </tr>\n",
              "    <tr>\n",
              "      <th>BAJAJ-AUTO.NS</th>\n",
              "      <td>2.944119</td>\n",
              "    </tr>\n",
              "    <tr>\n",
              "      <th>...</th>\n",
              "      <th>...</th>\n",
              "      <td>...</td>\n",
              "    </tr>\n",
              "    <tr>\n",
              "      <th rowspan=\"5\" valign=\"top\">Volume</th>\n",
              "      <th>TECHM.NS</th>\n",
              "      <td>NaN</td>\n",
              "    </tr>\n",
              "    <tr>\n",
              "      <th>TITAN.NS</th>\n",
              "      <td>NaN</td>\n",
              "    </tr>\n",
              "    <tr>\n",
              "      <th>ULTRACEMCO.NS</th>\n",
              "      <td>NaN</td>\n",
              "    </tr>\n",
              "    <tr>\n",
              "      <th>UPL.NS</th>\n",
              "      <td>NaN</td>\n",
              "    </tr>\n",
              "    <tr>\n",
              "      <th>WIPRO.NS</th>\n",
              "      <td>NaN</td>\n",
              "    </tr>\n",
              "  </tbody>\n",
              "</table>\n",
              "<p>235 rows × 1 columns</p>\n",
              "</div><br><label><b>dtype:</b> float64</label>"
            ]
          },
          "metadata": {},
          "execution_count": 37
        }
      ]
    },
    {
      "cell_type": "markdown",
      "source": [
        "### 2.1 After finding out the score of the all the nifty fifty , we see the top two score\n"
      ],
      "metadata": {
        "id": "pNoOeLrT48dK"
      }
    },
    {
      "cell_type": "code",
      "source": [
        "top_2_stocks = score.sort_values(ascending=False).head(2).index.tolist()\n",
        "print(top_2_stocks)\n",
        "\n"
      ],
      "metadata": {
        "colab": {
          "base_uri": "https://localhost:8080/"
        },
        "id": "1e_0OJE3CAxj",
        "outputId": "c767ead6-9589-4824-ca76-dc4009ada3e6"
      },
      "execution_count": 38,
      "outputs": [
        {
          "output_type": "stream",
          "name": "stdout",
          "text": [
            "[('Close', 'BRITANNIA.NS'), ('High', 'HINDUNILVR.NS')]\n"
          ]
        }
      ]
    },
    {
      "cell_type": "markdown",
      "source": [
        "###2.2 Here we have identified the top 2 stocks which have the highest score\n",
        "-- these are going to be constant in all the portfolios\n",
        "\n",
        "-- We are then going to make the combination of the portfolios\n"
      ],
      "metadata": {
        "id": "eERuzv7SWeSt"
      }
    },
    {
      "cell_type": "code",
      "source": [
        "portfolios = []\n",
        "for i in range(4):\n",
        "    # Randomly pick 4 stocks from remaining stocks (excluding the fixed 2)\n",
        "    random_stocks = random.sample(\n",
        "        [s for s in supposed_return.columns if s not in top_2_stocks], 4\n",
        "    )\n",
        "\n",
        "    # Add the fixed 2 stocks to the random 4 stocks\n",
        "    portfolio = top_2_stocks + random_stocks\n",
        "\n",
        "    # Save the portfolio\n",
        "    portfolios.append(portfolio)\n",
        "\n",
        "\n"
      ],
      "metadata": {
        "id": "osd9e3sBWZIE"
      },
      "execution_count": 39,
      "outputs": []
    },
    {
      "cell_type": "code",
      "source": [
        "for idx, pf in enumerate(portfolios):\n",
        "    print(f\"Portfolio {idx+1}: {pf}\")"
      ],
      "metadata": {
        "colab": {
          "base_uri": "https://localhost:8080/"
        },
        "id": "H-O2NPXxzk4U",
        "outputId": "f15ccb35-a557-4e11-86ca-b17200ebaefc"
      },
      "execution_count": null,
      "outputs": [
        {
          "output_type": "stream",
          "name": "stdout",
          "text": [
            "Portfolio 1: [('Close', 'BRITANNIA.NS'), ('High', 'HINDUNILVR.NS'), ('Low', 'BHARTIARTL.NS'), ('Volume', 'INDUSINDBK.NS'), ('High', 'HINDALCO.NS'), ('Low', 'HDFCBANK.NS')]\n",
            "Portfolio 2: [('Close', 'BRITANNIA.NS'), ('High', 'HINDUNILVR.NS'), ('High', 'ONGC.NS'), ('Volume', 'HDFCBANK.NS'), ('Low', 'ICICIBANK.NS'), ('Low', 'GRASIM.NS')]\n",
            "Portfolio 3: [('Close', 'BRITANNIA.NS'), ('High', 'HINDUNILVR.NS'), ('Close', 'EICHERMOT.NS'), ('High', 'EICHERMOT.NS'), ('Close', 'KOTAKBANK.NS'), ('Open', 'BPCL.NS')]\n",
            "Portfolio 4: [('Close', 'BRITANNIA.NS'), ('High', 'HINDUNILVR.NS'), ('Low', 'ITC.NS'), ('Low', 'HINDUNILVR.NS'), ('Low', 'BAJFINANCE.NS'), ('High', 'LT.NS')]\n"
          ]
        }
      ]
    },
    {
      "cell_type": "markdown",
      "source": [
        "## 3. Now we have to calculate the mean returns of all the portfolios."
      ],
      "metadata": {
        "id": "RBkk8CF43wux"
      }
    },
    {
      "cell_type": "code",
      "source": [
        "portfolio_returns = []\n",
        "for idx, portfolio in enumerate(portfolios):\n",
        "    # Get mean return for selected stocks\n",
        "    sub_returns = supposed_return[portfolio]\n",
        "\n",
        "    # Equal weights for each stock\n",
        "    weights = np.array([1/6] * 6)\n",
        "\n",
        "    # Mean return for the portfolio\n",
        "    mean_portfolio_return = np.dot(weights, sub_returns.mean())\n",
        "\n",
        "\n",
        "# weights = np.array([1/6] * 6)\n",
        "\n",
        "# for i, pf in enumerate(portfolios, 1):\n",
        "#     pf_returns = supposed_return[pf].dot(weights)\n",
        "#     cum_returns = (1 + pf_returns).cumprod()\n",
        "#     cumulative_returns[f'Portfolio {i}'] = cum_returns\n",
        "\n",
        "mean_portfolio_return"
      ],
      "metadata": {
        "id": "lmYlChz94xeX",
        "colab": {
          "base_uri": "https://localhost:8080/"
        },
        "outputId": "13666941-c19d-48d7-e63b-18c3bcb0dd73"
      },
      "execution_count": 65,
      "outputs": [
        {
          "output_type": "execute_result",
          "data": {
            "text/plain": [
              "np.float64(inf)"
            ]
          },
          "metadata": {},
          "execution_count": 65
        }
      ]
    },
    {
      "cell_type": "code",
      "source": [
        "mean_returns_df = pd.DataFrame(portfolio_returns)\n",
        "\n",
        "portfolio_returns.append({\n",
        "        'Portfolio': f'Portfolio {idx + 1}',\n",
        "        'Stocks': portfolio,\n",
        "        'Mean Return': mean_portfolio_return\n",
        "\n",
        "    })"
      ],
      "metadata": {
        "id": "_9tHIjL6Jdj1"
      },
      "execution_count": 61,
      "outputs": []
    },
    {
      "cell_type": "markdown",
      "source": [
        "### 3.1 After finding out the pairs of the returns , we need to find the covarience matrix of each portfolio\n"
      ],
      "metadata": {
        "id": "sfYp-PATLXGn"
      }
    },
    {
      "cell_type": "code",
      "source": [
        "\n",
        "print(\"📐 Covariance Matrices for Each Portfolio:\\n\")\n",
        "\n",
        "for i, pf in enumerate(portfolios, 1):\n",
        "    cov_matrix = supposed_return[pf].cov()\n",
        "    print(f\"\\n📊 Portfolio {i} Covariance Matrix:\")\n",
        "    print(cov_matrix.round(6))"
      ],
      "metadata": {
        "colab": {
          "base_uri": "https://localhost:8080/"
        },
        "id": "mqZuOp7FKV1c",
        "outputId": "1198ef5a-f5b1-4125-e4fc-6bb34ce2481a"
      },
      "execution_count": 62,
      "outputs": [
        {
          "output_type": "stream",
          "name": "stdout",
          "text": [
            "📐 Covariance Matrices for Each Portfolio:\n",
            "\n",
            "\n",
            "📊 Portfolio 1 Covariance Matrix:\n",
            "Price                       Close          High     Volume          Low  \\\n",
            "Ticker               BRITANNIA.NS HINDUNILVR.NS HCLTECH.NS NESTLEIND.NS   \n",
            "Price  Ticker                                                             \n",
            "Close  BRITANNIA.NS      0.000256      0.000059        NaN     0.000051   \n",
            "High   HINDUNILVR.NS     0.000059      0.000182        NaN     0.000046   \n",
            "Volume HCLTECH.NS             NaN           NaN        NaN          NaN   \n",
            "Low    NESTLEIND.NS      0.000051      0.000046        NaN     0.000194   \n",
            "       UPL.NS            0.000069      0.000030        NaN     0.000069   \n",
            "Close  HEROMOTOCO.NS     0.000069      0.000036        NaN     0.000031   \n",
            "\n",
            "Price                                  Close  \n",
            "Ticker                  UPL.NS HEROMOTOCO.NS  \n",
            "Price  Ticker                                 \n",
            "Close  BRITANNIA.NS   0.000069      0.000069  \n",
            "High   HINDUNILVR.NS  0.000030      0.000036  \n",
            "Volume HCLTECH.NS          NaN           NaN  \n",
            "Low    NESTLEIND.NS   0.000069      0.000031  \n",
            "       UPL.NS         0.000507      0.000075  \n",
            "Close  HEROMOTOCO.NS  0.000075      0.000327  \n",
            "\n",
            "📊 Portfolio 2 Covariance Matrix:\n",
            "Price                      Close          High       Low          Open  \\\n",
            "Ticker              BRITANNIA.NS HINDUNILVR.NS   BPCL.NS ASIANPAINT.NS   \n",
            "Price Ticker                                                             \n",
            "Close BRITANNIA.NS      0.000256      0.000059  0.000056      0.000029   \n",
            "High  HINDUNILVR.NS     0.000059      0.000182  0.000034      0.000050   \n",
            "Low   BPCL.NS           0.000056      0.000034  0.000427      0.000070   \n",
            "Open  ASIANPAINT.NS     0.000029      0.000050  0.000070      0.000275   \n",
            "High  UPL.NS            0.000052      0.000037  0.000088      0.000058   \n",
            "Low   LT.NS             0.000062      0.000039  0.000138      0.000077   \n",
            "\n",
            "Price                    High       Low  \n",
            "Ticker                 UPL.NS     LT.NS  \n",
            "Price Ticker                             \n",
            "Close BRITANNIA.NS   0.000052  0.000062  \n",
            "High  HINDUNILVR.NS  0.000037  0.000039  \n",
            "Low   BPCL.NS        0.000088  0.000138  \n",
            "Open  ASIANPAINT.NS  0.000058  0.000077  \n",
            "High  UPL.NS         0.000397  0.000105  \n",
            "Low   LT.NS          0.000105  0.000303  \n",
            "\n",
            "📊 Portfolio 3 Covariance Matrix:\n",
            "Price                       Close          High      Volume        Close  \\\n",
            "Ticker               BRITANNIA.NS HINDUNILVR.NS DIVISLAB.NS ICICIBANK.NS   \n",
            "Price  Ticker                                                              \n",
            "Close  BRITANNIA.NS      0.000256      0.000059         NaN     0.000075   \n",
            "High   HINDUNILVR.NS     0.000059      0.000182         NaN     0.000038   \n",
            "Volume DIVISLAB.NS            NaN           NaN         NaN          NaN   \n",
            "Close  ICICIBANK.NS      0.000075      0.000038         NaN     0.000416   \n",
            "Volume BAJAJFINSV.NS          NaN           NaN         NaN          NaN   \n",
            "       WIPRO.NS               NaN           NaN         NaN          NaN   \n",
            "\n",
            "Price                       Volume           \n",
            "Ticker               BAJAJFINSV.NS WIPRO.NS  \n",
            "Price  Ticker                                \n",
            "Close  BRITANNIA.NS            NaN      NaN  \n",
            "High   HINDUNILVR.NS           NaN      NaN  \n",
            "Volume DIVISLAB.NS             NaN      NaN  \n",
            "Close  ICICIBANK.NS            NaN      NaN  \n",
            "Volume BAJAJFINSV.NS           NaN      NaN  \n",
            "       WIPRO.NS                NaN      NaN  \n",
            "\n",
            "📊 Portfolio 4 Covariance Matrix:\n",
            "Price                       Close          High        Volume      High  \\\n",
            "Ticker               BRITANNIA.NS HINDUNILVR.NS BAJAJFINSV.NS   NTPC.NS   \n",
            "Price  Ticker                                                             \n",
            "Close  BRITANNIA.NS      0.000256      0.000059           NaN  0.000023   \n",
            "High   HINDUNILVR.NS     0.000059      0.000182           NaN  0.000027   \n",
            "Volume BAJAJFINSV.NS          NaN           NaN           NaN       NaN   \n",
            "High   NTPC.NS           0.000023      0.000027           NaN  0.000223   \n",
            "Open   DIVISLAB.NS       0.000037      0.000039           NaN  0.000030   \n",
            "High   TATASTEEL.NS      0.000048      0.000044           NaN  0.000081   \n",
            "\n",
            "Price                       Open         High  \n",
            "Ticker               DIVISLAB.NS TATASTEEL.NS  \n",
            "Price  Ticker                                  \n",
            "Close  BRITANNIA.NS     0.000037     0.000048  \n",
            "High   HINDUNILVR.NS    0.000039     0.000044  \n",
            "Volume BAJAJFINSV.NS         NaN          NaN  \n",
            "High   NTPC.NS          0.000030     0.000081  \n",
            "Open   DIVISLAB.NS      0.000411     0.000065  \n",
            "High   TATASTEEL.NS     0.000065     0.000800  \n"
          ]
        },
        {
          "output_type": "stream",
          "name": "stderr",
          "text": [
            "/usr/local/lib/python3.11/dist-packages/numpy/lib/_function_base_impl.py:2767: RuntimeWarning: invalid value encountered in subtract\n",
            "  X -= avg[:, None]\n",
            "/usr/local/lib/python3.11/dist-packages/numpy/lib/_function_base_impl.py:2767: RuntimeWarning: invalid value encountered in subtract\n",
            "  X -= avg[:, None]\n",
            "/usr/local/lib/python3.11/dist-packages/numpy/lib/_function_base_impl.py:2767: RuntimeWarning: invalid value encountered in subtract\n",
            "  X -= avg[:, None]\n"
          ]
        }
      ]
    },
    {
      "cell_type": "markdown",
      "source": [
        "###3.2 Reading this covarince matrix\n",
        "\n",
        "--**The Matrix can be read as the diagonal as well as the off diagonal**\n",
        "\n",
        "-- **On one side we have the returns of each of the stocks with regards to each other and then the returns of the stocks with realtion of the other**\n",
        "\n",
        "-- **If the value is in negative then that means the movement of the returns is in the opposite direction**"
      ],
      "metadata": {
        "id": "I82l9GdRMeqg"
      }
    },
    {
      "cell_type": "code",
      "source": [
        "risk_free_rate = 0.0001\n",
        "\n",
        "for i, pf in enumerate(portfolios, 1):\n",
        "    pf_returns = supposed_return[pf].mean()\n",
        "    weights = np.array([1/6] * 6)\n",
        "\n",
        "    expected_return = np.dot(weights, pf_returns)\n",
        "    cov_matrix = supposed_return[pf].cov().values\n",
        "    variance = np.dot(weights.T, np.dot(cov_matrix, weights))\n",
        "    std_dev = np.sqrt(variance)\n",
        "    sharpe_ratio = (expected_return - risk_free_rate) / std_dev\n",
        "\n",
        "    print(f\"Portfolio {i}:\")\n",
        "    print(f\"  Expected Return  = {expected_return:.6f}\")\n",
        "    print(f\"  Std Dev (Risk)   = {std_dev:.6f}\")\n",
        "    print(f\"  Sharpe Ratio     = {sharpe_ratio:.4f}\\n\")\n"
      ],
      "metadata": {
        "colab": {
          "base_uri": "https://localhost:8080/"
        },
        "id": "gj2_k7Y8RIr0",
        "outputId": "0d40027b-d438-40eb-fd63-f60a00919eb1"
      },
      "execution_count": 74,
      "outputs": [
        {
          "output_type": "stream",
          "name": "stdout",
          "text": [
            "Portfolio 1:\n",
            "  Expected Return  = inf\n",
            "  Std Dev (Risk)   = nan\n",
            "  Sharpe Ratio     = nan\n",
            "\n",
            "Portfolio 2:\n",
            "  Expected Return  = 0.000810\n",
            "  Std Dev (Risk)   = 0.010202\n",
            "  Sharpe Ratio     = 0.0696\n",
            "\n",
            "Portfolio 3:\n",
            "  Expected Return  = inf\n",
            "  Std Dev (Risk)   = nan\n",
            "  Sharpe Ratio     = nan\n",
            "\n",
            "Portfolio 4:\n",
            "  Expected Return  = inf\n",
            "  Std Dev (Risk)   = nan\n",
            "  Sharpe Ratio     = nan\n",
            "\n"
          ]
        },
        {
          "output_type": "stream",
          "name": "stderr",
          "text": [
            "/usr/local/lib/python3.11/dist-packages/numpy/lib/_function_base_impl.py:2767: RuntimeWarning: invalid value encountered in subtract\n",
            "  X -= avg[:, None]\n",
            "/usr/local/lib/python3.11/dist-packages/numpy/lib/_function_base_impl.py:2767: RuntimeWarning: invalid value encountered in subtract\n",
            "  X -= avg[:, None]\n",
            "/usr/local/lib/python3.11/dist-packages/numpy/lib/_function_base_impl.py:2767: RuntimeWarning: invalid value encountered in subtract\n",
            "  X -= avg[:, None]\n"
          ]
        }
      ]
    },
    {
      "cell_type": "markdown",
      "source": [
        "\n",
        "### 🔧 Step-by-Step Process:\n",
        "\n",
        "#### *1. Collect Data*\n",
        "•⁠  ⁠Historical price data of 50 stocks (daily/weekly/monthly returns)\n",
        "•⁠  ⁠Time horizon: at least 1–3 years is common\n",
        "\n",
        "#### *2. Calculate Returns and Covariance*\n",
        "•⁠  ⁠Compute *mean returns* of each stock\n",
        "•⁠  ⁠Compute *covariance matrix* of returns (shows how the returns of the stocks move together)\n",
        "\n",
        "#### *3. Generate All Combinations (Optional for small k)*\n",
        "•⁠  ⁠If you want exactly *4 stocks*, generate all combinations of 4 stocks from the 50:  \n",
        "  \\[\n",
        "  \\binom{50}{4} = 230300\n",
        "  \\]\n",
        "  This is computationally heavy, but possible with code (Python/R).\n",
        "\n",
        "#### *4. For Each 4-Stock Combination:*\n",
        "•⁠  ⁠Use *quadratic programming* to find the *efficient frontier* and *optimal weights* for the 4 assets\n",
        "•⁠  ⁠Calculate:\n",
        "  - *Expected return* of the portfolio\n",
        "  - *Portfolio variance (risk)*\n",
        "  - *Sharpe Ratio* (if risk-free rate is available)\n",
        "\n",
        "#### *5. Select the Best Combination*\n",
        "•⁠  ⁠Choose the 4-stock portfolio that has:\n",
        "  - Highest Sharpe Ratio, or\n",
        "  - Minimum risk for desired return, or\n",
        "  - Maximum return for a given level of risk\n",
        "\n",
        "---\n",
        "\n"
      ],
      "metadata": {
        "id": "I2-XJ8-5_4LG"
      }
    }
  ]
}