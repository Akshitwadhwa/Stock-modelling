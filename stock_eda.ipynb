{
  "nbformat": 4,
  "nbformat_minor": 0,
  "metadata": {
    "colab": {
      "provenance": [],
      "toc_visible": true,
      "authorship_tag": "ABX9TyNOhFRtCF2LNEnYUJ9vW/Tt",
      "include_colab_link": true
    },
    "kernelspec": {
      "name": "python3",
      "display_name": "Python 3"
    },
    "language_info": {
      "name": "python"
    }
  },
  "cells": [
    {
      "cell_type": "markdown",
      "metadata": {
        "id": "view-in-github",
        "colab_type": "text"
      },
      "source": [
        "<a href=\"https://colab.research.google.com/github/Akshitwadhwa/Stock-modelling/blob/main/stock_eda.ipynb\" target=\"_parent\"><img src=\"https://colab.research.google.com/assets/colab-badge.svg\" alt=\"Open In Colab\"/></a>"
      ]
    },
    {
      "cell_type": "markdown",
      "source": [
        "# 1.This is the colab notebook containing the information and extraction of various stocks using Y-finance and visualize the different aspects of those stocks."
      ],
      "metadata": {
        "id": "Qn-EB29WY98a"
      }
    },
    {
      "cell_type": "markdown",
      "source": [
        "## So to accomplish that we are going to be using the Y-Finance library which is available on google collab"
      ],
      "metadata": {
        "id": "2lFV3a5EZMFy"
      }
    },
    {
      "cell_type": "markdown",
      "source": [
        "## what is a optimized portfolio , an optimized porfolio"
      ],
      "metadata": {
        "id": "iO_J3Vi-8suW"
      }
    },
    {
      "cell_type": "code",
      "source": [
        "# importing the libraries\n",
        "import pandas as pd\n",
        "import numpy as np\n",
        "import yfinance as yf"
      ],
      "metadata": {
        "id": "Q60OvEqWZPiR"
      },
      "execution_count": 1,
      "outputs": []
    },
    {
      "cell_type": "code",
      "source": [
        "import matplotlib.pyplot as plt\n",
        "# this is package which is used to make graphs\n"
      ],
      "metadata": {
        "id": "z60UhtFoZVWz"
      },
      "execution_count": 2,
      "outputs": []
    },
    {
      "cell_type": "code",
      "source": [
        "nifty50_stocks = [\n",
        "    \"RELIANCE.NS\", \"TCS.NS\", \"INFY.NS\", \"HDFCBANK.NS\", \"ICICIBANK.NS\",\n",
        "    \"HINDUNILVR.NS\", \"SBIN.NS\", \"BAJFINANCE.NS\", \"HDFC.NS\", \"BHARTIARTL.NS\",\n",
        "    \"KOTAKBANK.NS\", \"ITC.NS\", \"LT.NS\", \"ASIANPAINT.NS\", \"AXISBANK.NS\",\n",
        "    \"HCLTECH.NS\", \"TITAN.NS\", \"MARUTI.NS\", \"ULTRACEMCO.NS\", \"WIPRO.NS\"]\n",
        "\n",
        "    # what this will do is it is creating a list of the stocks on the nifty that\n"
      ],
      "metadata": {
        "id": "N8TZtIdHZgXe"
      },
      "execution_count": 3,
      "outputs": []
    },
    {
      "cell_type": "code",
      "source": [
        "stock_data = []\n",
        "\n",
        "# this is the stock data we had given it before... it is being called in the data in the form of a datafram\n",
        "\n",
        "for stock in nifty50_stocks:\n",
        "    try:\n",
        "        info = yf.Ticker(stock).info\n",
        "        stock_data.append({\n",
        "            \"Symbol\": stock,\n",
        "            \"PE Ratio\": info.get(\"trailingPE\", None),\n",
        "            \"Market Cap\": info.get(\"marketCap\", None),\n",
        "            \"Avg Volume\": info.get(\"averageVolume\", None)\n",
        "        })\n",
        "\n",
        "\n",
        "    except Exception as e:\n",
        "        print(f\"Error fetching data for {stock}: {e}\")"
      ],
      "metadata": {
        "id": "NDCKgjdEbbY5"
      },
      "execution_count": 4,
      "outputs": []
    },
    {
      "cell_type": "markdown",
      "source": [
        "## what does the above mentioned terminologies mean\n",
        "--- What pe ration does is that it compares how expensice th"
      ],
      "metadata": {
        "id": "TwV1fV--d4z4"
      }
    },
    {
      "cell_type": "code",
      "source": [],
      "metadata": {
        "id": "q4Xlsd9nesP5"
      },
      "execution_count": 4,
      "outputs": []
    },
    {
      "cell_type": "code",
      "source": [
        "df = pd.DataFrame(stock_data)"
      ],
      "metadata": {
        "id": "f9x32CbN1kvu"
      },
      "execution_count": 5,
      "outputs": []
    },
    {
      "cell_type": "code",
      "source": [
        "# Apply filters (modify as needed)\n",
        "pe_min, pe_max = 10, 30\n",
        "market_cap_min = 50000000000 # Minimum 50,00 Cr market cap\n",
        "volume_min = 1000000  # Minimum 10L average volume\n",
        "\n",
        "filtered_df = df[\n",
        "    (df[\"PE Ratio\"].between(pe_min, pe_max, inclusive=\"both\")) &\n",
        "    (df[\"Market Cap\"] >= market_cap_min) &\n",
        "    (df[\"Avg Volume\"] >= volume_min)\n",
        "]\n",
        "\n",
        "# Select random stocks from filtered ones\n",
        "num_stocks = 5\n",
        "selected_stocks = filtered_df.sample(min(num_stocks, len(filtered_df)))\n",
        "\n",
        "# Display results\n",
        "print(\"Filtered & Randomly Selected Stocks:\")\n",
        "print(selected_stocks)"
      ],
      "metadata": {
        "colab": {
          "base_uri": "https://localhost:8080/"
        },
        "id": "uj07Cj221mNz",
        "outputId": "2b5e6fe2-3d3a-4044-d648-dcf315abb3cf"
      },
      "execution_count": 6,
      "outputs": [
        {
          "output_type": "stream",
          "name": "stdout",
          "text": [
            "Filtered & Randomly Selected Stocks:\n",
            "          Symbol   PE Ratio    Market Cap  Avg Volume\n",
            "4   ICICIBANK.NS  19.388380  9.482139e+12  10559910.0\n",
            "0    RELIANCE.NS  25.015646  1.730862e+13  11931494.0\n",
            "3    HDFCBANK.NS  20.403154  1.396051e+13  10938416.0\n",
            "2        INFY.NS  23.310183  6.535294e+12   6560079.0\n",
            "11        ITC.NS  25.612180  5.157061e+12  15016586.0\n"
          ]
        }
      ]
    }
  ]
}